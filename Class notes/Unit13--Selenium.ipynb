{
 "cells": [
  {
   "cell_type": "markdown",
   "metadata": {},
   "source": [
    "【東吳大學資管系】資料工程實務與應用<br>\n",
    "【授課老師】[陳祥輝 (Email : HsiangHui.Chen@gmail.com)](mailto:HsiangHui.Chen@gmail.com)<br>\n",
    "【facebook】[陳祥輝老師的臉書 (歡迎加好友)](https://goo.gl/osivhx)<br>\n",
    "【相關課程】[陳祥輝老師的課程]\n",
    "- [【東吳大學推廣部】](https://www.ext.scu.edu.tw/courses_search.php?key=陳祥輝)\n",
    "- [【臺北大學推廣教育】](https://dce.ntpu.edu.tw/page-search.php?q=陳祥輝)"
   ]
  },
  {
   "cell_type": "markdown",
   "metadata": {},
   "source": [
    "### <font color=#0000FF>[【Selenium】](https://www.seleniumhq.org/)</font>\n",
    "1. <font color=#FF0000>Selenium IDE</font>\n",
    "2. <font color=#FF0000>Selenium WebDriver</font>\n",
    "    - [【Chrome WebDriver下載處】](https://sites.google.com/chromium.org/driver/)\n",
    "3. <font color=#FF0000>Selenium Remote Control</font>\n",
    "4. <font color=#FF0000>Selenium Grid</font>  "
   ]
  },
  {
   "cell_type": "markdown",
   "metadata": {},
   "source": [
    "#### 【Selenium IDE】資料來源 : <https://www.guru99.com/introduction-selenuim-ide.html>\n",
    "<img src='https://www.guru99.com/images/ide_-_labelled_parts.png' width=500 align=left></img>"
   ]
  },
  {
   "cell_type": "markdown",
   "metadata": {},
   "source": [
    "#### 【Selenium WebDriver】<br>\n",
    "<img src=\"http://180.218.162.136:2018/Images/Spider/Selenium001.jpg\" width=400 align=left></img>"
   ]
  },
  {
   "cell_type": "markdown",
   "metadata": {},
   "source": [
    "#### 【Selenium Remote Control】<br>\n",
    "<img src=\"http://180.218.162.136:2018/Images/Spider/Selenium002.jpg\" width=500 align=left></img>"
   ]
  },
  {
   "cell_type": "markdown",
   "metadata": {},
   "source": [
    "#### 【Selenium Grid】<br>\n",
    "<img src=\"http://180.218.162.136:2018/Images/Spider/Selenium003.jpg\" width=500 align=left></img>"
   ]
  },
  {
   "cell_type": "markdown",
   "metadata": {},
   "source": [
    "【可測試的網站】\n",
    "- [PCHOME 24h購物](https://24h.pchome.com.tw/)\n",
    "    - <https://24h.pchome.com.tw/>\n",
    "- [Fate/Grand Order](https://kazemai.github.io/fgo-vz/servant.html)\n",
    "    - <https://kazemai.github.io/fgo-vz/servant.html>"
   ]
  },
  {
   "cell_type": "code",
   "execution_count": 1,
   "metadata": {},
   "outputs": [
    {
     "name": "stdout",
     "output_type": "stream",
     "text": [
      "Requirement already satisfied: BeautifulSoup4 in c:\\users\\sandy\\.conda\\envs\\py39\\lib\\site-packages (4.11.1)\n",
      "Requirement already satisfied: soupsieve>1.2 in c:\\users\\sandy\\.conda\\envs\\py39\\lib\\site-packages (from BeautifulSoup4) (2.3.1)\n"
     ]
    }
   ],
   "source": [
    "!pip install --upgrade BeautifulSoup4"
   ]
  },
  {
   "cell_type": "code",
   "execution_count": 2,
   "metadata": {},
   "outputs": [
    {
     "name": "stdout",
     "output_type": "stream",
     "text": [
      "Requirement already satisfied: requests in c:\\users\\sandy\\.conda\\envs\\py39\\lib\\site-packages (2.28.1)\n",
      "Requirement already satisfied: idna<4,>=2.5 in c:\\users\\sandy\\.conda\\envs\\py39\\lib\\site-packages (from requests) (3.3)\n",
      "Requirement already satisfied: urllib3<1.27,>=1.21.1 in c:\\users\\sandy\\.conda\\envs\\py39\\lib\\site-packages (from requests) (1.26.9)\n",
      "Requirement already satisfied: certifi>=2017.4.17 in c:\\users\\sandy\\.conda\\envs\\py39\\lib\\site-packages (from requests) (2021.10.8)\n",
      "Requirement already satisfied: charset-normalizer<3,>=2 in c:\\users\\sandy\\.conda\\envs\\py39\\lib\\site-packages (from requests) (2.0.4)\n"
     ]
    }
   ],
   "source": [
    "!pip install --upgrade requests"
   ]
  },
  {
   "cell_type": "code",
   "execution_count": 3,
   "metadata": {},
   "outputs": [
    {
     "name": "stdout",
     "output_type": "stream",
     "text": [
      "Collecting selenium\n",
      "  Downloading selenium-4.6.1-py3-none-any.whl (6.0 MB)\n",
      "Collecting trio-websocket~=0.9\n",
      "  Downloading trio_websocket-0.9.2-py3-none-any.whl (16 kB)\n",
      "Collecting trio~=0.17\n",
      "  Downloading trio-0.22.0-py3-none-any.whl (384 kB)\n",
      "Requirement already satisfied: urllib3[socks]~=1.26 in c:\\users\\sandy\\.conda\\envs\\py39\\lib\\site-packages (from selenium) (1.26.9)\n",
      "Requirement already satisfied: certifi>=2021.10.8 in c:\\users\\sandy\\.conda\\envs\\py39\\lib\\site-packages (from selenium) (2021.10.8)\n",
      "Collecting async-generator>=1.9\n",
      "  Downloading async_generator-1.10-py3-none-any.whl (18 kB)\n",
      "Requirement already satisfied: idna in c:\\users\\sandy\\.conda\\envs\\py39\\lib\\site-packages (from trio~=0.17->selenium) (3.3)\n",
      "Collecting exceptiongroup>=1.0.0rc9\n",
      "  Downloading exceptiongroup-1.0.4-py3-none-any.whl (14 kB)\n",
      "Collecting outcome\n",
      "  Downloading outcome-1.2.0-py2.py3-none-any.whl (9.7 kB)\n",
      "Requirement already satisfied: sortedcontainers in c:\\users\\sandy\\.conda\\envs\\py39\\lib\\site-packages (from trio~=0.17->selenium) (2.4.0)\n",
      "Requirement already satisfied: attrs>=19.2.0 in c:\\users\\sandy\\.conda\\envs\\py39\\lib\\site-packages (from trio~=0.17->selenium) (21.4.0)\n",
      "Requirement already satisfied: sniffio in c:\\users\\sandy\\.conda\\envs\\py39\\lib\\site-packages (from trio~=0.17->selenium) (1.2.0)\n",
      "Requirement already satisfied: cffi>=1.14 in c:\\users\\sandy\\.conda\\envs\\py39\\lib\\site-packages (from trio~=0.17->selenium) (1.15.0)\n",
      "Requirement already satisfied: pycparser in c:\\users\\sandy\\.conda\\envs\\py39\\lib\\site-packages (from cffi>=1.14->trio~=0.17->selenium) (2.21)\n",
      "Collecting wsproto>=0.14\n",
      "  Downloading wsproto-1.2.0-py3-none-any.whl (24 kB)\n",
      "Requirement already satisfied: PySocks!=1.5.7,<2.0,>=1.5.6 in c:\\users\\sandy\\.conda\\envs\\py39\\lib\\site-packages (from urllib3[socks]~=1.26->selenium) (1.7.1)\n",
      "Collecting h11<1,>=0.9.0\n",
      "  Downloading h11-0.14.0-py3-none-any.whl (58 kB)\n",
      "Installing collected packages: outcome, h11, exceptiongroup, async-generator, wsproto, trio, trio-websocket, selenium\n",
      "Successfully installed async-generator-1.10 exceptiongroup-1.0.4 h11-0.14.0 outcome-1.2.0 selenium-4.6.1 trio-0.22.0 trio-websocket-0.9.2 wsproto-1.2.0\n"
     ]
    }
   ],
   "source": [
    "!pip install selenium"
   ]
  },
  {
   "cell_type": "code",
   "execution_count": 4,
   "metadata": {},
   "outputs": [
    {
     "name": "stdout",
     "output_type": "stream",
     "text": [
      "【現在時間】2022/11/30 13:38:09\n",
      "【所在目錄】C:\\資料工程\n",
      "【主機名稱】LAPTOP-HN8S2UQE (163.14.34.147)\n",
      "【Python】3.9.12\n",
      "【BeautifulSoup4】4.11.1\n",
      "【requests】2.28.1\n",
      "【Selenium】4.6.1\n"
     ]
    },
    {
     "data": {
      "application/javascript": [
       "IPython.notebook.set_autosave_interval(120000)"
      ]
     },
     "metadata": {},
     "output_type": "display_data"
    },
    {
     "name": "stdout",
     "output_type": "stream",
     "text": [
      "Autosaving every 120 seconds\n"
     ]
    }
   ],
   "source": [
    "#coding=utf-8\n",
    "from platform import python_version\n",
    "import sys, os, time, socket, json\n",
    "import numpy as np\n",
    "import pandas as pd\n",
    "from IPython.display import clear_output\n",
    "\n",
    "import selenium\n",
    "from selenium import webdriver\n",
    "from selenium.webdriver.common.desired_capabilities import DesiredCapabilities\n",
    "from selenium.webdriver.common.by import *\n",
    "\n",
    "import bs4\n",
    "from bs4 import BeautifulSoup\n",
    "import requests\n",
    "\n",
    "print(\"【現在時間】{}\".format(time.strftime(\"%Y/%m/%d %H:%M:%S\")))\n",
    "print(\"【所在目錄】{}\".format(os.getcwd()))\n",
    "print(\"【主機名稱】{} ({})\".format(socket.gethostname(),socket.gethostbyname(socket.gethostname())))\n",
    "print(\"【Python】{}\".format(python_version()))\n",
    "print(\"【BeautifulSoup4】{}\".format(bs4.__version__))\n",
    "print(\"【requests】{}\".format(requests.__version__))\n",
    "print(\"【Selenium】{}\".format(selenium.__version__))\n",
    "\n",
    "%autosave 120"
   ]
  },
  {
   "cell_type": "markdown",
   "metadata": {},
   "source": [
    "### <font color=#0000FF>安裝瀏覽器驅動程式</font>\n",
    "* [各個瀏覽器驅動下載網址](https://www.seleniumhq.org/download/)\n",
    "    * [Chrome瀏覽器驅動程式下載](https://chromedriver.storage.googleapis.com/index.html?path=2.38/)\n",
    "    * [Firefox瀏覽器驅動程式下載](https://github.com/mozilla/geckodriver/releases)\n",
    "\n",
    "----\n",
    "[安裝說明]\n",
    "1. 檔案下載後，至於某一目錄(例如 : C:\\WebDrivers)下解壓縮，例如 : <font color=#FF0000>C:\\WebDrivers</font>\n",
    "    -  <https://www.seleniumhq.org/download/>\n",
    "2. 使用方式分為以下兩種 : \n",
    "    - 在系統 PATH 加入該目錄(例如 : C:\\WebDrivers)\n",
    "        - driver=webdriver.Chrome()\n",
    "        - driver=webdriver.Firefox()\n",
    "    - 直接開啟驅動程式(chromedriver.exe / geckodriver.exe)\n",
    "        - driver=webdriver.Chrome(executable_path=r'D:\\WebDrivers\\chromedriver.exe')\n",
    "        - driver=webdriver.Firefox(executable_path=r'D:\\WebDrivers\\geckodriver.exe')"
   ]
  },
  {
   "cell_type": "markdown",
   "metadata": {},
   "source": [
    "### [WebDriver HTML Locating Elements API](https://selenium-python.readthedocs.io/locating-elements.html)\n",
    "\n",
    "To find an element:\n",
    "- <font color=#0000FF>find_element</font> : 以下幾種的通用寫法\n",
    "- find_element_by_id\n",
    "- find_element_by_name\n",
    "- find_element_by_xpath\n",
    "- find_element_by_link_text\n",
    "- find_element_by_partial_link_text\n",
    "- find_element_by_tag_name\n",
    "- find_element_by_class_name\n",
    "- find_element_by_css_selector\n",
    "\n",
    "To find multiple elements (these methods will return a list):\n",
    "- <font color=#0000FF>find_elements</font> : 以下幾種的通用寫法\n",
    "- find_elements_by_name\n",
    "- find_elements_by_xpath\n",
    "- find_elements_by_link_text\n",
    "- find_elements_by_partial_link_text\n",
    "- find_elements_by_tag_name\n",
    "- find_elements_by_class_name\n",
    "- find_elements_by_css_selector"
   ]
  },
  {
   "cell_type": "markdown",
   "metadata": {},
   "source": [
    "### <font color=#FF0000>Selenium的使用時機</font>\n",
    "- 為什麼使用一般的方式，卻抓不回看似簡單的新聞資料(例如 : 日期) ??\n",
    "- <https://www.wealth.com.tw/articles/05315bb9-6e08-4964-8b38-0010c6a619fa>\n",
    "- 優點 : 利用 Python 操控 Chrome 瀏覽器，可以解決 javascript 的問題\n",
    "- 缺點 : 很慢，還要常常使用 time.sleep(n)，否則執行太快會抓錯資料"
   ]
  },
  {
   "cell_type": "code",
   "execution_count": 5,
   "metadata": {},
   "outputs": [
    {
     "name": "stdout",
     "output_type": "stream",
     "text": [
      "<!doctype html><html lang=\"zh-Hant\"><head><title>財訊-掌握趨勢、投資未來｜最懂投資的財經媒體</title><meta charset=\"utf-8\"/><meta name=\"viewport\" content=\"initial-scale=1,maximum-scale=1\"/><meta name=\"description\" content=\"提供最具深度的即時財經新聞，涵蓋投資、財經、金融、科技、地產、生技、健康、政治、危老、都更主題，是台灣最資深也最權威的財經媒體。\" data-react-helmet=\"true\"/><link href=\"//fonts.googleapis.com/css?family=Roboto+Mono\" rel=\"stylesheet\"><link rel=\"icon\" href=\"/favicon.ico\" type=\"image/x-icon\"/><script>(function (w, d, s, l, i) {\n",
      "        w[l] = w[l] || []; w[l].push({\n",
      "          'gtm.start':\n",
      "            new Date().getTime(), event: 'gtm.js'\n",
      "        }); var f = d.getElementsByTagName(s)[0],\n",
      "          j = d.createElement(s), dl = l != 'dataLayer' ? '&l=' + l : ''; j.async = true; j.src =\n",
      "            'https://www.googletagmanager.com/gtm.js?id=' + i + dl; f.parentNode.insertBefore(j, f);\n",
      "      })(window, document, 'script', 'dataLayer', 'GTM-PLQR55H');</script><script>(function(w,d,s,l,i){w[l]=w[l]||[];w[l].push({'gtm.start':\n",
      "      new Date().getTime(),event:'gtm.js'});var f=d.getElementsByTagName(s)[0],\n",
      "      j=d.createElement(s),dl=l!='dataLayer'?'&l='+l:'';j.async=true;j.src=\n",
      "      'https://www.googletagmanager.com/gtm.js?id='+i+dl;f.parentNode.insertBefore(j,f);\n",
      "      })(window, document, 'script', 'dataLayer', 'GTM-T5LPHL4');</script><script>(function (w, d, s, l, i) {\n",
      "        w[l] = w[l] || []; w[l].push({\n",
      "          'gtm.start':\n",
      "            new Date().getTime(), event: 'gtm.js'\n",
      "        }); var f = d.getElementsByTagName(s)[0],\n",
      "          j = d.createElement(s), dl = l != 'dataLayer' ? '&l=' + l : ''; j.async = true; j.src =\n",
      "            'https://www.googletagmanager.com/gtm.js?id=' + i + dl; f.parentNode.insertBefore(j, f);\n",
      "      })(window, document, 'script', 'dataLayer', 'GTM-NGJJHPD');</script><script>window._taboola = window._taboola || [];\n",
      "      _taboola.push({ article: 'auto' });\n",
      "      !function (e, f, u, i) {\n",
      "        if (!document.getElementById(i)) {\n",
      "          e.async = 1;\n",
      "          e.src = u;\n",
      "          e.id = i;\n",
      "          f.parentNode.insertBefore(e, f);\n",
      "        }\n",
      "      }(document.createElement('script'),\n",
      "        document.getElementsByTagName('script')[0],\n",
      "        '//cdn.taboola.com/libtrc/salesfrontier-wealthcomtw/loader.js',\n",
      "        'tb_loader_script');\n",
      "      if (window.performance && typeof window.performance.mark == 'function') { window.performance.mark('tbl_ic'); }</script><script defer=\"defer\" src=\"/vendors.0778ac250ba26369c018.js\"></script><script defer=\"defer\" src=\"/main.99f2b18a1b1475a2ec78.js\"></script></head><body><noscript><iframe src=\"https://www.googletagmanager.com/ns.html?id=GTM-NGJJHPD\" height=\"0\" width=\"0\" style=\"display:none;visibility:hidden\"></iframe></noscript><div id=\"root\"></div><div id=\"portal-container\"></div><noscript><iframe src=\"https://www.googletagmanager.com/ns.html?id=GTM-PLQR55H\" height=\"0\" width=\"0\" style=\"display:none;visibility:hidden\"></iframe></noscript><noscript><iframe src=\"https://www.googletagmanager.com/ns.html?id=GTM-T5LPHL4\" height=\"0\" width=\"0\" style=\"display:none;visibility:hidden\"></iframe></noscript><script async src=\"https://www.googletagmanager.com/gtag/js?id=UA-57864110-1\"></script><script>window.dataLayer = window.dataLayer || [];\n",
      "      function gtag(){dataLayer.push(arguments);}\n",
      "      gtag('js', new Date());\n",
      "\n",
      "      gtag('config', 'UA-57864110-1', {\n",
      "        send_page_view: false,\n",
      "      });</script><script>!function(f,b,e,v,n,t,s)\n",
      "      {if(f.fbq)return;n=f.fbq=function(){n.callMethod?\n",
      "      n.callMethod.apply(n,arguments):n.queue.push(arguments)};\n",
      "      if(!f._fbq)f._fbq=n;n.push=n;n.loaded=!0;n.version='2.0';\n",
      "      n.queue=[];t=b.createElement(e);t.async=!0;\n",
      "      t.src=v;s=b.getElementsByTagName(e)[0];\n",
      "      s.parentNode.insertBefore(t,s)}(window, document,'script',\n",
      "      'https://connect.facebook.net/en_US/fbevents.js');\n",
      "      fbq('init', '300734664346994');\n",
      "      fbq('track', 'PageView');</script><noscript><img height=\"1\" width=\"1\" style=\"display:none\" src=\"https://www.facebook.com/tr?id=300734664346994&ev=PageView&noscript=1\"/></noscript><script>(function(g,d,o){\n",
      "        g._ltq=g._ltq||[];g._lt=g._lt||function(){g._ltq.push(arguments)};\n",
      "        var h=location.protocol==='https:'?'https://d.line-scdn.net':'http://d.line-cdn.net';\n",
      "        var s=d.createElement('script');s.async=1;\n",
      "        s.src=o||h+'/n/line_tag/public/release/v1/lt.js';\n",
      "        var t=d.getElementsByTagName('script')[0];t.parentNode.insertBefore(s,t);\n",
      "          })(window, document);\n",
      "      _lt('init', {\n",
      "        customerType: 'account',\n",
      "        tagId: '605317a3-e8d9-469d-b3ee-66ea175e07df'\n",
      "      });\n",
      "      _lt('send', 'pv', ['605317a3-e8d9-469d-b3ee-66ea175e07df']);</script><noscript><img height=\"1\" width=\"1\" style=\"display:none\" src=\"https://tr.line.me/tag.gif?c_t=lap&t_id=605317a3-e8d9-469d-b3ee-66ea175e07df&e=pv&noscript=1\"/></noscript><script>const vh = window.innerHeight * 0.01;\n",
      "      document.documentElement.style.setProperty('--vh', vh + 'px');\n",
      "\n",
      "      function resize() {\n",
      "        const vh = window.innerHeight * 0.01;\n",
      "        document.documentElement.style.setProperty('--vh', vh + 'px');\n",
      "      }\n",
      "\n",
      "      window.addEventListener('resize', resize);</script><script>window._taboola = window._taboola || [];\n",
      "      _taboola.push({ flush: true });</script></body></html>\n"
     ]
    }
   ],
   "source": [
    "url = 'https://www.wealth.com.tw/articles/05315bb9-6e08-4964-8b38-0010c6a619fa'\n",
    "resp = requests.request(method='GET', url=url)\n",
    "resp.encoding='utf-8'\n",
    "print(resp.text) "
   ]
  },
  {
   "cell_type": "markdown",
   "metadata": {},
   "source": [
    "### <font color=#FF0000>1. Selenium IDE (略)</font>"
   ]
  },
  {
   "cell_type": "code",
   "execution_count": null,
   "metadata": {},
   "outputs": [],
   "source": []
  },
  {
   "cell_type": "markdown",
   "metadata": {},
   "source": [
    "### <font color=#FF0000>2. Selenium WebDriver</font>"
   ]
  },
  {
   "cell_type": "markdown",
   "metadata": {},
   "source": [
    "<font color=#0000FF>如果驅動程式有在系統的 PATH 內，就可以不用指定可執行檔案，直接執行以下其中一個瀏覽器即可</font>\n",
    "- 可以利用以下查看目前系統環境的 PATH\n",
    "    - sys.path\n",
    "    - os.environ['path']\n",
    "    - os.environ.get('path')"
   ]
  },
  {
   "cell_type": "markdown",
   "metadata": {},
   "source": [
    "#### <font color=red>臨時性的將 C:\\WebDrivers 路徑加入環境變數 `PATH` 內</font>"
   ]
  },
  {
   "cell_type": "code",
   "execution_count": 6,
   "metadata": {},
   "outputs": [
    {
     "data": {
      "text/plain": [
       "['C:\\\\資料工程',\n",
       " 'C:\\\\Users\\\\sandy\\\\.conda\\\\envs\\\\Py39\\\\python39.zip',\n",
       " 'C:\\\\Users\\\\sandy\\\\.conda\\\\envs\\\\Py39\\\\DLLs',\n",
       " 'C:\\\\Users\\\\sandy\\\\.conda\\\\envs\\\\Py39\\\\lib',\n",
       " 'C:\\\\Users\\\\sandy\\\\.conda\\\\envs\\\\Py39',\n",
       " '',\n",
       " 'C:\\\\Users\\\\sandy\\\\.conda\\\\envs\\\\Py39\\\\lib\\\\site-packages',\n",
       " 'C:\\\\Users\\\\sandy\\\\.conda\\\\envs\\\\Py39\\\\lib\\\\site-packages\\\\win32',\n",
       " 'C:\\\\Users\\\\sandy\\\\.conda\\\\envs\\\\Py39\\\\lib\\\\site-packages\\\\win32\\\\lib',\n",
       " 'C:\\\\Users\\\\sandy\\\\.conda\\\\envs\\\\Py39\\\\lib\\\\site-packages\\\\Pythonwin']"
      ]
     },
     "execution_count": 6,
     "metadata": {},
     "output_type": "execute_result"
    }
   ],
   "source": [
    "sys.path"
   ]
  },
  {
   "cell_type": "code",
   "execution_count": 7,
   "metadata": {},
   "outputs": [
    {
     "name": "stdout",
     "output_type": "stream",
     "text": [
      "['C:\\\\資料工程', 'C:\\\\Users\\\\sandy\\\\.conda\\\\envs\\\\Py39\\\\python39.zip', 'C:\\\\Users\\\\sandy\\\\.conda\\\\envs\\\\Py39\\\\DLLs', 'C:\\\\Users\\\\sandy\\\\.conda\\\\envs\\\\Py39\\\\lib', 'C:\\\\Users\\\\sandy\\\\.conda\\\\envs\\\\Py39', '', 'C:\\\\Users\\\\sandy\\\\.conda\\\\envs\\\\Py39\\\\lib\\\\site-packages', 'C:\\\\Users\\\\sandy\\\\.conda\\\\envs\\\\Py39\\\\lib\\\\site-packages\\\\win32', 'C:\\\\Users\\\\sandy\\\\.conda\\\\envs\\\\Py39\\\\lib\\\\site-packages\\\\win32\\\\lib', 'C:\\\\Users\\\\sandy\\\\.conda\\\\envs\\\\Py39\\\\lib\\\\site-packages\\\\Pythonwin', 'C:\\\\WebDrivers']\n"
     ]
    }
   ],
   "source": [
    "if r'C:\\WebDrivers' not in sys.path :\n",
    "    sys.path.append(r'C:\\WebDrivers')\n",
    "\n",
    "print(sys.path)"
   ]
  },
  {
   "cell_type": "markdown",
   "metadata": {},
   "source": [
    "<font color=#0000FF>【啟動 Chrome 瀏覽器】</font>"
   ]
  },
  {
   "cell_type": "code",
   "execution_count": 8,
   "metadata": {},
   "outputs": [],
   "source": [
    "chrome = webdriver.Chrome(executable_path='chromedriver')"
   ]
  },
  {
   "cell_type": "markdown",
   "metadata": {},
   "source": [
    "#### <font color=#0000FF>連線 URL</font>"
   ]
  },
  {
   "cell_type": "code",
   "execution_count": 10,
   "metadata": {},
   "outputs": [],
   "source": [
    "url = 'http://news.ltn.com.tw/'\n",
    "chrome.get(url)"
   ]
  },
  {
   "cell_type": "code",
   "execution_count": 11,
   "metadata": {},
   "outputs": [],
   "source": [
    "url = 'http://www.google.com.tw'\n",
    "chrome.get(url)"
   ]
  },
  {
   "cell_type": "code",
   "execution_count": 12,
   "metadata": {},
   "outputs": [],
   "source": [
    "url = 'http://www.scu.edu.tw'\n",
    "chrome.get(url)"
   ]
  },
  {
   "cell_type": "code",
   "execution_count": 13,
   "metadata": {},
   "outputs": [],
   "source": [
    "chrome.back()"
   ]
  },
  {
   "cell_type": "code",
   "execution_count": 14,
   "metadata": {},
   "outputs": [],
   "source": [
    "chrome.forward()"
   ]
  },
  {
   "cell_type": "markdown",
   "metadata": {},
   "source": [
    "<font color=#0000FF>webdriver的關閉函數</font>\n",
    "- webdriver.close() : 關閉 WebDriver 目前開啟的瀏覽器視窗\n",
    "- webdriver.quit() : 除了關閉開啟的瀏覽器視窗之外，也關閉 webdriver 物件"
   ]
  },
  {
   "cell_type": "code",
   "execution_count": 15,
   "metadata": {},
   "outputs": [],
   "source": [
    "chrome.close()"
   ]
  },
  {
   "cell_type": "markdown",
   "metadata": {},
   "source": [
    "#### <font color=#0000FF>【同時開啟多個瀏覽器的控制】</font>"
   ]
  },
  {
   "cell_type": "code",
   "execution_count": 16,
   "metadata": {},
   "outputs": [],
   "source": [
    "urls = ['http://news.ltn.com.tw/',\n",
    "        'http://www.google.com.tw',\n",
    "        'http://www.scu.edu.tw']\n",
    "\n",
    "chromes = [webdriver.Chrome(executable_path='chromedriver') for _ in range(len(urls))]"
   ]
  },
  {
   "cell_type": "code",
   "execution_count": 17,
   "metadata": {},
   "outputs": [],
   "source": [
    "for idx, url in enumerate(urls, start=0) :\n",
    "    chromes[idx].get(url)"
   ]
  },
  {
   "cell_type": "code",
   "execution_count": 18,
   "metadata": {},
   "outputs": [],
   "source": [
    "for idx in range(len(urls)) :\n",
    "    chromes[idx].close()"
   ]
  },
  {
   "cell_type": "markdown",
   "metadata": {},
   "source": [
    "### <font color=#FF0000>3. Selenium Remote Control (略)</font>"
   ]
  },
  {
   "cell_type": "code",
   "execution_count": null,
   "metadata": {},
   "outputs": [],
   "source": []
  },
  {
   "cell_type": "markdown",
   "metadata": {},
   "source": [
    "### <font color=#FF0000>4.Selenium Grid (略)</font>"
   ]
  },
  {
   "cell_type": "code",
   "execution_count": null,
   "metadata": {},
   "outputs": [],
   "source": []
  },
  {
   "cell_type": "markdown",
   "metadata": {},
   "source": [
    "### <font color=#FF0000>5.練習Selenium的操作控制</font>\n",
    "- <font color=#0000FF>from selenium.webdriver.remote.webelement import WebElement</font>\n",
    "    - click() : 點擊滑鼠左鍵\n",
    "    - clear() : 清除資料\n",
    "    - send_keys() : 送出按鍵至目前的元素"
   ]
  },
  {
   "cell_type": "markdown",
   "metadata": {},
   "source": [
    "#### <font color=#0000FF>5-1. Selenium的操作控制--練習篇</font>\n",
    "- [練習Selenium的網頁](http://180.218.162.136:2018/練習Selenium操作用.html)"
   ]
  },
  {
   "cell_type": "code",
   "execution_count": 19,
   "metadata": {},
   "outputs": [],
   "source": [
    "url = \"http://180.218.162.136:2018/練習Selenium操作用.html\"\n",
    "chrome = webdriver.Chrome(executable_path='chromedriver')\n",
    "chrome.get(url)"
   ]
  },
  {
   "cell_type": "markdown",
   "metadata": {},
   "source": [
    "### 【NOTE】\n",
    "- .clear() : 清除資料\n",
    "- .send_keys() : 填入資料"
   ]
  },
  {
   "cell_type": "code",
   "execution_count": 21,
   "metadata": {},
   "outputs": [],
   "source": [
    "chrome.find_element(by=By.CSS_SELECTOR, \n",
    "                    value=\"#fname\").clear()  # 注意殘留資料\n",
    "chrome.find_element(by=By.CSS_SELECTOR, \n",
    "                    value=\"#fname\").send_keys(\"Dale\")"
   ]
  },
  {
   "cell_type": "code",
   "execution_count": 22,
   "metadata": {},
   "outputs": [],
   "source": [
    "chrome.find_element(by=By.CSS_SELECTOR, \n",
    "                    value=\"#lname\").clear()\n",
    "chrome.find_element(by=By.CSS_SELECTOR, \n",
    "                    value=\"#lname\").send_keys(\"Chen\")"
   ]
  },
  {
   "cell_type": "markdown",
   "metadata": {},
   "source": [
    "### 【NOTE】勾選 radio 選項(單選)\n",
    "- .click() : 點擊一下"
   ]
  },
  {
   "cell_type": "code",
   "execution_count": 23,
   "metadata": {},
   "outputs": [],
   "source": [
    "chrome.find_element(by=By.CSS_SELECTOR, value=\"#male\").click()\n",
    "time.sleep(2)\n",
    "chrome.find_element(by=By.CSS_SELECTOR, value=\"#female\").click()\n",
    "time.sleep(2)\n",
    "chrome.find_element(by=By.CSS_SELECTOR, value=\"#other\").click()"
   ]
  },
  {
   "cell_type": "markdown",
   "metadata": {},
   "source": [
    "### 【NOTE】勾選 checkbox 選項(複選)\n",
    "- .click() : 點擊一下就勾選，再點擊一下就取消"
   ]
  },
  {
   "cell_type": "code",
   "execution_count": 24,
   "metadata": {},
   "outputs": [],
   "source": [
    "chrome.find_element(by=By.CSS_SELECTOR, value=\"#vehicle1\").click()\n",
    "time.sleep(2)\n",
    "chrome.find_element(by=By.CSS_SELECTOR, value=\"#vehicle1\").click()\n",
    "time.sleep(2)\n",
    "chrome.find_element(by=By.CSS_SELECTOR, value=\"#vehicle2\").click()\n",
    "time.sleep(2)\n",
    "chrome.find_element(by=By.CSS_SELECTOR, value=\"#vehicle3\").click()"
   ]
  },
  {
   "cell_type": "markdown",
   "metadata": {},
   "source": [
    "### 【NOTE】下拉式表單的點選方式\n",
    "- .click() : 點擊"
   ]
  },
  {
   "cell_type": "code",
   "execution_count": null,
   "metadata": {},
   "outputs": [],
   "source": [
    "#cars > option:nth-child(3)"
   ]
  },
  {
   "cell_type": "code",
   "execution_count": 25,
   "metadata": {},
   "outputs": [],
   "source": [
    "chrome.find_element(by=By.CSS_SELECTOR, value=\"#cars > option:nth-child(3)\").click()\n",
    "time.sleep(2)\n",
    "chrome.find_element(by=By.CSS_SELECTOR, value=\"#cars > option:nth-child(5)\").click()\n",
    "time.sleep(2)\n",
    "chrome.find_element(by=By.CSS_SELECTOR, value=\"#cars > option:nth-child(2)\").click()"
   ]
  },
  {
   "cell_type": "markdown",
   "metadata": {},
   "source": [
    "#### <font color=#0000FF>5-2 Selenium的操作控制--PCHome 24h購物</font>\n",
    "- [PCHOME 24h購物](https://24h.pchome.com.tw/)"
   ]
  },
  {
   "cell_type": "code",
   "execution_count": 37,
   "metadata": {},
   "outputs": [],
   "source": [
    "url = \"https://24h.pchome.com.tw\"\n",
    "chrome = webdriver.Chrome(executable_path='chromedriver')\n",
    "chrome.get(url)"
   ]
  },
  {
   "cell_type": "code",
   "execution_count": 38,
   "metadata": {
    "scrolled": true
   },
   "outputs": [
    {
     "name": "stdout",
     "output_type": "stream",
     "text": [
      "['ASUS FX517ZE-0041D12650H 御鐵黑(i7-12650H/16G/RTX3050 Ti/512G PCIe/W11/FHD/144Hz/15.6)', 'ASUS FX506HM-0072B11400H 戰魂黑(i5-11400H/8G/RTX 3060-6G/512G PCIe/W11/FHD/144Hz)', 'ASUS FX506LHB-0291B10300H 戰魂黑(i5-10300H/8G/GTX-1650/512G PCIe/W11/FHD/144Hz/15.6)', 'ROG Strix G17 G713RC-0032F6800H(AMD R7-6800H/16G/RTX3050/512G PCIe/W11/144Hz/17.3)', 'ASUS FX506HC-0152B11400H 戰魂黑(i5-11400H/8G/RTX 3050/512G PCIe/W11/FHD/144Hz/15.6)', 'ASUS FA506ICB-0132B4800H 戰魂黑(AMD R7-4800H/8G/RTX3050/512G PCIe/W11/FHD/144Hz/15.6)', 'ASUS FA706ICB-0092B4600H 戰魂黑(AMD R5-4600H/8G/RTX3050/512G PCIe/W11/FHD/144Hz/17.3)', 'ASUS FA507RM-0021B6800H 御鐵灰(AMD R7-6800H/8GB/RTX3060/512G PCIe/W11/FHD/144Hz/15.6)', 'ASUS ROG Zephyrus G14 GA401QM-0032E5900HS 日蝕灰(R9-5900HS/16+16G/RTX3060-6G/1T PCIe/W10/WQHD', 'ASUS FA707RC-0021B6800H 御鐵灰(AMD R7-6800H/8G/RTX3050-4G/512G PCIe/W11/FHD/144Hz/17.3)', 'ASUS ROG Strix G17 G713RM-0042F6900HX 潮魂黑(R9-6900HX/16G/RTX-3060/1TB PCIE/W11/FHD/360Hz/17', 'ASUS FA507RE-0031B6800H 御鐵灰(AMD R7-6800H/8GB*2/RTX3050Ti-4G/512G PCIe/W11/FHD/144Hz)', 'ASUS FX517ZE-0041D12650H 御鐵黑(i7-12650H/16G/RTX3050 Ti/512G PCIe/W11/FHD/144Hz/15.6)', 'ASUS FX517ZE-0041D12650H 御鐵黑(i7-12650H/16G/RTX3050 Ti/512G PCIe/W11/FHD/144Hz/15.6)', 'ROG Zephyrus Flow X13 GV301RE-0022A6900HS(AMD R9-6900HS/8G*2/RTX3050Ti/1T PCIe/W11/WUXGA_T', 'ROG Flow Z13 GZ301ZC-0091A12700H 無盡黑(i7-12700H/8G+8G/RTX3050/512G PCIe/W11/WUXGA/13.4)', 'ASUS TUF Gaming F17 FX707ZM-0021B12700H (i7-12700H/16G/RTX 3060/512G PCIe/W11/FHD/144Hz/17', 'ROG Strix G15 G513RM-0112F6900HX 潮魂黑(R9-6900HX/16G/RTX 3060/512G PCIE/W11/FHD/300Hz/15.6)', 'ASUS FX517ZM-0051D12650H 御鐵黑(i7-12650H/8G/RTX3060/512G PCIe/W11/FHD/144Hz/15.6)', 'ROG Zephyrus G15 GA503RM-0062E6800HS(AMD R7-6800HS/8G*2/RTX 3060/512G PCIe/W11/WQHD/165Hz/']\n",
      "['https://cs-a.ecimg.tw/items/DHAS1U1900FE5SL/000002_1669269426.jpg', 'https://cs-b.ecimg.tw/items/DHAS1UA900EUD1O/000002_1649669852.jpg', 'https://cs-c.ecimg.tw/items/DHAS1UA900EY9DJ/000002_1657779341.jpg', 'https://cs-d.ecimg.tw/items/DHAS4M1900FH7A0/000002_1665976850.jpg', 'https://cs-e.ecimg.tw/items/DHAS1UA900FBIAC/000002_1662050975.jpg', 'https://cs-f.ecimg.tw/items/DHAS4JA900F36BJ/000002_1662089789.jpg', 'https://cs-a.ecimg.tw/items/DHAS4JA900F38A9/000002_1662089845.jpg', 'https://cs-b.ecimg.tw/items/DHAS4JA900F15NU/000002_1652892726.jpg', 'https://cs-c.ecimg.tw/items/DHAS4NA900B7V2B/000002_1662090482.jpg', 'https://cs-d.ecimg.tw/items/DHAS4JA900ENMR2/000002_1662049013.jpg', 'https://cs-e.ecimg.tw/items/DHAS4MA900E4H9R/000001_1647346810.jpg', 'https://cs-f.ecimg.tw/items/DHAS4JA900EW29L/000002_1650625086.jpg', 'https://cs-a.ecimg.tw/items/DHAS1U1900FIK2U/000002_1663839345.jpg', 'https://cs-b.ecimg.tw/items/DHAS1UA900FMWPN/000002_1665540872.jpg', 'https://cs-c.ecimg.tw/items/DHAS76A900F7K7A/000002_1666680116.jpg', 'https://cs-d.ecimg.tw/items/DHAS76A900E4H3Y/000002_1666680412.jpg', 'https://cs-e.ecimg.tw/items/DHAS1UA900DVWX8/000002_1662089408.jpg', 'https://cs-f.ecimg.tw/items/DHAS4MA900FAXK6/000002_1662089908.jpg', 'https://cs-a.ecimg.tw/items/DHAS1UA900FG8PJ/000002_1662012891.jpg', 'https://cs-b.ecimg.tw/items/DHAS6KA900F38E2/000002_1662090359.jpg']\n"
     ]
    }
   ],
   "source": [
    "chrome.find_element(by=By.CSS_SELECTOR, value=\"div.c-siteSearchBar > input\").clear()\n",
    "chrome.find_element(by=By.CSS_SELECTOR, value=\"div.c-siteSearchBar > input\").send_keys(\"筆電\")\n",
    "time.sleep(2)\n",
    "chrome.find_element(by=By.CSS_SELECTOR, value=\"div.c-siteSearchBtn > button > span > i\").click()\n",
    "time.sleep(2)\n",
    "\n",
    "nodes = chrome.find_elements(by=By.CSS_SELECTOR, value=\".prod_name a\")\n",
    "print([node.text for node in nodes])\n",
    "\n",
    "nodes = chrome.find_elements(by=By.CSS_SELECTOR, value=\"img\")\n",
    "print([node.get_attribute('src') for node in nodes])"
   ]
  },
  {
   "cell_type": "code",
   "execution_count": 39,
   "metadata": {},
   "outputs": [],
   "source": [
    "chrome.close()"
   ]
  },
  {
   "cell_type": "markdown",
   "metadata": {},
   "source": [
    "#### <font color=#0000FF>5-3 Selenium的操作控制--公開資訊觀測站</font>\n",
    "- [公開資訊觀測站](https://mops.twse.com.tw/mops/web/index)\n",
    "    - 【財務報表】→【採IFRSs後】→【合併個別報表】→【綜合損益表】"
   ]
  },
  {
   "cell_type": "code",
   "execution_count": 40,
   "metadata": {},
   "outputs": [],
   "source": [
    "url = \"https://mops.twse.com.tw/mops/web/index\"\n",
    "chrome = webdriver.Chrome(executable_path='chromedriver')\n",
    "chrome.get(url)"
   ]
  },
  {
   "cell_type": "code",
   "execution_count": null,
   "metadata": {},
   "outputs": [],
   "source": []
  },
  {
   "cell_type": "code",
   "execution_count": null,
   "metadata": {},
   "outputs": [],
   "source": []
  }
 ],
 "metadata": {
  "kernelspec": {
   "display_name": "Python 3 (ipykernel)",
   "language": "python",
   "name": "python3"
  },
  "language_info": {
   "codemirror_mode": {
    "name": "ipython",
    "version": 3
   },
   "file_extension": ".py",
   "mimetype": "text/x-python",
   "name": "python",
   "nbconvert_exporter": "python",
   "pygments_lexer": "ipython3",
   "version": "3.10.9"
  }
 },
 "nbformat": 4,
 "nbformat_minor": 4
}

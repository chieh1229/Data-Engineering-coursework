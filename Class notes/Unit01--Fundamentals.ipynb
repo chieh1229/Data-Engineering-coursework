{
 "cells": [
  {
   "cell_type": "markdown",
   "metadata": {},
   "source": [
    "【東吳大學資管系】資料工程實務與應用<br>\n",
    "【授課老師】[陳祥輝 (Email : HsiangHui.Chen@gmail.com)](mailto:HsiangHui.Chen@gmail.com)<br>\n",
    "【facebook】[陳祥輝老師的臉書 (歡迎加好友)](https://goo.gl/osivhx)<br>\n",
    "【相關課程】[陳祥輝老師的課程]\n",
    "- [【東吳大學推廣部】](https://www.ext.scu.edu.tw/courses_search.php?key=陳祥輝)\n",
    "- [【臺北大學推廣教育】](https://dce.ntpu.edu.tw/page-search.php?q=陳祥輝)"
   ]
  },
  {
   "cell_type": "code",
   "execution_count": 1,
   "metadata": {
    "scrolled": true
   },
   "outputs": [
    {
     "name": "stdout",
     "output_type": "stream",
     "text": [
      "【日期時間】2022/09/21 13:46:36\n",
      "【工作目錄】C:\\Users\\sandy\\Downloads\n",
      "【主機名稱】LAPTOP-HN8S2UQE (163.14.34.230)\n",
      "【Python】3.9.12\n"
     ]
    },
    {
     "data": {
      "application/javascript": [
       "IPython.notebook.set_autosave_interval(120000)"
      ]
     },
     "metadata": {},
     "output_type": "display_data"
    },
    {
     "name": "stdout",
     "output_type": "stream",
     "text": [
      "Autosaving every 120 seconds\n"
     ]
    }
   ],
   "source": [
    "# -*- coding: utf-8 -*- 編碼方式\n",
    "from platform import python_version\n",
    "import os, time, socket\n",
    "\n",
    "print(\"【日期時間】{}\".format(time.strftime(\"%Y/%m/%d %H:%M:%S\")))\n",
    "print(\"【工作目錄】{}\".format(os.getcwd()))\n",
    "print(\"【主機名稱】{} ({})\".format(socket.gethostname(),socket.gethostbyname(socket.gethostname())))\n",
    "print(\"【Python】{}\".format(python_version()))\n",
    "\n",
    "%autosave 120"
   ]
  },
  {
   "cell_type": "markdown",
   "metadata": {},
   "source": [
    "### 【重點提要】\n",
    "* 安裝Anaconda\n",
    " * 建立虛擬環境\n",
    " * Jupyter Notebook介紹\n",
    "* Unicode的使用\n",
    "* comment\n",
    " * 單行註記 : # (Ctrl+/)\n",
    " * 多行註記 : 前後使用三個引號 \"\"\".....\"\"\"\n",
    "* 一個敘述斷行的連結符號 : \\ (倒斜線)\n",
    "* 一行有多個敘述的連結符號 : ; (分號)\n",
    "* 程式的block使用縮排 (:)\n",
    "* console輸入資料 : input()\n",
    "* 基本的算術運算子(Arithmetic operators) \n",
    "* 指派運算子(Assignment operators)<br>\n",
    "* 比較運算子(Comparison operators)\n",
    "* 邏輯運算子(Logical operators)\n",
    "* 位元運算子(Bitwise operators)<br>\n",
    "* Identity operators\n",
    "* Membership operators\n",
    "* 常用math模組的屬性、方法"
   ]
  },
  {
   "cell_type": "markdown",
   "metadata": {},
   "source": [
    "### 【參考資料】\n",
    "* [Markdown 語法說明](http://markdown.tw/)"
   ]
  },
  {
   "cell_type": "markdown",
   "metadata": {},
   "source": [
    "### <font color=#0000FF>Python的標記說明</font>\n",
    "- 單行標註 : #\n",
    "- 多型標註 : 前後三個單引號或雙引號"
   ]
  },
  {
   "cell_type": "code",
   "execution_count": 2,
   "metadata": {},
   "outputs": [
    {
     "data": {
      "text/plain": [
       "'\\n這是多行說明\\n'"
      ]
     },
     "execution_count": 2,
     "metadata": {},
     "output_type": "execute_result"
    }
   ],
   "source": [
    "# 這是個單行說明，快速鍵 Ctrl+/\n",
    "\n",
    "\"\"\"\n",
    "這是多行說明\n",
    "\"\"\""
   ]
  },
  {
   "cell_type": "markdown",
   "metadata": {},
   "source": [
    "### <font color=#0000FF>Python的基本操作</font>"
   ]
  },
  {
   "cell_type": "markdown",
   "metadata": {},
   "source": [
    "<font color=#0000FF>設定編碼</font>"
   ]
  },
  {
   "cell_type": "code",
   "execution_count": 3,
   "metadata": {},
   "outputs": [],
   "source": [
    "#以下三種設定方式皆可\n",
    "\n",
    "# -*- coding: utf-8 -*-\n",
    "# coding = utf-8\n",
    "# coding : utf-8"
   ]
  },
  {
   "cell_type": "markdown",
   "metadata": {},
   "source": [
    "<font color=#0000FF>多重給值</font>"
   ]
  },
  {
   "cell_type": "code",
   "execution_count": 4,
   "metadata": {},
   "outputs": [
    {
     "data": {
      "text/plain": [
       "100"
      ]
     },
     "execution_count": 4,
     "metadata": {},
     "output_type": "execute_result"
    }
   ],
   "source": [
    "x = y = z = 100\n",
    "x\n",
    "y\n",
    "z\n",
    "# 純量才可以"
   ]
  },
  {
   "cell_type": "markdown",
   "metadata": {},
   "source": [
    "<font color=#0000FF>多元給值</font>"
   ]
  },
  {
   "cell_type": "code",
   "execution_count": 2,
   "metadata": {},
   "outputs": [
    {
     "data": {
      "text/plain": [
       "33"
      ]
     },
     "execution_count": 2,
     "metadata": {},
     "output_type": "execute_result"
    }
   ],
   "source": [
    "x, y, z = 111111, 2222, 33\n",
    "x\n",
    "y\n",
    "z"
   ]
  },
  {
   "cell_type": "markdown",
   "metadata": {},
   "source": [
    "【特殊字元】\n",
    "\n",
    "- \\n : new line\n",
    "- \\t : tab\n",
    "- \\r : return (歸位鍵，回到那行的最前面)"
   ]
  },
  {
   "cell_type": "code",
   "execution_count": 6,
   "metadata": {
    "scrolled": true
   },
   "outputs": [
    {
     "name": "stdout",
     "output_type": "stream",
     "text": [
      "11111\n",
      "2222\n",
      "33\n"
     ]
    }
   ],
   "source": [
    "x, y, z = 11111, 2222, 33\n",
    "print(x) \n",
    "print(y)\n",
    "print(z)"
   ]
  },
  {
   "cell_type": "code",
   "execution_count": 7,
   "metadata": {},
   "outputs": [
    {
     "name": "stdout",
     "output_type": "stream",
     "text": [
      "111111\t2222\t33\t"
     ]
    }
   ],
   "source": [
    "x, y, z = 111111, 2222, 33\n",
    "print(x, end='\\t')          # shift+tab : 線上說明\n",
    "print(y, end='\\t')\n",
    "print(z, end='\\t')"
   ]
  },
  {
   "cell_type": "code",
   "execution_count": 8,
   "metadata": {},
   "outputs": [
    {
     "name": "stdout",
     "output_type": "stream",
     "text": [
      "111111\r",
      "2222\r",
      "33\r"
     ]
    }
   ],
   "source": [
    "x, y, z = 111111, 2222, 33\n",
    "print(x, end='\\r')         \n",
    "print(y, end='\\r')\n",
    "print(z, end='\\r')"
   ]
  },
  {
   "cell_type": "code",
   "execution_count": 9,
   "metadata": {},
   "outputs": [
    {
     "name": "stdout",
     "output_type": "stream",
     "text": [
      "10\r"
     ]
    }
   ],
   "source": [
    "print('01', end='\\r')\n",
    "time.sleep(0.5) # 讓他延遲0.5s\n",
    "print('02', end='\\r')\n",
    "time.sleep(0.5)\n",
    "print('03', end='\\r')\n",
    "time.sleep(0.5)\n",
    "print('04', end='\\r')\n",
    "time.sleep(0.5)\n",
    "print('05', end='\\r')\n",
    "time.sleep(0.5)\n",
    "print('06', end='\\r')\n",
    "time.sleep(0.5)\n",
    "print('07', end='\\r')\n",
    "time.sleep(0.5)\n",
    "print('08', end='\\r')\n",
    "time.sleep(0.5)\n",
    "print('09', end='\\r')\n",
    "time.sleep(0.5)\n",
    "print('10', end='\\r')"
   ]
  },
  {
   "cell_type": "code",
   "execution_count": 10,
   "metadata": {},
   "outputs": [],
   "source": [
    "# str.format() 字串格式"
   ]
  },
  {
   "cell_type": "code",
   "execution_count": 11,
   "metadata": {
    "scrolled": true
   },
   "outputs": [
    {
     "name": "stdout",
     "output_type": "stream",
     "text": [
      "100 200 300\n",
      "x = 100, y = 200, z = 300\n",
      "x = 100, y = 200, z = 300\n",
      "x = 300, y = 200, z = 300\n"
     ]
    }
   ],
   "source": [
    "x = 100 ; y = 200 ; z = 300\n",
    "print(x,y,z)\n",
    "print('x = {}, y = {}, z = {}'.format(x,y,z)) #依序填入\n",
    "print('x = {0}, y = {1}, z = {2}'.format(x,y,z)) #依據 index 填入\n",
    "print('x = {2}, y = {1}, z = {2}'.format(x,y,z)) #依據 index 填入"
   ]
  },
  {
   "cell_type": "markdown",
   "metadata": {},
   "source": [
    "### <font color=#0000FF>基本的算術運算子(Arithmetic operators) </font>\n",
    "\n",
    "|運算子|說明|\n",
    "|:---:|:---:|\n",
    "|+  | 加法|\n",
    "|-  | 減法|\n",
    "|*  | 乘法|\n",
    "|/ | 除法|\n",
    "|**| 次方|\n",
    "|//| 整數商|\n",
    "|% | 餘數|\n"
   ]
  },
  {
   "cell_type": "code",
   "execution_count": 12,
   "metadata": {},
   "outputs": [
    {
     "name": "stdout",
     "output_type": "stream",
     "text": [
      "130\n",
      "-80\n",
      "150\n",
      "3.8\n",
      "8\n",
      "3\n",
      "4\n",
      "(3, 4)\n"
     ]
    }
   ],
   "source": [
    "print(100+30)\n",
    "print(20-100)\n",
    "print(30*5)\n",
    "print(19/5) # 弱資料型態，才會整數/整數是小數，強資料型態 java、sql會直接變成3\n",
    "print(2**3)\n",
    "print(19//5)\n",
    "print(19%5)\n",
    "print(divmod(19, 5)) # 表格位子可以用"
   ]
  },
  {
   "cell_type": "markdown",
   "metadata": {},
   "source": [
    "### <font color=#0000FF>in-place 指派運算子(in-place assignment operators)</font>\n",
    "<font color=#FF0000>假設result的初始值=20</font>\n",
    "\n",
    "|指派運算子|使用說明|運算說明|result的結果|\n",
    "|:---:|:---:|:---:|:---:|\n",
    "|+=|result+=10|result = result + 10|30|\n",
    "|-=|result-=10|result = result - 10|10|\n",
    "|*=|result*=10|result = result * 10|200|\n",
    "|/=|result/=10|result = result / 10|2|\n",
    "|**=|result**=2|result = result ** 2|400|\n",
    "|//=|result//=3|result = result // 3|6|\n",
    "|%= |result%=7|result = result % 7|6|"
   ]
  },
  {
   "cell_type": "code",
   "execution_count": 13,
   "metadata": {},
   "outputs": [
    {
     "name": "stdout",
     "output_type": "stream",
     "text": [
      "105\n"
     ]
    }
   ],
   "source": [
    "x = 100\n",
    "x = x+5\n",
    "print(x)"
   ]
  },
  {
   "cell_type": "code",
   "execution_count": 14,
   "metadata": {},
   "outputs": [
    {
     "name": "stdout",
     "output_type": "stream",
     "text": [
      "105\n"
     ]
    }
   ],
   "source": [
    "x = 100\n",
    "x += 5\n",
    "print(x)"
   ]
  },
  {
   "cell_type": "markdown",
   "metadata": {},
   "source": [
    "### <font color=#0000FF>比較運算子(Comparison operators)</font>\n",
    "\n",
    "|運算子|說明|範例|\n",
    "|:---:|:---|:---|\n",
    "|> |判斷左邊的值是否大於右邊的值|x > y|\n",
    "|< |判斷左邊的值是否大於右邊的值|x < y|\n",
    "|==|判斷左、右兩邊的值是否相等|x == y|\n",
    "|!=|判斷左、右兩邊的值是否不相等|x != y|\n",
    "|>=|判斷左邊的值是否大於或等於右邊的值|x >= y|\n",
    "|<=|判斷左邊的值是否小於或等於右邊的值|x <= y|"
   ]
  },
  {
   "cell_type": "code",
   "execution_count": 15,
   "metadata": {},
   "outputs": [
    {
     "name": "stdout",
     "output_type": "stream",
     "text": [
      "False\n",
      "False\n",
      "True\n"
     ]
    }
   ],
   "source": [
    "x, y = 50, 100\n",
    "print( x > y)\n",
    "print( x == y)\n",
    "print( x <= y)"
   ]
  },
  {
   "cell_type": "markdown",
   "metadata": {},
   "source": [
    "### <font color=#0000FF>邏輯運算子(Logical operators)</font>\n",
    "\n",
    "|運算子|說明|範例|\n",
    "|:---:|:---|:---|\n",
    "|and|當兩邊皆為True，結果才會True，否則皆為False|x and y|\n",
    "|or |當兩邊其中有一個True，結果就會True，否則為False|x or y|\n",
    "|not|結果會與運算元(operand)相反|not x|"
   ]
  },
  {
   "cell_type": "markdown",
   "metadata": {},
   "source": [
    "<pre>  \n",
    "\n",
    "【重點1】\n",
    "and : *\n",
    " or : +\n",
    "數學的四則運算，先乘除、後加減，所以是先 and 後 or\n",
    "\n",
    "【重點2】\n",
    "A and B and C and D or E and F and G or H and I or J and K or L or M and N\n",
    "\n",
    "   A and B and C and D \n",
    "or E and F and G \n",
    "or H and I \n",
    "or J and K \n",
    "or L \n",
    "or M and N\n",
    "\n",
    "【重點3】\n",
    "3   * 5  + 3   * 7 = 3   * (5  + 7)\n",
    "A and B or A and C = A and (B or C)\n",
    "\n",
    "【重點4】\n",
    "not (A and B) = (not A)  or (not B)\n",
    "not (A  or B) = (not A) and (not B)\n",
    "\n",
    "</pre>"
   ]
  },
  {
   "cell_type": "markdown",
   "metadata": {},
   "source": [
    "### <font color=#0000FF>位元運算子(Bitwise operators)</font>\n",
    "<font color=#FF0000>假設x的初始值=10 (0000 1010)<br>\n",
    "假設y的初始值= 4 (0000 0100)</font>\n",
    "\n",
    "|運算子|說明|範例|\n",
    "|:---:|:---|:---|\n",
    "|& |Bitwise AND|x & y = 0 (0000 0000)|\n",
    "|｜|Bitwise OR|x ｜ y = 14 (0000 1110)|\n",
    "|~ |Bitwise NOT|~x = -11 (1111 0101)|\n",
    "|^ |Bitwise XOR|x ^ y = 14 (0000 1110)|\n",
    "|>>|Bitwise right shift|x>> 2 = 2 (0000 0010)|\n",
    "|<<|Bitwise left shift|x<< 2 = 40 (0010 1000)|\n"
   ]
  },
  {
   "cell_type": "code",
   "execution_count": 16,
   "metadata": {},
   "outputs": [
    {
     "name": "stdout",
     "output_type": "stream",
     "text": [
      "0\n",
      "14\n"
     ]
    }
   ],
   "source": [
    "x, y = 10, 4\n",
    "print(x & y)\n",
    "print(x | y)"
   ]
  },
  {
   "cell_type": "markdown",
   "metadata": {},
   "source": [
    "### <font color=#0000FF>Identity operators</font>\n",
    "\n",
    "|運算子|說明|範例|\n",
    "|:---:|:---|:---|\n",
    "|is|判斷是否相同|x is True|\n",
    "|is not|判斷是否不相同|x is not True|\n"
   ]
  },
  {
   "cell_type": "markdown",
   "metadata": {
    "collapsed": true
   },
   "source": [
    "#### 【CASE 1】當 x 是純量值(基本資料型態)時，x、y 彼此不影響(各自獨立)\n",
    "- <img src='http://180.218.162.136:2018/Images/Python/identity01.jpg' width=400 align=left></img>"
   ]
  },
  {
   "cell_type": "code",
   "execution_count": 17,
   "metadata": {},
   "outputs": [
    {
     "name": "stdout",
     "output_type": "stream",
     "text": [
      "x = 100, y = 100\n",
      "x id : 0x1ec731155d0, y id = 0x1ec731155d0\n",
      "x is y ? True\n",
      "-----------------------------\n",
      "x = 100, y = 130\n",
      "x id : 0x1ec731155d0, y id = 0x1ec73115990\n",
      "x is y ? False\n"
     ]
    }
   ],
   "source": [
    "# copy-on-write 要寫的時候才做複製，新位子\n",
    "x = 100\n",
    "y = x \n",
    "print('x = {}, y = {}'.format(x, y))\n",
    "print('x id : {}, y id = {}'.format(hex(id(x)), hex(id(y)))) # 按住shift選取，加括號會自動配對\n",
    "print('x is y ? {}'.format(x is y))\n",
    "print('-----------------------------')\n",
    "y = x + 30\n",
    "print('x = {}, y = {}'.format(x, y))\n",
    "print('x id : {}, y id = {}'.format(hex(id(x)), hex(id(y))))\n",
    "print('x is y ? {}'.format(x is y))"
   ]
  },
  {
   "cell_type": "markdown",
   "metadata": {
    "collapsed": true
   },
   "source": [
    "#### 【CASE 2】當 x 是物件(具有結構)時，x、y 共用資料區\n",
    "- <img src='http://180.218.162.136:2018/Images/Python/identity02.jpg' width=400 align=left></img>"
   ]
  },
  {
   "cell_type": "code",
   "execution_count": 18,
   "metadata": {},
   "outputs": [
    {
     "name": "stdout",
     "output_type": "stream",
     "text": [
      "100\n",
      "200\n",
      "300\n"
     ]
    }
   ],
   "source": [
    "x = [100, 200, 300]    # list object\n",
    "print(x[0])\n",
    "print(x[1])\n",
    "print(x[2])"
   ]
  },
  {
   "cell_type": "code",
   "execution_count": 19,
   "metadata": {},
   "outputs": [
    {
     "name": "stdout",
     "output_type": "stream",
     "text": [
      "x = [100, 200, 300], y = [100, 200, 300]\n",
      "x id : 0x1ec7929a0c0, y id = 0x1ec7929a0c0\n",
      "x is y ? True\n",
      "-----------------------------\n",
      "x = [900, 200, 300], y = [900, 200, 300]\n",
      "x id : 0x1ec7929a0c0, y id = 0x1ec7929a0c0\n",
      "x is y ? True\n"
     ]
    }
   ],
   "source": [
    "# 物件存位置，共用資料，所以會一起改\n",
    "x = [100, 200, 300]\n",
    "y = x \n",
    "print('x = {}, y = {}'.format(x, y))\n",
    "print('x id : {}, y id = {}'.format(hex(id(x)), hex(id(y))))\n",
    "print('x is y ? {}'.format(x is y))\n",
    "print('-----------------------------')\n",
    "y[0] = 900\n",
    "print('x = {}, y = {}'.format(x, y))\n",
    "print('x id : {}, y id = {}'.format(hex(id(x)), hex(id(y))))\n",
    "print('x is y ? {}'.format(x is y))"
   ]
  },
  {
   "cell_type": "markdown",
   "metadata": {
    "collapsed": true
   },
   "source": [
    "#### 【CASE 3】當 x 是物件(具有結構)時，可以使用 .copy() 方法(method)，址複製資料，彼此不影響(各自獨立)\n",
    "- <img src='http://180.218.162.136:2018/Images/Python/identity03.jpg' width=400 align=left></img>"
   ]
  },
  {
   "cell_type": "code",
   "execution_count": 20,
   "metadata": {},
   "outputs": [
    {
     "name": "stdout",
     "output_type": "stream",
     "text": [
      "x = [100, 200, 300], y = [100, 200, 300]\n",
      "x id : 0x1ec7929a880, y id = 0x1ec78299a40\n",
      "x is y ? False\n",
      "-----------------------------\n",
      "x = [100, 200, 300], y = [900, 200, 300]\n",
      "x id : 0x1ec7929a880, y id = 0x1ec78299a40\n",
      "x is y ? False\n"
     ]
    }
   ],
   "source": [
    "# copy一份，位子不一樣，不會互相干擾\n",
    "x = [100, 200, 300]\n",
    "y = x.copy() \n",
    "print('x = {}, y = {}'.format(x, y))\n",
    "print('x id : {}, y id = {}'.format(hex(id(x)), hex(id(y))))\n",
    "print('x is y ? {}'.format(x is y))\n",
    "print('-----------------------------')\n",
    "y[0] = 900\n",
    "print('x = {}, y = {}'.format(x, y))\n",
    "print('x id : {}, y id = {}'.format(hex(id(x)), hex(id(y))))\n",
    "print('x is y ? {}'.format(x is y))"
   ]
  },
  {
   "cell_type": "markdown",
   "metadata": {},
   "source": [
    "### <font color=#0000FF>Membership operators</font>\n",
    "\n",
    "|運算子|說明|範例|\n",
    "|:---:|:---|:---|\n",
    "|in|判斷某值或變數是否在序列中找得到|5 in x|\n",
    "|not in|判斷某值或變數是否在序列中找得到|5 not in x|"
   ]
  },
  {
   "cell_type": "code",
   "execution_count": 21,
   "metadata": {},
   "outputs": [
    {
     "name": "stdout",
     "output_type": "stream",
     "text": [
      "True\n",
      "False\n"
     ]
    }
   ],
   "source": [
    "print(100 in [100, 200, 'x', 'y'])\n",
    "print('x' not in [100, 200, 'x', 'y'])"
   ]
  },
  {
   "cell_type": "code",
   "execution_count": 22,
   "metadata": {
    "scrolled": true
   },
   "outputs": [
    {
     "data": {
      "text/plain": [
       "['In',\n",
       " 'Out',\n",
       " '_',\n",
       " '_2',\n",
       " '_4',\n",
       " '_5',\n",
       " '__',\n",
       " '___',\n",
       " '__builtin__',\n",
       " '__builtins__',\n",
       " '__doc__',\n",
       " '__loader__',\n",
       " '__name__',\n",
       " '__package__',\n",
       " '__spec__',\n",
       " '_dh',\n",
       " '_i',\n",
       " '_i1',\n",
       " '_i10',\n",
       " '_i11',\n",
       " '_i12',\n",
       " '_i13',\n",
       " '_i14',\n",
       " '_i15',\n",
       " '_i16',\n",
       " '_i17',\n",
       " '_i18',\n",
       " '_i19',\n",
       " '_i2',\n",
       " '_i20',\n",
       " '_i21',\n",
       " '_i22',\n",
       " '_i3',\n",
       " '_i4',\n",
       " '_i5',\n",
       " '_i6',\n",
       " '_i7',\n",
       " '_i8',\n",
       " '_i9',\n",
       " '_ih',\n",
       " '_ii',\n",
       " '_iii',\n",
       " '_oh',\n",
       " 'exit',\n",
       " 'get_ipython',\n",
       " 'os',\n",
       " 'python_version',\n",
       " 'quit',\n",
       " 'socket',\n",
       " 'time',\n",
       " 'x',\n",
       " 'y',\n",
       " 'z']"
      ]
     },
     "execution_count": 22,
     "metadata": {},
     "output_type": "execute_result"
    }
   ],
   "source": [
    "# 使用過哪些物件、模組\n",
    "dir()"
   ]
  },
  {
   "cell_type": "code",
   "execution_count": 23,
   "metadata": {},
   "outputs": [
    {
     "data": {
      "text/plain": [
       "['ArithmeticError',\n",
       " 'AssertionError',\n",
       " 'AttributeError',\n",
       " 'BaseException',\n",
       " 'BlockingIOError',\n",
       " 'BrokenPipeError',\n",
       " 'BufferError',\n",
       " 'BytesWarning',\n",
       " 'ChildProcessError',\n",
       " 'ConnectionAbortedError',\n",
       " 'ConnectionError',\n",
       " 'ConnectionRefusedError',\n",
       " 'ConnectionResetError',\n",
       " 'DeprecationWarning',\n",
       " 'EOFError',\n",
       " 'Ellipsis',\n",
       " 'EnvironmentError',\n",
       " 'Exception',\n",
       " 'False',\n",
       " 'FileExistsError',\n",
       " 'FileNotFoundError',\n",
       " 'FloatingPointError',\n",
       " 'FutureWarning',\n",
       " 'GeneratorExit',\n",
       " 'IOError',\n",
       " 'ImportError',\n",
       " 'ImportWarning',\n",
       " 'IndentationError',\n",
       " 'IndexError',\n",
       " 'InterruptedError',\n",
       " 'IsADirectoryError',\n",
       " 'KeyError',\n",
       " 'KeyboardInterrupt',\n",
       " 'LookupError',\n",
       " 'MemoryError',\n",
       " 'ModuleNotFoundError',\n",
       " 'NameError',\n",
       " 'None',\n",
       " 'NotADirectoryError',\n",
       " 'NotImplemented',\n",
       " 'NotImplementedError',\n",
       " 'OSError',\n",
       " 'OverflowError',\n",
       " 'PendingDeprecationWarning',\n",
       " 'PermissionError',\n",
       " 'ProcessLookupError',\n",
       " 'RecursionError',\n",
       " 'ReferenceError',\n",
       " 'ResourceWarning',\n",
       " 'RuntimeError',\n",
       " 'RuntimeWarning',\n",
       " 'StopAsyncIteration',\n",
       " 'StopIteration',\n",
       " 'SyntaxError',\n",
       " 'SyntaxWarning',\n",
       " 'SystemError',\n",
       " 'SystemExit',\n",
       " 'TabError',\n",
       " 'TimeoutError',\n",
       " 'True',\n",
       " 'TypeError',\n",
       " 'UnboundLocalError',\n",
       " 'UnicodeDecodeError',\n",
       " 'UnicodeEncodeError',\n",
       " 'UnicodeError',\n",
       " 'UnicodeTranslateError',\n",
       " 'UnicodeWarning',\n",
       " 'UserWarning',\n",
       " 'ValueError',\n",
       " 'Warning',\n",
       " 'WindowsError',\n",
       " 'ZeroDivisionError',\n",
       " '__IPYTHON__',\n",
       " '__build_class__',\n",
       " '__debug__',\n",
       " '__doc__',\n",
       " '__import__',\n",
       " '__loader__',\n",
       " '__name__',\n",
       " '__package__',\n",
       " '__spec__',\n",
       " 'abs',\n",
       " 'all',\n",
       " 'any',\n",
       " 'ascii',\n",
       " 'bin',\n",
       " 'bool',\n",
       " 'breakpoint',\n",
       " 'bytearray',\n",
       " 'bytes',\n",
       " 'callable',\n",
       " 'chr',\n",
       " 'classmethod',\n",
       " 'compile',\n",
       " 'complex',\n",
       " 'copyright',\n",
       " 'credits',\n",
       " 'delattr',\n",
       " 'dict',\n",
       " 'dir',\n",
       " 'display',\n",
       " 'divmod',\n",
       " 'enumerate',\n",
       " 'eval',\n",
       " 'exec',\n",
       " 'execfile',\n",
       " 'filter',\n",
       " 'float',\n",
       " 'format',\n",
       " 'frozenset',\n",
       " 'get_ipython',\n",
       " 'getattr',\n",
       " 'globals',\n",
       " 'hasattr',\n",
       " 'hash',\n",
       " 'help',\n",
       " 'hex',\n",
       " 'id',\n",
       " 'input',\n",
       " 'int',\n",
       " 'isinstance',\n",
       " 'issubclass',\n",
       " 'iter',\n",
       " 'len',\n",
       " 'license',\n",
       " 'list',\n",
       " 'locals',\n",
       " 'map',\n",
       " 'max',\n",
       " 'memoryview',\n",
       " 'min',\n",
       " 'next',\n",
       " 'object',\n",
       " 'oct',\n",
       " 'open',\n",
       " 'ord',\n",
       " 'pow',\n",
       " 'print',\n",
       " 'property',\n",
       " 'range',\n",
       " 'repr',\n",
       " 'reversed',\n",
       " 'round',\n",
       " 'runfile',\n",
       " 'set',\n",
       " 'setattr',\n",
       " 'slice',\n",
       " 'sorted',\n",
       " 'staticmethod',\n",
       " 'str',\n",
       " 'sum',\n",
       " 'super',\n",
       " 'tuple',\n",
       " 'type',\n",
       " 'vars',\n",
       " 'zip']"
      ]
     },
     "execution_count": 23,
     "metadata": {},
     "output_type": "execute_result"
    }
   ],
   "source": [
    "# 內建錯誤訊息 Exception(Error)\n",
    "dir(__builtins__)"
   ]
  },
  {
   "cell_type": "markdown",
   "metadata": {},
   "source": [
    "### <font color=#0000FF>常用math模組的屬性、方法</font>\n",
    "【常用屬性】\n",
    "* math.nan\n",
    "* math.pi\n",
    "* math.inf\n",
    "---\n",
    "【常用方法】\n",
    "\n",
    "* math.ceil(), math.floor()\n",
    "* math.isfinite(), math.isinf()\n",
    "* math.isnan()\n",
    "* math.pow(), math.exp()\n",
    "* math.round()\n",
    "* math.sqrt()"
   ]
  },
  {
   "cell_type": "code",
   "execution_count": 24,
   "metadata": {},
   "outputs": [],
   "source": [
    "import math"
   ]
  },
  {
   "cell_type": "code",
   "execution_count": 25,
   "metadata": {},
   "outputs": [
    {
     "name": "stdout",
     "output_type": "stream",
     "text": [
      "3.141592653589793\n"
     ]
    }
   ],
   "source": [
    "print(math.pi)        # namespace : 命名空間"
   ]
  },
  {
   "cell_type": "code",
   "execution_count": 26,
   "metadata": {},
   "outputs": [
    {
     "name": "stdout",
     "output_type": "stream",
     "text": [
      "8.0\n",
      "8\n"
     ]
    }
   ],
   "source": [
    "print(math.pow(2,3))  # math模組內的pow()\n",
    "print(pow(2,3))       # 內建函數的pow()"
   ]
  },
  {
   "cell_type": "markdown",
   "metadata": {},
   "source": [
    "### <font color=#0000FF>常用內建函數</font>\n",
    "【參考資料】\n",
    "* [Python BUILT-IN METHODS](https://www.programiz.com/python-programming/methods/built-in/exec)\n",
    "\n",
    "---\n",
    "\n",
    "* abs() : returns absolute value of a number\n",
    "* all() : returns true when all elements in iterable is true\n",
    "* any() : Checks if any Element of an Iterable is True\n",
    "* ascii() : Returns String Containing Printable Representation\n",
    "* bin() : converts integer to binary string\n",
    "* bool() : Coverts a Value to Boolean\n",
    "* bytearray() : returns array of given byte size\n",
    "* bytes() : returns immutable bytes object\n",
    "* callable() : Checks if the Object is Callable\n",
    "* chr() : Returns a Character (a string) from an Integer\n",
    "* classmethod() : returns class method for given function\n",
    "* compile() : Returns a Python code object\n",
    "* complex() : Creates a Complex Number\n",
    "* copyright()\n",
    "* credits()\n",
    "* delattr() : Deletes Attribute From the Object\n",
    "* ***dict() : Creates a Dictionary***\n",
    "* dir() : Tries to Return Attributes of Object\n",
    "* divmod() : Returns a Tuple of Quotient and Remainder\n",
    "* dreload()\n",
    "* enumerate() : Returns an Enumerate Object\n",
    "* eval() : Runs Python Code Within Program\n",
    "* exec() : Executes Dynamically Created Program\n",
    "* filter() : constructs iterator from elements which are true\n",
    "* float() : returns floating point number from number, string\n",
    "* format() : returns formatted representation of a value\n",
    "* frozenset() : returns immutable frozenset object\n",
    "* get_ipython()\n",
    "* getattr() : returns value of named attribute of an object\n",
    "* globals() : returns dictionary of current global symbol table\n",
    "* hasattr() : returns whether object has named attribute\n",
    "* hash() : returns hash value of an object\n",
    "* help() : Invokes the built-in Help System\n",
    "* hex() : Converts to Integer to Hexadecimal\n",
    "* id() : Returns Identify of an Object\n",
    "* input() : reads and returns a line of string\n",
    "* int() : returns integer from a number or string\n",
    "* isinstance() : Checks if a Object is an Instance of Class\n",
    "* issubclass() : Checks if a Object is Subclass of a Class\n",
    "* iter() : returns iterator for an object\n",
    "* len() : Returns Length of an Object\n",
    "* license()\n",
    "* ***list() : creates list in Python***\n",
    "* locals() :returns dictionary of current local symbol table\n",
    "* map() : Applies Function and Returns a List\n",
    "* max() : returns largest element\n",
    "* memoryview() : returns memory view of an argument\n",
    "* min() : returns smallest element\n",
    "* next() : Retrieves Next Element from Iterator\n",
    "* object() : \tCreates a Featureless Object\n",
    "* oct() : converts integer to octal\n",
    "* open() : Returns a File object\n",
    "* ord() : returns Unicode code point for Unicode character\n",
    "* pow() : returns x to the power of y\n",
    "* print() : Prints the Given Object\n",
    "* property() : returns a property attribute\n",
    "* range() : return sequence of integers between start and stop\n",
    "* repr() : returns printable representation of an object\n",
    "* reversed() : returns reversed iterator of a sequence\n",
    "* round() : rounds a floating point number to ndigits places.\n",
    "* ***set() : returns a Python set***\n",
    "* setattr() : sets value of an attribute of object\n",
    "* slice() : creates a slice object specified by range()\n",
    "* sorted() : returns sorted list from a given iterable\n",
    "* staticmethod() : creates static method from a function\n",
    "* str() : returns informal representation of an object\n",
    "* sum() : Add items of an Iterable\n",
    "* super() : Allow you to Refer Parent Class by super\n",
    "* ***tuple() : Creates a Tuple***\n",
    "* type() : Returns Type of an Object\n",
    "* vars() : Returns __dict__ attribute of a class\n",
    "* zip() : Returns an Iterator of Tuples\n",
    "* \\__import\\__() : Advanced Function Called by import"
   ]
  }
 ],
 "metadata": {
  "kernelspec": {
   "display_name": "Python 3 (ipykernel)",
   "language": "python",
   "name": "python3"
  },
  "language_info": {
   "codemirror_mode": {
    "name": "ipython",
    "version": 3
   },
   "file_extension": ".py",
   "mimetype": "text/x-python",
   "name": "python",
   "nbconvert_exporter": "python",
   "pygments_lexer": "ipython3",
   "version": "3.9.12"
  }
 },
 "nbformat": 4,
 "nbformat_minor": 2
}

{
 "cells": [
  {
   "cell_type": "markdown",
   "metadata": {},
   "source": [
    "【東吳大學資管系】資料工程實務與應用<br>\n",
    "【授課老師】[陳祥輝 (Email : HsiangHui.Chen@gmail.com)](mailto:HsiangHui.Chen@gmail.com)<br>\n",
    "【facebook】[陳祥輝老師的臉書 (歡迎加好友)](https://goo.gl/osivhx)<br>\n",
    "【相關課程】[陳祥輝老師的課程]\n",
    "- [【東吳大學推廣部】](https://www.ext.scu.edu.tw/courses_search.php?key=陳祥輝)\n",
    "- [【臺北大學推廣教育】](https://dce.ntpu.edu.tw/page-search.php?q=陳祥輝)"
   ]
  },
  {
   "cell_type": "code",
   "execution_count": null,
   "metadata": {},
   "outputs": [],
   "source": [
    "!conda env list"
   ]
  },
  {
   "cell_type": "markdown",
   "metadata": {},
   "source": [
    "#### <font color=#FF0000>【安裝相關模組】</font>\n",
    "- !pip install --upgrade pymssql\n",
    "- !pip install --upgrade pyodbc"
   ]
  },
  {
   "cell_type": "code",
   "execution_count": 1,
   "metadata": {},
   "outputs": [
    {
     "name": "stdout",
     "output_type": "stream",
     "text": [
      "Requirement already satisfied: pyodbc in c:\\users\\sandy\\.conda\\envs\\py39\\lib\\site-packages (4.0.32)\n",
      "Collecting pyodbc\n",
      "  Downloading pyodbc-4.0.35-cp39-cp39-win_amd64.whl (66 kB)\n",
      "Installing collected packages: pyodbc\n",
      "  Attempting uninstall: pyodbc\n",
      "    Found existing installation: pyodbc 4.0.32\n",
      "    Uninstalling pyodbc-4.0.32:\n",
      "      Successfully uninstalled pyodbc-4.0.32\n",
      "Successfully installed pyodbc-4.0.35\n"
     ]
    }
   ],
   "source": [
    "!pip install -U pyodbc"
   ]
  },
  {
   "cell_type": "code",
   "execution_count": 2,
   "metadata": {},
   "outputs": [
    {
     "name": "stdout",
     "output_type": "stream",
     "text": [
      "Collecting pymssql\n",
      "  Downloading pymssql-2.2.7-cp39-cp39-win_amd64.whl (1.5 MB)\n",
      "Installing collected packages: pymssql\n",
      "Successfully installed pymssql-2.2.7\n"
     ]
    }
   ],
   "source": [
    "!pip install -U pymssql"
   ]
  },
  {
   "cell_type": "code",
   "execution_count": 1,
   "metadata": {
    "scrolled": true
   },
   "outputs": [
    {
     "name": "stdout",
     "output_type": "stream",
     "text": [
      "【現在時間】2022/11/23 13:32:10\n",
      "【所在目錄】C:\\資料工程\n",
      "【主機名稱】LAPTOP-HN8S2UQE (163.14.34.76)\n",
      "【Python】3.9.12\n",
      "【pymssql】2.2.7\n",
      "【pyodbc】4.0.35\n"
     ]
    },
    {
     "data": {
      "application/javascript": [
       "IPython.notebook.set_autosave_interval(120000)"
      ]
     },
     "metadata": {},
     "output_type": "display_data"
    },
    {
     "name": "stdout",
     "output_type": "stream",
     "text": [
      "Autosaving every 120 seconds\n"
     ]
    }
   ],
   "source": [
    "# coding=utf-8\n",
    "from platform import python_version\n",
    "import os, time, socket, glob, pickle, joblib\n",
    "import pandas as pd\n",
    "import pyodbc, pymssql\n",
    "\n",
    "import warnings\n",
    "warnings.filterwarnings(action=\"ignore\")\n",
    "\n",
    "\n",
    "print(\"【現在時間】{}\".format(time.strftime(\"%Y/%m/%d %H:%M:%S\")))\n",
    "print(\"【所在目錄】{}\".format(os.getcwd()))\n",
    "print(\"【主機名稱】{} ({})\".format(socket.gethostname(),socket.gethostbyname(socket.gethostname())))\n",
    "print(\"【Python】{}\".format(python_version()))\n",
    "print(\"【pymssql】{}\".format(pymssql.__version__))\n",
    "print(\"【pyodbc】{}\".format(pyodbc.version))\n",
    "\n",
    "%autosave 120"
   ]
  },
  {
   "cell_type": "markdown",
   "metadata": {},
   "source": [
    "#### 【DB 連線的步驟】\n",
    "1. 建立連線(通道)\n",
    "2. 透過此連線(通道)進行存、取資料\n",
    "3. 關閉連線(通道)\n",
    "\n",
    "- <img src='http://180.218.162.136:2018/Images/Python/db_connection.jpg' width=400 align=left></img>"
   ]
  },
  {
   "cell_type": "markdown",
   "metadata": {},
   "source": [
    "【DB伺服器資訊】\n",
    "- MS SQL SERVER\n",
    "    - 【伺服器】163.14.73.23\n",
    "    - 【PORT】1433\n",
    "    - 【Database】PyDB\n",
    "    - 【user】student\n",
    "    - 【password】student1111\n",
    "    \n",
    "【SQL語法】\n",
    "<pre>\n",
    "select a.County, a.SiteName, a.NO, a.NO2\n",
    "from AirQty as a\n",
    "where a.County in ('臺北市', '新北市', '高雄市')\n",
    "</pre>"
   ]
  },
  {
   "cell_type": "markdown",
   "metadata": {},
   "source": [
    "### <font color='red'>使用 pymssql 模組連線至 MS SQL SERVER</font>\n",
    "- 安裝模組與匯入\n",
    "    - pip install --upgrade pymssql\n",
    "    - import pymssql\n",
    "- pymssql.connect()\n",
    "    - server : 伺服器的位址\n",
    "    - port : 埠號\n",
    "    - database : 資料庫名稱\n",
    "    - user : 使用者帳號\n",
    "    - password : 使用者密碼    "
   ]
  },
  {
   "cell_type": "markdown",
   "metadata": {},
   "source": [
    "- TCP : \n",
    "    - 可靠傳輸，一個bit都不能loss掉\n",
    "    - 同步傳輸，沒有回應就會重送\n",
    "    - 效率較差\n",
    "- UDP :\n",
    "    - 不可靠傳輸\n",
    "    - 非同步傳輸，能丟多快就多快，漏接就算了\n",
    "    - 效率較高"
   ]
  },
  {
   "cell_type": "markdown",
   "metadata": {},
   "source": [
    "#### Step 1 : 建立連線(通道)"
   ]
  },
  {
   "cell_type": "code",
   "execution_count": 2,
   "metadata": {},
   "outputs": [],
   "source": [
    "conn = pymssql.connect(server = '163.14.73.23',\n",
    "                       port = '1433',              # 每個資料庫都會有固定申請的port號\n",
    "                       database = 'PyDB',\n",
    "                       user = 'student',\n",
    "                       password = 'student1111')"
   ]
  },
  {
   "cell_type": "markdown",
   "metadata": {},
   "source": [
    "#### Step 2 : 執行 SQL / T-SQL 語法"
   ]
  },
  {
   "cell_type": "code",
   "execution_count": 3,
   "metadata": {
    "scrolled": false
   },
   "outputs": [
    {
     "data": {
      "text/html": [
       "<div>\n",
       "<style scoped>\n",
       "    .dataframe tbody tr th:only-of-type {\n",
       "        vertical-align: middle;\n",
       "    }\n",
       "\n",
       "    .dataframe tbody tr th {\n",
       "        vertical-align: top;\n",
       "    }\n",
       "\n",
       "    .dataframe thead th {\n",
       "        text-align: right;\n",
       "    }\n",
       "</style>\n",
       "<table border=\"1\" class=\"dataframe\">\n",
       "  <thead>\n",
       "    <tr style=\"text-align: right;\">\n",
       "      <th></th>\n",
       "      <th>County</th>\n",
       "      <th>SiteName</th>\n",
       "      <th>NO</th>\n",
       "      <th>NO2</th>\n",
       "    </tr>\n",
       "  </thead>\n",
       "  <tbody>\n",
       "    <tr>\n",
       "      <th>0</th>\n",
       "      <td>高雄市</td>\n",
       "      <td>復興</td>\n",
       "      <td>1.08</td>\n",
       "      <td>5.1</td>\n",
       "    </tr>\n",
       "    <tr>\n",
       "      <th>1</th>\n",
       "      <td>新北市</td>\n",
       "      <td>永和</td>\n",
       "      <td>2.68</td>\n",
       "      <td>9.3</td>\n",
       "    </tr>\n",
       "    <tr>\n",
       "      <th>2</th>\n",
       "      <td>新北市</td>\n",
       "      <td>三重</td>\n",
       "      <td>45.20</td>\n",
       "      <td>25.0</td>\n",
       "    </tr>\n",
       "    <tr>\n",
       "      <th>3</th>\n",
       "      <td>臺北市</td>\n",
       "      <td>陽明</td>\n",
       "      <td>0.60</td>\n",
       "      <td>7.9</td>\n",
       "    </tr>\n",
       "    <tr>\n",
       "      <th>4</th>\n",
       "      <td>高雄市</td>\n",
       "      <td>小港</td>\n",
       "      <td>1.85</td>\n",
       "      <td>9.0</td>\n",
       "    </tr>\n",
       "  </tbody>\n",
       "</table>\n",
       "</div>"
      ],
      "text/plain": [
       "  County SiteName     NO   NO2\n",
       "0    高雄市       復興   1.08   5.1\n",
       "1    新北市       永和   2.68   9.3\n",
       "2    新北市       三重  45.20  25.0\n",
       "3    臺北市       陽明   0.60   7.9\n",
       "4    高雄市       小港   1.85   9.0"
      ]
     },
     "execution_count": 3,
     "metadata": {},
     "output_type": "execute_result"
    }
   ],
   "source": [
    "sqlStr = \"\"\"\n",
    "select a.County, a.SiteName, a.NO, a.NO2\n",
    "from AirQty as a\n",
    "where a.County in ('臺北市', '新北市', '高雄市')\n",
    "\"\"\"\n",
    "\n",
    "airQty = pd.read_sql(sql=sqlStr, con=conn)\n",
    "airQty.head()"
   ]
  },
  {
   "cell_type": "code",
   "execution_count": 4,
   "metadata": {},
   "outputs": [
    {
     "data": {
      "text/html": [
       "<div>\n",
       "<style scoped>\n",
       "    .dataframe tbody tr th:only-of-type {\n",
       "        vertical-align: middle;\n",
       "    }\n",
       "\n",
       "    .dataframe tbody tr th {\n",
       "        vertical-align: top;\n",
       "    }\n",
       "\n",
       "    .dataframe thead th {\n",
       "        text-align: right;\n",
       "    }\n",
       "</style>\n",
       "<table border=\"1\" class=\"dataframe\">\n",
       "  <thead>\n",
       "    <tr style=\"text-align: right;\">\n",
       "      <th></th>\n",
       "      <th>花萼長度</th>\n",
       "      <th>花萼寬度</th>\n",
       "      <th>花瓣長度</th>\n",
       "      <th>花瓣寬度</th>\n",
       "      <th>種類</th>\n",
       "    </tr>\n",
       "  </thead>\n",
       "  <tbody>\n",
       "    <tr>\n",
       "      <th>0</th>\n",
       "      <td>5.1</td>\n",
       "      <td>3.5</td>\n",
       "      <td>1.4</td>\n",
       "      <td>0.2</td>\n",
       "      <td>setosa</td>\n",
       "    </tr>\n",
       "    <tr>\n",
       "      <th>1</th>\n",
       "      <td>4.9</td>\n",
       "      <td>3.0</td>\n",
       "      <td>1.4</td>\n",
       "      <td>0.2</td>\n",
       "      <td>setosa</td>\n",
       "    </tr>\n",
       "    <tr>\n",
       "      <th>2</th>\n",
       "      <td>4.7</td>\n",
       "      <td>3.2</td>\n",
       "      <td>1.3</td>\n",
       "      <td>0.2</td>\n",
       "      <td>setosa</td>\n",
       "    </tr>\n",
       "    <tr>\n",
       "      <th>3</th>\n",
       "      <td>4.6</td>\n",
       "      <td>3.1</td>\n",
       "      <td>1.5</td>\n",
       "      <td>0.2</td>\n",
       "      <td>setosa</td>\n",
       "    </tr>\n",
       "    <tr>\n",
       "      <th>4</th>\n",
       "      <td>5.0</td>\n",
       "      <td>3.6</td>\n",
       "      <td>1.4</td>\n",
       "      <td>0.2</td>\n",
       "      <td>setosa</td>\n",
       "    </tr>\n",
       "  </tbody>\n",
       "</table>\n",
       "</div>"
      ],
      "text/plain": [
       "   花萼長度  花萼寬度  花瓣長度  花瓣寬度      種類\n",
       "0   5.1   3.5   1.4   0.2  setosa\n",
       "1   4.9   3.0   1.4   0.2  setosa\n",
       "2   4.7   3.2   1.3   0.2  setosa\n",
       "3   4.6   3.1   1.5   0.2  setosa\n",
       "4   5.0   3.6   1.4   0.2  setosa"
      ]
     },
     "execution_count": 4,
     "metadata": {},
     "output_type": "execute_result"
    }
   ],
   "source": [
    "sqlStr = \"\"\"\n",
    "select * from iris\n",
    "\"\"\"\n",
    "\n",
    "iris = pd.read_sql(sql=sqlStr, con=conn)\n",
    "iris.head()"
   ]
  },
  {
   "cell_type": "markdown",
   "metadata": {},
   "source": [
    "#### Step 3 : 結束連線"
   ]
  },
  {
   "cell_type": "code",
   "execution_count": 5,
   "metadata": {},
   "outputs": [],
   "source": [
    "conn.close()"
   ]
  },
  {
   "cell_type": "markdown",
   "metadata": {},
   "source": [
    "### <font color='red'>使用 pyodbc 模組連線至 MS SQL SERVER</font>\n",
    "- 安裝模組與匯入\n",
    "    - pip install --upgrade pyodbc\n",
    "    - import pyodbc\n",
    "- pyodbc.connect()的連線字串\n",
    "    - 'DSN=yourDSN;UID=user;PWD=password'\n",
    "    - 'DRIVER={SQL Server Native Client 11.0};SERVER=localhost;DATABASE=testdb;UID=user;PWD=password'\n",
    "    - dsn : Data Source Name"
   ]
  },
  {
   "cell_type": "markdown",
   "metadata": {},
   "source": [
    "#### <font color='blue'>【透過ODBC的DSN(Data Source Name)連線】</font>\n",
    "- DSN : Data Source Name (資料來源名稱)"
   ]
  },
  {
   "cell_type": "markdown",
   "metadata": {},
   "source": [
    "#### Step 1 : 建立連線(通道)"
   ]
  },
  {
   "cell_type": "code",
   "execution_count": 6,
   "metadata": {},
   "outputs": [],
   "source": [
    "conn = pyodbc.connect('DSN=dsnPyDB;UID=student;PWD=student1111')"
   ]
  },
  {
   "cell_type": "markdown",
   "metadata": {},
   "source": [
    "#### Step 2 : 執行 SQL / T-SQL 語法"
   ]
  },
  {
   "cell_type": "code",
   "execution_count": 7,
   "metadata": {
    "scrolled": false
   },
   "outputs": [
    {
     "data": {
      "text/html": [
       "<div>\n",
       "<style scoped>\n",
       "    .dataframe tbody tr th:only-of-type {\n",
       "        vertical-align: middle;\n",
       "    }\n",
       "\n",
       "    .dataframe tbody tr th {\n",
       "        vertical-align: top;\n",
       "    }\n",
       "\n",
       "    .dataframe thead th {\n",
       "        text-align: right;\n",
       "    }\n",
       "</style>\n",
       "<table border=\"1\" class=\"dataframe\">\n",
       "  <thead>\n",
       "    <tr style=\"text-align: right;\">\n",
       "      <th></th>\n",
       "      <th>County</th>\n",
       "      <th>SiteName</th>\n",
       "      <th>NO</th>\n",
       "      <th>NO2</th>\n",
       "    </tr>\n",
       "  </thead>\n",
       "  <tbody>\n",
       "    <tr>\n",
       "      <th>0</th>\n",
       "      <td>高雄市</td>\n",
       "      <td>復興</td>\n",
       "      <td>1.08</td>\n",
       "      <td>5.1</td>\n",
       "    </tr>\n",
       "    <tr>\n",
       "      <th>1</th>\n",
       "      <td>新北市</td>\n",
       "      <td>永和</td>\n",
       "      <td>2.68</td>\n",
       "      <td>9.3</td>\n",
       "    </tr>\n",
       "    <tr>\n",
       "      <th>2</th>\n",
       "      <td>新北市</td>\n",
       "      <td>三重</td>\n",
       "      <td>45.20</td>\n",
       "      <td>25.0</td>\n",
       "    </tr>\n",
       "    <tr>\n",
       "      <th>3</th>\n",
       "      <td>臺北市</td>\n",
       "      <td>陽明</td>\n",
       "      <td>0.60</td>\n",
       "      <td>7.9</td>\n",
       "    </tr>\n",
       "    <tr>\n",
       "      <th>4</th>\n",
       "      <td>高雄市</td>\n",
       "      <td>小港</td>\n",
       "      <td>1.85</td>\n",
       "      <td>9.0</td>\n",
       "    </tr>\n",
       "  </tbody>\n",
       "</table>\n",
       "</div>"
      ],
      "text/plain": [
       "  County SiteName     NO   NO2\n",
       "0    高雄市       復興   1.08   5.1\n",
       "1    新北市       永和   2.68   9.3\n",
       "2    新北市       三重  45.20  25.0\n",
       "3    臺北市       陽明   0.60   7.9\n",
       "4    高雄市       小港   1.85   9.0"
      ]
     },
     "execution_count": 7,
     "metadata": {},
     "output_type": "execute_result"
    }
   ],
   "source": [
    "sqlStr = \"\"\"\n",
    "select a.County, a.SiteName, a.NO, a.NO2\n",
    "from AirQty as a\n",
    "where a.County in ('臺北市', '新北市', '高雄市')\n",
    "\"\"\"\n",
    "\n",
    "airQty = pd.read_sql(sql=sqlStr, con=conn)\n",
    "airQty.head()"
   ]
  },
  {
   "cell_type": "markdown",
   "metadata": {},
   "source": [
    "#### Step 3 : 結束連線"
   ]
  },
  {
   "cell_type": "code",
   "execution_count": 5,
   "metadata": {},
   "outputs": [],
   "source": [
    "conn.close()"
   ]
  },
  {
   "cell_type": "markdown",
   "metadata": {},
   "source": [
    "#### <font color='blue'>【查看本機有哪些ODBC的驅動程式】</font>"
   ]
  },
  {
   "cell_type": "code",
   "execution_count": 9,
   "metadata": {},
   "outputs": [
    {
     "data": {
      "text/plain": [
       "['SQL Server',\n",
       " 'Microsoft Access Driver (*.mdb, *.accdb)',\n",
       " 'Microsoft Excel Driver (*.xls, *.xlsx, *.xlsm, *.xlsb)',\n",
       " 'Microsoft Access Text Driver (*.txt, *.csv)',\n",
       " 'SQL Server Native Client 11.0',\n",
       " 'ODBC Driver 17 for SQL Server']"
      ]
     },
     "execution_count": 9,
     "metadata": {},
     "output_type": "execute_result"
    }
   ],
   "source": [
    "pyodbc.drivers()"
   ]
  },
  {
   "cell_type": "markdown",
   "metadata": {},
   "source": [
    "#### <font color='blue'>【透過ODBC的DRIVER(驅動程式)直接連線】</font>"
   ]
  },
  {
   "cell_type": "markdown",
   "metadata": {},
   "source": [
    "#### Step 1 : 建立連線(通道)"
   ]
  },
  {
   "cell_type": "code",
   "execution_count": 10,
   "metadata": {},
   "outputs": [],
   "source": [
    "conn = pyodbc.connect(\"DRIVER={SQL Server Native Client 11.0};SERVER=163.14.73.23;\"\n",
    "                      \"DATABASE=PyDB;UID=student;PWD=student1111\")"
   ]
  },
  {
   "cell_type": "markdown",
   "metadata": {},
   "source": [
    "#### Step 2 : 執行 SQL / T-SQL 語法"
   ]
  },
  {
   "cell_type": "code",
   "execution_count": 11,
   "metadata": {
    "scrolled": false
   },
   "outputs": [
    {
     "data": {
      "text/html": [
       "<div>\n",
       "<style scoped>\n",
       "    .dataframe tbody tr th:only-of-type {\n",
       "        vertical-align: middle;\n",
       "    }\n",
       "\n",
       "    .dataframe tbody tr th {\n",
       "        vertical-align: top;\n",
       "    }\n",
       "\n",
       "    .dataframe thead th {\n",
       "        text-align: right;\n",
       "    }\n",
       "</style>\n",
       "<table border=\"1\" class=\"dataframe\">\n",
       "  <thead>\n",
       "    <tr style=\"text-align: right;\">\n",
       "      <th></th>\n",
       "      <th>County</th>\n",
       "      <th>SiteName</th>\n",
       "      <th>NO</th>\n",
       "      <th>NO2</th>\n",
       "    </tr>\n",
       "  </thead>\n",
       "  <tbody>\n",
       "    <tr>\n",
       "      <th>0</th>\n",
       "      <td>高雄市</td>\n",
       "      <td>復興</td>\n",
       "      <td>1.08</td>\n",
       "      <td>5.1</td>\n",
       "    </tr>\n",
       "    <tr>\n",
       "      <th>1</th>\n",
       "      <td>新北市</td>\n",
       "      <td>永和</td>\n",
       "      <td>2.68</td>\n",
       "      <td>9.3</td>\n",
       "    </tr>\n",
       "    <tr>\n",
       "      <th>2</th>\n",
       "      <td>新北市</td>\n",
       "      <td>三重</td>\n",
       "      <td>45.20</td>\n",
       "      <td>25.0</td>\n",
       "    </tr>\n",
       "    <tr>\n",
       "      <th>3</th>\n",
       "      <td>臺北市</td>\n",
       "      <td>陽明</td>\n",
       "      <td>0.60</td>\n",
       "      <td>7.9</td>\n",
       "    </tr>\n",
       "    <tr>\n",
       "      <th>4</th>\n",
       "      <td>高雄市</td>\n",
       "      <td>小港</td>\n",
       "      <td>1.85</td>\n",
       "      <td>9.0</td>\n",
       "    </tr>\n",
       "  </tbody>\n",
       "</table>\n",
       "</div>"
      ],
      "text/plain": [
       "  County SiteName     NO   NO2\n",
       "0    高雄市       復興   1.08   5.1\n",
       "1    新北市       永和   2.68   9.3\n",
       "2    新北市       三重  45.20  25.0\n",
       "3    臺北市       陽明   0.60   7.9\n",
       "4    高雄市       小港   1.85   9.0"
      ]
     },
     "execution_count": 11,
     "metadata": {},
     "output_type": "execute_result"
    }
   ],
   "source": [
    "sqlStr = \"\"\"\n",
    "select a.County, a.SiteName, a.NO, a.NO2\n",
    "from AirQty as a\n",
    "where a.County in ('臺北市', '新北市', '高雄市')\n",
    "\"\"\"\n",
    "\n",
    "airQty = pd.read_sql(sql=sqlStr, con=conn)\n",
    "airQty.head()"
   ]
  },
  {
   "cell_type": "markdown",
   "metadata": {},
   "source": [
    "#### Step 3 : 結束連線"
   ]
  },
  {
   "cell_type": "code",
   "execution_count": 12,
   "metadata": {},
   "outputs": [],
   "source": [
    "conn.close()"
   ]
  },
  {
   "cell_type": "markdown",
   "metadata": {},
   "source": [
    "### <font color='red'>使用 pyodbc 模組連線至 MS ACCESS</font>"
   ]
  },
  {
   "cell_type": "markdown",
   "metadata": {},
   "source": [
    "#### Step 1 : 建立連線(通道)"
   ]
  },
  {
   "cell_type": "code",
   "execution_count": 13,
   "metadata": {},
   "outputs": [],
   "source": [
    "conn = pyodbc.connect(\"DRIVER={Microsoft Access Driver (*.mdb, *.accdb)};\"\n",
    "                      \"DBQ=C:\\Data\\PyData\\PyData.accdb\")"
   ]
  },
  {
   "cell_type": "markdown",
   "metadata": {},
   "source": [
    "#### Step 2 : 執行 SQL / T-SQL 語法"
   ]
  },
  {
   "cell_type": "code",
   "execution_count": 14,
   "metadata": {
    "scrolled": false
   },
   "outputs": [
    {
     "data": {
      "text/html": [
       "<div>\n",
       "<style scoped>\n",
       "    .dataframe tbody tr th:only-of-type {\n",
       "        vertical-align: middle;\n",
       "    }\n",
       "\n",
       "    .dataframe tbody tr th {\n",
       "        vertical-align: top;\n",
       "    }\n",
       "\n",
       "    .dataframe thead th {\n",
       "        text-align: right;\n",
       "    }\n",
       "</style>\n",
       "<table border=\"1\" class=\"dataframe\">\n",
       "  <thead>\n",
       "    <tr style=\"text-align: right;\">\n",
       "      <th></th>\n",
       "      <th>County</th>\n",
       "      <th>SiteName</th>\n",
       "      <th>NO</th>\n",
       "      <th>NO2</th>\n",
       "    </tr>\n",
       "  </thead>\n",
       "  <tbody>\n",
       "    <tr>\n",
       "      <th>0</th>\n",
       "      <td>高雄市</td>\n",
       "      <td>復興</td>\n",
       "      <td>1.08</td>\n",
       "      <td>5.1</td>\n",
       "    </tr>\n",
       "    <tr>\n",
       "      <th>1</th>\n",
       "      <td>新北市</td>\n",
       "      <td>永和</td>\n",
       "      <td>2.68</td>\n",
       "      <td>9.3</td>\n",
       "    </tr>\n",
       "    <tr>\n",
       "      <th>2</th>\n",
       "      <td>新北市</td>\n",
       "      <td>三重</td>\n",
       "      <td>45.20</td>\n",
       "      <td>25.0</td>\n",
       "    </tr>\n",
       "    <tr>\n",
       "      <th>3</th>\n",
       "      <td>臺北市</td>\n",
       "      <td>陽明</td>\n",
       "      <td>0.60</td>\n",
       "      <td>7.9</td>\n",
       "    </tr>\n",
       "    <tr>\n",
       "      <th>4</th>\n",
       "      <td>高雄市</td>\n",
       "      <td>小港</td>\n",
       "      <td>1.85</td>\n",
       "      <td>9.0</td>\n",
       "    </tr>\n",
       "  </tbody>\n",
       "</table>\n",
       "</div>"
      ],
      "text/plain": [
       "  County SiteName     NO   NO2\n",
       "0    高雄市       復興   1.08   5.1\n",
       "1    新北市       永和   2.68   9.3\n",
       "2    新北市       三重  45.20  25.0\n",
       "3    臺北市       陽明   0.60   7.9\n",
       "4    高雄市       小港   1.85   9.0"
      ]
     },
     "execution_count": 14,
     "metadata": {},
     "output_type": "execute_result"
    }
   ],
   "source": [
    "sqlStr = \"\"\"\n",
    "select a.County, a.SiteName, a.NO, a.NO2\n",
    "from AirQty as a\n",
    "where a.County in ('臺北市', '新北市', '高雄市')\n",
    "\"\"\"\n",
    "\n",
    "airQty = pd.read_sql(sql=sqlStr, con=conn)\n",
    "airQty.head()"
   ]
  },
  {
   "cell_type": "markdown",
   "metadata": {},
   "source": [
    "#### Step 3 : 結束連線"
   ]
  },
  {
   "cell_type": "code",
   "execution_count": 15,
   "metadata": {},
   "outputs": [],
   "source": [
    "conn.close()"
   ]
  },
  {
   "cell_type": "markdown",
   "metadata": {},
   "source": [
    "### <font color='red'>MS SQL SERVER 的資料讀、寫，以及 T-SQL 的執行</font>"
   ]
  },
  {
   "cell_type": "markdown",
   "metadata": {},
   "source": [
    "<pre>\n",
    "create table tdale\n",
    "(\n",
    "sid char(10) primary key,\n",
    "sname varchar(100),\n",
    "birthday date\n",
    ")\n",
    "\n",
    "insert into tdale (sid, sname, birthday)\n",
    "values ('1', 'dale', '2020/01/01')\n",
    "\n",
    "select * from tdale\n",
    "\n",
    "update tdale\n",
    "set sname = 'Dale Chen'\n",
    "  , birthday = '2020/02/02'\n",
    "where sid = '1'\n",
    "\n",
    "delete tdale\n",
    "where sid = '1'\n",
    "\n",
    "drop table tdale\n",
    "\n",
    "exec sp_who2\n",
    "</pre>"
   ]
  },
  {
   "cell_type": "markdown",
   "metadata": {},
   "source": [
    "#### Step 1 : 建立連線(通道)"
   ]
  },
  {
   "cell_type": "code",
   "execution_count": 20,
   "metadata": {},
   "outputs": [],
   "source": [
    "conn = pyodbc.connect(\"DRIVER={SQL Server Native Client 11.0};SERVER=163.14.73.23;\"\n",
    "                      \"DATABASE=PyDB;UID=student;PWD=student1111\")"
   ]
  },
  {
   "cell_type": "markdown",
   "metadata": {},
   "source": [
    "#### Step 2 : 執行 SQL / T-SQL 語法"
   ]
  },
  {
   "cell_type": "code",
   "execution_count": 21,
   "metadata": {
    "scrolled": false
   },
   "outputs": [
    {
     "data": {
      "text/plain": [
       "<pyodbc.Cursor at 0x1610e497bb0>"
      ]
     },
     "execution_count": 21,
     "metadata": {},
     "output_type": "execute_result"
    }
   ],
   "source": [
    "conn.autocommit = True\n",
    "cursor = conn.cursor()\n",
    "\n",
    "sqlStr = \"\"\"\n",
    "    create table t09156142\n",
    "    (\n",
    "    sid char(10) primary key,\n",
    "    sname varchar(100),\n",
    "    birthday date\n",
    "    )\n",
    "\"\"\"\n",
    "\n",
    "cursor.execute(sqlStr)"
   ]
  },
  {
   "cell_type": "code",
   "execution_count": 26,
   "metadata": {},
   "outputs": [],
   "source": [
    "sqlStr = \"\"\"\n",
    "    insert into t09156142 (sid, sname, birthday)\n",
    "    values ('1', 'dale', '2020/01/01')\n",
    "\"\"\"\n",
    "\n",
    "try :\n",
    "    cursor.execute(sqlStr)\n",
    "except :\n",
    "    pass # 什麼都不做\n",
    "\n",
    "# conn.commit() 如果原本設為False，要寫這行，不然資料不會寫入"
   ]
  },
  {
   "cell_type": "markdown",
   "metadata": {},
   "source": [
    "#### Step 3 : 結束連線"
   ]
  },
  {
   "cell_type": "code",
   "execution_count": 12,
   "metadata": {},
   "outputs": [],
   "source": [
    "conn.close()"
   ]
  },
  {
   "cell_type": "code",
   "execution_count": null,
   "metadata": {},
   "outputs": [],
   "source": []
  },
  {
   "cell_type": "code",
   "execution_count": null,
   "metadata": {},
   "outputs": [],
   "source": []
  },
  {
   "cell_type": "code",
   "execution_count": null,
   "metadata": {},
   "outputs": [],
   "source": []
  }
 ],
 "metadata": {
  "kernelspec": {
   "display_name": "Python 3 (ipykernel)",
   "language": "python",
   "name": "python3"
  },
  "language_info": {
   "codemirror_mode": {
    "name": "ipython",
    "version": 3
   },
   "file_extension": ".py",
   "mimetype": "text/x-python",
   "name": "python",
   "nbconvert_exporter": "python",
   "pygments_lexer": "ipython3",
   "version": "3.9.12"
  }
 },
 "nbformat": 4,
 "nbformat_minor": 4
}

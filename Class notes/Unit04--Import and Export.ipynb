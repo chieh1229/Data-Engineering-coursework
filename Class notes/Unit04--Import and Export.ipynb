{
 "cells": [
  {
   "cell_type": "markdown",
   "metadata": {},
   "source": [
    "【東吳大學資管系】資料工程實務與應用<br>\n",
    "【授課老師】[陳祥輝 (Email : HsiangHui.Chen@gmail.com)](mailto:HsiangHui.Chen@gmail.com)<br>\n",
    "【facebook】[陳祥輝老師的臉書 (歡迎加好友)](https://goo.gl/osivhx)<br>\n",
    "【相關課程】[陳祥輝老師的課程]\n",
    "- [【東吳大學推廣部】](https://www.ext.scu.edu.tw/courses_search.php?key=陳祥輝)\n",
    "- [【臺北大學推廣教育】](https://dce.ntpu.edu.tw/page-search.php?q=陳祥輝)"
   ]
  },
  {
   "cell_type": "markdown",
   "metadata": {},
   "source": [
    "【重點提要】\n",
    "1. os module\n",
    "2. glob module\n",
    "3. 基本的純文字檔open/read/write/close\n",
    "4. 序列檔案的讀、寫 pickle\n",
    "5. 匯入/匯出 csv 檔案格式\n",
    "    * 使用 pandas module，讀入 DataFrame\n",
    "6. 匯入/匯出 excel 檔案格式 (使用 pandas & csv module)"
   ]
  },
  {
   "cell_type": "code",
   "execution_count": 1,
   "metadata": {},
   "outputs": [
    {
     "name": "stdout",
     "output_type": "stream",
     "text": [
      "【日期時間】2022/10/28 18:07:03\n",
      "【工作目錄】C:\\資料工程\n",
      "【主機名稱】LAPTOP-HN8S2UQE (192.168.1.107)\n",
      "【Python】3.8.13\n",
      "【pandas】1.4.2\n"
     ]
    },
    {
     "data": {
      "application/javascript": [
       "IPython.notebook.set_autosave_interval(120000)"
      ]
     },
     "metadata": {},
     "output_type": "display_data"
    },
    {
     "name": "stdout",
     "output_type": "stream",
     "text": [
      "Autosaving every 120 seconds\n"
     ]
    }
   ],
   "source": [
    "# -*- coding: utf-8 -*-\n",
    "from platform import python_version\n",
    "import os, time, glob, pickle, socket\n",
    "import pandas as pd\n",
    "\n",
    "print(\"【日期時間】{}\".format(time.strftime(\"%Y/%m/%d %H:%M:%S\")))\n",
    "print(\"【工作目錄】{}\".format(os.getcwd()))\n",
    "print(\"【主機名稱】{} ({})\".format(socket.gethostname(),socket.gethostbyname(socket.gethostname())))\n",
    "print(\"【Python】{}\".format(python_version()))\n",
    "print(\"【pandas】{}\".format(pd.__version__))\n",
    "\n",
    "%autosave 120"
   ]
  },
  {
   "cell_type": "code",
   "execution_count": 2,
   "metadata": {},
   "outputs": [
    {
     "name": "stdout",
     "output_type": "stream",
     "text": [
      "+0800 Fri Friday Oct October Fri Oct 28 18:07:03 2022 06 PM\n"
     ]
    }
   ],
   "source": [
    "print(time.strftime('%z %a %A %b %B %c %I %p'))"
   ]
  },
  {
   "cell_type": "markdown",
   "metadata": {},
   "source": [
    "time.strftime()\n",
    "- %Y : Year with century as a decimal number.\n",
    "- %m : Month as a decimal number [01,12].\n",
    "- %d : Day of the month as a decimal number [01,31].\n",
    "- %H : Hour (24-hour clock) as a decimal number [00,23].\n",
    "- %M : Minute as a decimal number [00,59].\n",
    "- %S : Second as a decimal number [00,61].\n",
    "- %z : Time zone offset from UTC.\n",
    "- %a : Locale's abbreviated weekday name.\n",
    "- %A : Locale's full weekday name.\n",
    "- %b : Locale's abbreviated month name.\n",
    "- %B : Locale's full month name.\n",
    "- %c : Locale's appropriate date and time representation.\n",
    "- %I : Hour (12-hour clock) as a decimal number [01,12].\n",
    "- %p : Locale's equivalent of either AM or PM."
   ]
  },
  {
   "cell_type": "markdown",
   "metadata": {},
   "source": [
    "### <font color=#0000FF>字串的 prefix - 前綴 字元</font>\n",
    "- r : raw string\n",
    "- b : bytes\n",
    "- u : unicode\n",
    "- f : format"
   ]
  },
  {
   "cell_type": "markdown",
   "metadata": {},
   "source": [
    "### <font color=#0000FF>os 模組</font>\n",
    "* os.getcwd()\n",
    "* os.chdir(path)\n",
    "* os.path.exists(path)\n",
    "* os.mkdir(path)\n",
    "* os.makedirs(name)\n",
    "* os.remove(path)\n",
    "* os.removedirs()"
   ]
  },
  {
   "cell_type": "code",
   "execution_count": 3,
   "metadata": {},
   "outputs": [],
   "source": [
    "import os"
   ]
  },
  {
   "cell_type": "code",
   "execution_count": 4,
   "metadata": {},
   "outputs": [
    {
     "data": {
      "text/plain": [
       "'C:\\\\資料工程'"
      ]
     },
     "execution_count": 4,
     "metadata": {},
     "output_type": "execute_result"
    }
   ],
   "source": [
    "# 查詢檔案的位址\n",
    "os.getcwd()"
   ]
  },
  {
   "cell_type": "code",
   "execution_count": 5,
   "metadata": {},
   "outputs": [
    {
     "name": "stdout",
     "output_type": "stream",
     "text": [
      "C:\\Anaconda3\\Lib\n"
     ]
    }
   ],
   "source": [
    "# 改變路徑\n",
    "path = 'C:\\\\Anaconda3\\\\Lib'             # \\ : 跳脫字元\n",
    "os.chdir(path)\n",
    "print(os.getcwd())"
   ]
  },
  {
   "cell_type": "code",
   "execution_count": 6,
   "metadata": {},
   "outputs": [
    {
     "name": "stdout",
     "output_type": "stream",
     "text": [
      "C:\\Anaconda3\\Lib\\dbm\n"
     ]
    }
   ],
   "source": [
    "# 後面沒有特殊字元\n",
    "path = r'C:\\Anaconda3\\Lib\\dbm'           # raw string\n",
    "os.chdir(path)\n",
    "print(os.getcwd())"
   ]
  },
  {
   "cell_type": "code",
   "execution_count": 7,
   "metadata": {},
   "outputs": [
    {
     "name": "stdout",
     "output_type": "stream",
     "text": [
      "C:\\Anaconda3\\man\n"
     ]
    }
   ],
   "source": [
    "# 使用正斜線/\n",
    "path = 'C:/Anaconda3/man'\n",
    "os.chdir(path)\n",
    "print(os.getcwd())"
   ]
  },
  {
   "cell_type": "markdown",
   "metadata": {},
   "source": [
    "### 單層目錄的建立、刪除"
   ]
  },
  {
   "cell_type": "code",
   "execution_count": 8,
   "metadata": {},
   "outputs": [],
   "source": [
    "# 建立檔案，不存在才建立\n",
    "path = r'C:\\TempDir'\n",
    "if not os.path.exists(path) :\n",
    "    os.mkdir(path)"
   ]
  },
  {
   "cell_type": "code",
   "execution_count": 9,
   "metadata": {},
   "outputs": [],
   "source": [
    "# 如果存在就刪掉\n",
    "path = r'C:\\TempDir'\n",
    "if os.path.exists(path) :\n",
    "    os.rmdir(path)"
   ]
  },
  {
   "cell_type": "markdown",
   "metadata": {},
   "source": [
    "### 多層目錄的建立、刪除"
   ]
  },
  {
   "cell_type": "code",
   "execution_count": 10,
   "metadata": {},
   "outputs": [],
   "source": [
    "path = r'C:\\TempDir\\A\\B\\C\\D\\E'\n",
    "os.makedirs(path, exist_ok=True)"
   ]
  },
  {
   "cell_type": "code",
   "execution_count": 11,
   "metadata": {},
   "outputs": [],
   "source": [
    "# 如果有分支，不會全部刪掉\n",
    "path = r'C:\\TempDir\\A\\B\\C\\D\\E'\n",
    "if os.path.exists(path) :\n",
    "    os.removedirs(path)"
   ]
  },
  {
   "cell_type": "markdown",
   "metadata": {},
   "source": [
    "### <font color=#0000FF>基本的編碼(encode)、與解碼(decode)</font>\n",
    "- Encode and Decode\n",
    "    - str -> encode -> bytes\n",
    "    - str <- decode <- bytes\n",
    "- 常見的編碼\n",
    "    - cp950 : Code Page 950, ASCII, Big-5\n",
    "    - utf-8 : UTF-8   unicode (Mac預設)\n",
    "    - utf-8-sig : UTF-8-BOM\n",
    "    - ms950 : Microoft 950 (Windows預設)\n",
    "- [Python Standard Encodings](https://docs.python.org/2.4/lib/standard-encodings.html)    "
   ]
  },
  {
   "cell_type": "code",
   "execution_count": 12,
   "metadata": {},
   "outputs": [
    {
     "name": "stdout",
     "output_type": "stream",
     "text": [
      "<class 'str'>\n",
      "b'\\xaaF\\xa7d\\xb8\\xea\\xba\\xdePython'\n",
      "b'\\xaaF\\xa7d\\xb8\\xea\\xba\\xdePython'\n",
      "b'\\xaaF\\xa7d\\xb8\\xea\\xba\\xdePython'\n",
      "-------------------------------------\n",
      "b'\\xe6\\x9d\\xb1\\xe5\\x90\\xb3\\xe8\\xb3\\x87\\xe7\\xae\\xa1Python'\n",
      "b'\\xe6\\x9d\\xb1\\xe5\\x90\\xb3\\xe8\\xb3\\x87\\xe7\\xae\\xa1Python'\n",
      "b'\\xef\\xbb\\xbf\\xe6\\x9d\\xb1\\xe5\\x90\\xb3\\xe8\\xb3\\x87\\xe7\\xae\\xa1Python'\n"
     ]
    }
   ],
   "source": [
    "msg = u'東吳資管Python'     # u : unicode\n",
    "print(type(msg))\n",
    "print(msg.encode(encoding='950'))\n",
    "print(msg.encode(encoding='cp950'))\n",
    "print(msg.encode(encoding='ms950'))\n",
    "print('-------------------------------------')\n",
    "print(msg.encode(encoding='utf-8'))\n",
    "print(msg.encode(encoding='utf8'))\n",
    "print(msg.encode(encoding='utf-8-sig'))   # utf-8-bom : 前三個 bytes是識別碼"
   ]
  },
  {
   "cell_type": "code",
   "execution_count": 13,
   "metadata": {},
   "outputs": [
    {
     "name": "stdout",
     "output_type": "stream",
     "text": [
      "東吳資管Python\n",
      "東吳資管Python\n",
      "東吳資管Python\n"
     ]
    }
   ],
   "source": [
    "# 用什麼編碼，就用什麼解碼\n",
    "byte_1 = b'\\xaaF\\xa7d\\xb8\\xea\\xba\\xdePython'\n",
    "byte_2 = b'\\xe6\\x9d\\xb1\\xe5\\x90\\xb3\\xe8\\xb3\\x87\\xe7\\xae\\xa1Python'\n",
    "byte_3 = b'\\xef\\xbb\\xbf\\xe6\\x9d\\xb1\\xe5\\x90\\xb3\\xe8\\xb3\\x87\\xe7\\xae\\xa1Python'\n",
    "\n",
    "print(byte_1.decode(encoding='cp950'))\n",
    "print(byte_2.decode(encoding='utf-8'))\n",
    "print(byte_3.decode(encoding='utf-8-sig'))"
   ]
  },
  {
   "cell_type": "markdown",
   "metadata": {},
   "source": [
    "### <font color=#0000FF>基本的純文字檔open/read/write/close</font>\n",
    "\n",
    "<pre>\n",
    "'r'       open for reading (default)\n",
    "'w'       open for writing, truncating the file first\n",
    "'a'       open for writing, appending to the end of the file if it exists\n",
    "'+'       open a disk file for updating (reading and writing)\n",
    "\n",
    "'t'       text mode (default)\n",
    "'b'       binary mode\n",
    "\n",
    "'x'       create a new file and open it for writing\n",
    "'U'       universal newline mode (deprecated)\n",
    "</pre>\n",
    "先寫在讀 w+\n",
    "先讀在寫 r+\n",
    "\n",
    "<img src='http://180.218.162.136:2018/Images/Python/OpenFile.jpg' width=450 align=left>\n",
    "</img>"
   ]
  },
  {
   "cell_type": "markdown",
   "metadata": {},
   "source": [
    "### 【方法一】open() .... close()"
   ]
  },
  {
   "cell_type": "markdown",
   "metadata": {},
   "source": [
    "#### mode = \"wt\" + write() : 會覆蓋掉已經存在的檔案"
   ]
  },
  {
   "cell_type": "code",
   "execution_count": 14,
   "metadata": {},
   "outputs": [
    {
     "name": "stdout",
     "output_type": "stream",
     "text": [
      "True\n"
     ]
    }
   ],
   "source": [
    "outf = open(file=r'C:\\Data\\outf.txt', mode='wt', encoding='utf-8')\n",
    "\n",
    "print(outf.writable())\n",
    "outf.write(\"人生苦短、我愛用Python_001\\n\")\n",
    "outf.write(\"人生苦短、我愛用Python_001\\n\")\n",
    "outf.write(\"人生苦短、我愛用Python_001\\n\")\n",
    "\n",
    "outf.flush()   # 強制將 buffer 內的資料寫入硬碟\n",
    "outf.close()"
   ]
  },
  {
   "cell_type": "markdown",
   "metadata": {},
   "source": [
    "#### mode = \"at\" + write() : 不會覆蓋掉已經存在的檔案，會附加到後面"
   ]
  },
  {
   "cell_type": "code",
   "execution_count": 15,
   "metadata": {},
   "outputs": [],
   "source": [
    "outf = open(file=r'C:\\Data\\outf.txt', mode='at', encoding='utf-8')\n",
    "\n",
    "outf.write(\"人生苦短、我愛用Python_002\\n\")\n",
    "outf.write(\"人生苦短、我愛用Python_002\\n\")\n",
    "outf.write(\"人生苦短、我愛用Python_002\\n\")\n",
    "\n",
    "outf.close()"
   ]
  },
  {
   "cell_type": "markdown",
   "metadata": {},
   "source": [
    "#### mode = \"at\" + writelines() : 不會覆蓋掉已經存在的檔案，會附加到後面"
   ]
  },
  {
   "cell_type": "code",
   "execution_count": 16,
   "metadata": {},
   "outputs": [],
   "source": [
    "# 一次寫入 list 全部\n",
    "data = ['人生苦短、我愛用Python_003\\n', \n",
    "        '人生苦短、我愛用Python_003\\n', \n",
    "        '人生苦短、我愛用Python_003\\n', \n",
    "        '人生苦短、我愛用Python_004\\n', \n",
    "        '人生苦短、我愛用Python_004\\n', \n",
    "        '人生苦短、我愛用Python_004\\n']\n",
    "\n",
    "outf = open(file=r'C:\\Data\\outf.txt', mode='at', encoding='utf-8')\n",
    "\n",
    "outf.writelines(data)\n",
    "\n",
    "outf.close()"
   ]
  },
  {
   "cell_type": "markdown",
   "metadata": {},
   "source": [
    "#### mode = \"rt\" + readline() : 每次讀一列，直到 EOF 回傳空字串\n",
    "- BOF : Begin Of File\n",
    "- EOF : End Of File"
   ]
  },
  {
   "cell_type": "code",
   "execution_count": 17,
   "metadata": {},
   "outputs": [
    {
     "name": "stdout",
     "output_type": "stream",
     "text": [
      "人生苦短、我愛用Python_001\n",
      "人生苦短、我愛用Python_001\n",
      "人生苦短、我愛用Python_001\n",
      "人生苦短、我愛用Python_002\n",
      "人生苦短、我愛用Python_002\n",
      "人生苦短、我愛用Python_002\n",
      "人生苦短、我愛用Python_003\n",
      "人生苦短、我愛用Python_003\n",
      "人生苦短、我愛用Python_003\n",
      "人生苦短、我愛用Python_004\n",
      "人生苦短、我愛用Python_004\n",
      "人生苦短、我愛用Python_004\n"
     ]
    }
   ],
   "source": [
    "# 一列一列讀取\n",
    "inpf = open(file=r'C:\\Data\\outf.txt', mode='rt', encoding='utf-8')\n",
    "\n",
    "msg = inpf.readline()\n",
    "while msg != \"\" :\n",
    "    print(msg, end=\"\")\n",
    "    msg = inpf.readline()\n",
    "\n",
    "inpf.close()"
   ]
  },
  {
   "cell_type": "markdown",
   "metadata": {},
   "source": [
    "#### mode = \"rt\" + readlines() : 一次將檔案讀入 list 物件，每一個元素等同於一個列"
   ]
  },
  {
   "cell_type": "code",
   "execution_count": 18,
   "metadata": {},
   "outputs": [
    {
     "name": "stdout",
     "output_type": "stream",
     "text": [
      "True\n",
      "<class 'list'>\n",
      "['人生苦短、我愛用Python_001\\n', '人生苦短、我愛用Python_001\\n', '人生苦短、我愛用Python_001\\n', '人生苦短、我愛用Python_002\\n', '人生苦短、我愛用Python_002\\n', '人生苦短、我愛用Python_002\\n', '人生苦短、我愛用Python_003\\n', '人生苦短、我愛用Python_003\\n', '人生苦短、我愛用Python_003\\n', '人生苦短、我愛用Python_004\\n', '人生苦短、我愛用Python_004\\n', '人生苦短、我愛用Python_004\\n']\n"
     ]
    }
   ],
   "source": [
    "# 讀全部存到 list\n",
    "inpf = open(file=r'C:\\Data\\outf.txt', mode='rt', encoding='utf-8')\n",
    "\n",
    "print(inpf.readable())\n",
    "\n",
    "msg = inpf.readlines()\n",
    "print(type(msg))\n",
    "print(msg)\n",
    "\n",
    "inpf.close()"
   ]
  },
  {
   "cell_type": "markdown",
   "metadata": {},
   "source": [
    "#### mode = \"rt\" + read() : 一次將檔案讀入 str"
   ]
  },
  {
   "cell_type": "code",
   "execution_count": 19,
   "metadata": {},
   "outputs": [
    {
     "name": "stdout",
     "output_type": "stream",
     "text": [
      "<class 'str'>\n",
      "人生苦短、我愛用Python_001\n",
      "人生苦短、我愛用Python_001\n",
      "人生苦短、我愛用Python_001\n",
      "人生苦短、我愛用Python_002\n",
      "人生苦短、我愛用Python_002\n",
      "人生苦短、我愛用Python_002\n",
      "人生苦短、我愛用Python_003\n",
      "人生苦短、我愛用Python_003\n",
      "人生苦短、我愛用Python_003\n",
      "人生苦短、我愛用Python_004\n",
      "人生苦短、我愛用Python_004\n",
      "人生苦短、我愛用Python_004\n",
      "\n"
     ]
    }
   ],
   "source": [
    "# 讀全部存到 string\n",
    "inpf = open(file=r'C:\\Data\\outf.txt', mode='rt', encoding='utf-8')\n",
    "\n",
    "msg = inpf.read()\n",
    "print(type(msg))\n",
    "print(msg)\n",
    "\n",
    "inpf.close()"
   ]
  },
  {
   "cell_type": "markdown",
   "metadata": {},
   "source": [
    "### 【方法二】with open () as alias :"
   ]
  },
  {
   "cell_type": "code",
   "execution_count": 20,
   "metadata": {},
   "outputs": [],
   "source": [
    "with open(file=r'C:\\Data\\outf.txt', mode='at', encoding='utf-8') as outf :\n",
    "    outf.write(\"人生苦短、我愛用Python_005\\n\")\n",
    "    outf.write(\"人生苦短、我愛用Python_005\\n\")\n",
    "    outf.write(\"人生苦短、我愛用Python_005\\n\")"
   ]
  },
  {
   "cell_type": "code",
   "execution_count": 21,
   "metadata": {},
   "outputs": [
    {
     "name": "stdout",
     "output_type": "stream",
     "text": [
      "<class 'str'>\n",
      "人生苦短、我愛用Python_001\n",
      "人生苦短、我愛用Python_001\n",
      "人生苦短、我愛用Python_001\n",
      "人生苦短、我愛用Python_002\n",
      "人生苦短、我愛用Python_002\n",
      "人生苦短、我愛用Python_002\n",
      "人生苦短、我愛用Python_003\n",
      "人生苦短、我愛用Python_003\n",
      "人生苦短、我愛用Python_003\n",
      "人生苦短、我愛用Python_004\n",
      "人生苦短、我愛用Python_004\n",
      "人生苦短、我愛用Python_004\n",
      "人生苦短、我愛用Python_005\n",
      "人生苦短、我愛用Python_005\n",
      "人生苦短、我愛用Python_005\n",
      "\n"
     ]
    }
   ],
   "source": [
    "with open(file=r'C:\\Data\\outf.txt', mode='rt', encoding='utf-8') as inpf :\n",
    "    msg = inpf.read()\n",
    "    print(type(msg))\n",
    "    print(msg)"
   ]
  },
  {
   "cell_type": "markdown",
   "metadata": {},
   "source": [
    "### 【方法三】物件導向寫法"
   ]
  },
  {
   "cell_type": "code",
   "execution_count": 22,
   "metadata": {},
   "outputs": [
    {
     "name": "stdout",
     "output_type": "stream",
     "text": [
      "15\n"
     ]
    }
   ],
   "source": [
    "msg = open(file=r'C:\\Data\\outf.txt', mode='rt', encoding='utf-8') \\\n",
    "            .read() \\\n",
    "            .replace('P','_P') \\\n",
    "            .replace('\\n','_') \\\n",
    "            .split('_') \\\n",
    "            .count('Python')\n",
    "                \n",
    "print(msg)"
   ]
  },
  {
   "cell_type": "markdown",
   "metadata": {},
   "source": [
    "### <font color=#0000FF>glob 模組 — Unix style pathname pattern expansion</font>\n",
    "* glob.glob(pathname, *, recursive=False)\n",
    "    * If recursive is true, the pattern '**' will match any files and zero or more directories and subdirectories."
   ]
  },
  {
   "cell_type": "code",
   "execution_count": 23,
   "metadata": {},
   "outputs": [],
   "source": [
    "import glob"
   ]
  },
  {
   "cell_type": "code",
   "execution_count": 24,
   "metadata": {},
   "outputs": [
    {
     "name": "stdout",
     "output_type": "stream",
     "text": [
      "30\n",
      "C:\\Data\\PyData\\AirQty(201604)\\AirQty2016-04-01.csv\n"
     ]
    }
   ],
   "source": [
    "path = r'C:\\Data\\PyData\\AirQty(201604)'\n",
    "fnames = glob.glob(path + r'\\*.csv', recursive=False)    # 只會找第一層\n",
    "print(len(fnames))\n",
    "print(fnames[0])"
   ]
  },
  {
   "cell_type": "code",
   "execution_count": 25,
   "metadata": {},
   "outputs": [
    {
     "name": "stdout",
     "output_type": "stream",
     "text": [
      "140\n",
      "C:\\Data\\news\\01\\news01001.csv\n"
     ]
    }
   ],
   "source": [
    "path = r'C:\\Data\\news'\n",
    "fnames = glob.glob(path + r'\\**\\*.csv', recursive=True)  #  recursive = True **是不管幾層都會去找\n",
    "print(len(fnames))\n",
    "print(fnames[0])"
   ]
  },
  {
   "cell_type": "markdown",
   "metadata": {},
   "source": [
    "### <font color=#0000FF>序列檔案的讀、寫</font>\n",
    "- pickle :\n",
    "- joblib :"
   ]
  },
  {
   "cell_type": "code",
   "execution_count": 26,
   "metadata": {},
   "outputs": [],
   "source": [
    "import pickle, joblib"
   ]
  },
  {
   "cell_type": "code",
   "execution_count": 27,
   "metadata": {},
   "outputs": [
    {
     "name": "stdout",
     "output_type": "stream",
     "text": [
      "<class 'list'>\n"
     ]
    }
   ],
   "source": [
    "print(type(fnames))\n",
    "\n",
    "with open(file=r'C:\\Data\\news.pkl', mode='wb') as outf :\n",
    "    pickle.dump(obj=fnames, file=outf)"
   ]
  },
  {
   "cell_type": "code",
   "execution_count": 28,
   "metadata": {},
   "outputs": [
    {
     "name": "stdout",
     "output_type": "stream",
     "text": [
      "<class 'list'>\n",
      "140\n",
      "C:\\Data\\news\\01\\news01001.csv\n"
     ]
    }
   ],
   "source": [
    "with open(file=r'C:\\Data\\news.pkl', mode='rb') as inpf :\n",
    "    fnames2 = pickle.load(inpf)\n",
    "    \n",
    "print(type(fnames2))\n",
    "print(len(fnames2))\n",
    "print(fnames2[0])"
   ]
  },
  {
   "cell_type": "code",
   "execution_count": 29,
   "metadata": {},
   "outputs": [
    {
     "data": {
      "text/plain": [
       "['C:\\\\Data\\\\news.job']"
      ]
     },
     "execution_count": 29,
     "metadata": {},
     "output_type": "execute_result"
    }
   ],
   "source": [
    "joblib.dump(value=fnames, filename=r'C:\\Data\\news.job', compress=0)  # compress=0 不壓縮"
   ]
  },
  {
   "cell_type": "code",
   "execution_count": 30,
   "metadata": {},
   "outputs": [
    {
     "name": "stdout",
     "output_type": "stream",
     "text": [
      "<class 'list'>\n",
      "140\n",
      "C:\\Data\\news\\01\\news01001.csv\n"
     ]
    }
   ],
   "source": [
    "fnames3 = joblib.load(filename=r'C:\\Data\\news.job')\n",
    "    \n",
    "print(type(fnames3))\n",
    "print(len(fnames3))\n",
    "print(fnames3[0])"
   ]
  },
  {
   "cell_type": "markdown",
   "metadata": {},
   "source": [
    "### <font color=#0000FF>匯入 csv 檔案格式 (使用 pandas module)</font>\n",
    "\n",
    "Signature: <br>\n",
    "pd.read_csv(filepath_or_buffer, sep=',', delimiter=None, header='infer', names=None, index_col=None, usecols=None, squeeze=False, prefix=None, mangle_dupe_cols=True, dtype=None, engine=None, converters=None, true_values=None, false_values=None, skipinitialspace=False, skiprows=None, nrows=None, na_values=None, keep_default_na=True, na_filter=True, verbose=False, skip_blank_lines=True, parse_dates=False, infer_datetime_format=False, keep_date_col=False, date_parser=None, dayfirst=False, iterator=False, chunksize=None, compression='infer', thousands=None, decimal=b'.', lineterminator=None, quotechar='\"', quoting=0, escapechar=None, comment=None, encoding=None, dialect=None, tupleize_cols=False, error_bad_lines=True, warn_bad_lines=True, skipfooter=0, skip_footer=0, doublequote=True, delim_whitespace=False, as_recarray=False, compact_ints=False, use_unsigned=False, low_memory=True, buffer_lines=None, memory_map=False, float_precision=None)"
   ]
  },
  {
   "cell_type": "code",
   "execution_count": 31,
   "metadata": {},
   "outputs": [],
   "source": [
    "import pandas as pd"
   ]
  },
  {
   "cell_type": "code",
   "execution_count": 32,
   "metadata": {},
   "outputs": [
    {
     "name": "stdout",
     "output_type": "stream",
     "text": [
      "<class 'pandas.core.frame.DataFrame'>\n",
      "(76, 17)\n",
      "Index(['SiteName', 'County', 'PSI', 'MajorPollutant', 'Status', 'SO2', 'CO',\n",
      "       'O3', 'PM10', 'PM2.5', 'NO2', 'WindSpeed', 'WindDirec', 'FPMI', 'NOx',\n",
      "       'NO', 'PublishTime'],\n",
      "      dtype='object')\n"
     ]
    },
    {
     "data": {
      "text/html": [
       "<div>\n",
       "<style scoped>\n",
       "    .dataframe tbody tr th:only-of-type {\n",
       "        vertical-align: middle;\n",
       "    }\n",
       "\n",
       "    .dataframe tbody tr th {\n",
       "        vertical-align: top;\n",
       "    }\n",
       "\n",
       "    .dataframe thead th {\n",
       "        text-align: right;\n",
       "    }\n",
       "</style>\n",
       "<table border=\"1\" class=\"dataframe\">\n",
       "  <thead>\n",
       "    <tr style=\"text-align: right;\">\n",
       "      <th></th>\n",
       "      <th>SiteName</th>\n",
       "      <th>County</th>\n",
       "      <th>PSI</th>\n",
       "      <th>MajorPollutant</th>\n",
       "      <th>Status</th>\n",
       "      <th>SO2</th>\n",
       "      <th>CO</th>\n",
       "      <th>O3</th>\n",
       "      <th>PM10</th>\n",
       "      <th>PM2.5</th>\n",
       "      <th>NO2</th>\n",
       "      <th>WindSpeed</th>\n",
       "      <th>WindDirec</th>\n",
       "      <th>FPMI</th>\n",
       "      <th>NOx</th>\n",
       "      <th>NO</th>\n",
       "      <th>PublishTime</th>\n",
       "    </tr>\n",
       "  </thead>\n",
       "  <tbody>\n",
       "    <tr>\n",
       "      <th>0</th>\n",
       "      <td>麥寮</td>\n",
       "      <td>雲林縣</td>\n",
       "      <td>36</td>\n",
       "      <td>NaN</td>\n",
       "      <td>良好</td>\n",
       "      <td>1.2</td>\n",
       "      <td>0.11</td>\n",
       "      <td>10.0</td>\n",
       "      <td>35.0</td>\n",
       "      <td>7</td>\n",
       "      <td>4.5</td>\n",
       "      <td>2.2</td>\n",
       "      <td>182.0</td>\n",
       "      <td>1</td>\n",
       "      <td>6.78</td>\n",
       "      <td>2.30</td>\n",
       "      <td>2016/6/1 02:00</td>\n",
       "    </tr>\n",
       "    <tr>\n",
       "      <th>1</th>\n",
       "      <td>關山</td>\n",
       "      <td>臺東縣</td>\n",
       "      <td>23</td>\n",
       "      <td>NaN</td>\n",
       "      <td>良好</td>\n",
       "      <td>1.2</td>\n",
       "      <td>NaN</td>\n",
       "      <td>5.1</td>\n",
       "      <td>21.0</td>\n",
       "      <td>7</td>\n",
       "      <td>3.6</td>\n",
       "      <td>0.7</td>\n",
       "      <td>232.0</td>\n",
       "      <td>1</td>\n",
       "      <td>4.89</td>\n",
       "      <td>1.32</td>\n",
       "      <td>2016/6/1 02:00</td>\n",
       "    </tr>\n",
       "    <tr>\n",
       "      <th>2</th>\n",
       "      <td>馬公</td>\n",
       "      <td>澎湖縣</td>\n",
       "      <td>16</td>\n",
       "      <td>NaN</td>\n",
       "      <td>良好</td>\n",
       "      <td>0.8</td>\n",
       "      <td>0.09</td>\n",
       "      <td>20.0</td>\n",
       "      <td>5.0</td>\n",
       "      <td>2</td>\n",
       "      <td>1.7</td>\n",
       "      <td>2.5</td>\n",
       "      <td>173.0</td>\n",
       "      <td>1</td>\n",
       "      <td>3.26</td>\n",
       "      <td>1.53</td>\n",
       "      <td>2016/6/1 02:00</td>\n",
       "    </tr>\n",
       "  </tbody>\n",
       "</table>\n",
       "</div>"
      ],
      "text/plain": [
       "  SiteName County  PSI MajorPollutant Status  SO2    CO    O3  PM10  PM2.5  \\\n",
       "0       麥寮    雲林縣   36            NaN     良好  1.2  0.11  10.0  35.0      7   \n",
       "1       關山    臺東縣   23            NaN     良好  1.2   NaN   5.1  21.0      7   \n",
       "2       馬公    澎湖縣   16            NaN     良好  0.8  0.09  20.0   5.0      2   \n",
       "\n",
       "   NO2  WindSpeed  WindDirec  FPMI   NOx    NO     PublishTime  \n",
       "0  4.5        2.2      182.0     1  6.78  2.30  2016/6/1 02:00  \n",
       "1  3.6        0.7      232.0     1  4.89  1.32  2016/6/1 02:00  \n",
       "2  1.7        2.5      173.0     1  3.26  1.53  2016/6/1 02:00  "
      ]
     },
     "execution_count": 32,
     "metadata": {},
     "output_type": "execute_result"
    }
   ],
   "source": [
    "fname = r'C:\\Data\\PyData\\AirQty2016-06-01_CP950.csv'\n",
    "airQty = pd.read_csv(fname, sep=',', encoding='cp950', engine='python')      # 欄位用逗號隔開\n",
    "print(type(airQty))\n",
    "print(airQty.shape)\n",
    "print(airQty.columns)\n",
    "airQty.head(3)"
   ]
  },
  {
   "cell_type": "code",
   "execution_count": 33,
   "metadata": {},
   "outputs": [
    {
     "name": "stdout",
     "output_type": "stream",
     "text": [
      "<class 'pandas.core.frame.DataFrame'>\n",
      "(76, 17)\n",
      "Index(['SiteName', 'County', 'PSI', 'MajorPollutant', 'Status', 'SO2', 'CO',\n",
      "       'O3', 'PM10', 'PM2.5', 'NO2', 'WindSpeed', 'WindDirec', 'FPMI', 'NOx',\n",
      "       'NO', 'PublishTime'],\n",
      "      dtype='object')\n"
     ]
    },
    {
     "data": {
      "text/html": [
       "<div>\n",
       "<style scoped>\n",
       "    .dataframe tbody tr th:only-of-type {\n",
       "        vertical-align: middle;\n",
       "    }\n",
       "\n",
       "    .dataframe tbody tr th {\n",
       "        vertical-align: top;\n",
       "    }\n",
       "\n",
       "    .dataframe thead th {\n",
       "        text-align: right;\n",
       "    }\n",
       "</style>\n",
       "<table border=\"1\" class=\"dataframe\">\n",
       "  <thead>\n",
       "    <tr style=\"text-align: right;\">\n",
       "      <th></th>\n",
       "      <th>SiteName</th>\n",
       "      <th>County</th>\n",
       "      <th>PSI</th>\n",
       "      <th>MajorPollutant</th>\n",
       "      <th>Status</th>\n",
       "      <th>SO2</th>\n",
       "      <th>CO</th>\n",
       "      <th>O3</th>\n",
       "      <th>PM10</th>\n",
       "      <th>PM2.5</th>\n",
       "      <th>NO2</th>\n",
       "      <th>WindSpeed</th>\n",
       "      <th>WindDirec</th>\n",
       "      <th>FPMI</th>\n",
       "      <th>NOx</th>\n",
       "      <th>NO</th>\n",
       "      <th>PublishTime</th>\n",
       "    </tr>\n",
       "  </thead>\n",
       "  <tbody>\n",
       "    <tr>\n",
       "      <th>0</th>\n",
       "      <td>麥寮</td>\n",
       "      <td>雲林縣</td>\n",
       "      <td>36</td>\n",
       "      <td>NaN</td>\n",
       "      <td>良好</td>\n",
       "      <td>1.2</td>\n",
       "      <td>0.11</td>\n",
       "      <td>10.0</td>\n",
       "      <td>35.0</td>\n",
       "      <td>7</td>\n",
       "      <td>4.5</td>\n",
       "      <td>2.2</td>\n",
       "      <td>182.0</td>\n",
       "      <td>1</td>\n",
       "      <td>6.78</td>\n",
       "      <td>2.30</td>\n",
       "      <td>2016/6/1 02:00</td>\n",
       "    </tr>\n",
       "    <tr>\n",
       "      <th>1</th>\n",
       "      <td>關山</td>\n",
       "      <td>臺東縣</td>\n",
       "      <td>23</td>\n",
       "      <td>NaN</td>\n",
       "      <td>良好</td>\n",
       "      <td>1.2</td>\n",
       "      <td>NaN</td>\n",
       "      <td>5.1</td>\n",
       "      <td>21.0</td>\n",
       "      <td>7</td>\n",
       "      <td>3.6</td>\n",
       "      <td>0.7</td>\n",
       "      <td>232.0</td>\n",
       "      <td>1</td>\n",
       "      <td>4.89</td>\n",
       "      <td>1.32</td>\n",
       "      <td>2016/6/1 02:00</td>\n",
       "    </tr>\n",
       "    <tr>\n",
       "      <th>2</th>\n",
       "      <td>馬公</td>\n",
       "      <td>澎湖縣</td>\n",
       "      <td>16</td>\n",
       "      <td>NaN</td>\n",
       "      <td>良好</td>\n",
       "      <td>0.8</td>\n",
       "      <td>0.09</td>\n",
       "      <td>20.0</td>\n",
       "      <td>5.0</td>\n",
       "      <td>2</td>\n",
       "      <td>1.7</td>\n",
       "      <td>2.5</td>\n",
       "      <td>173.0</td>\n",
       "      <td>1</td>\n",
       "      <td>3.26</td>\n",
       "      <td>1.53</td>\n",
       "      <td>2016/6/1 02:00</td>\n",
       "    </tr>\n",
       "  </tbody>\n",
       "</table>\n",
       "</div>"
      ],
      "text/plain": [
       "  SiteName County  PSI MajorPollutant Status  SO2    CO    O3  PM10  PM2.5  \\\n",
       "0       麥寮    雲林縣   36            NaN     良好  1.2  0.11  10.0  35.0      7   \n",
       "1       關山    臺東縣   23            NaN     良好  1.2   NaN   5.1  21.0      7   \n",
       "2       馬公    澎湖縣   16            NaN     良好  0.8  0.09  20.0   5.0      2   \n",
       "\n",
       "   NO2  WindSpeed  WindDirec  FPMI   NOx    NO     PublishTime  \n",
       "0  4.5        2.2      182.0     1  6.78  2.30  2016/6/1 02:00  \n",
       "1  3.6        0.7      232.0     1  4.89  1.32  2016/6/1 02:00  \n",
       "2  1.7        2.5      173.0     1  3.26  1.53  2016/6/1 02:00  "
      ]
     },
     "execution_count": 33,
     "metadata": {},
     "output_type": "execute_result"
    }
   ],
   "source": [
    "fname = r'C:\\Data\\PyData\\AirQty2016-06-01_UTF8.csv'\n",
    "airQty = pd.read_csv(fname, sep=',', encoding='utf-8', engine='python')\n",
    "print(type(airQty))\n",
    "print(airQty.shape)\n",
    "print(airQty.columns)\n",
    "airQty.head(3)"
   ]
  },
  {
   "cell_type": "code",
   "execution_count": 34,
   "metadata": {},
   "outputs": [
    {
     "name": "stdout",
     "output_type": "stream",
     "text": [
      "<class 'pandas.core.frame.DataFrame'>\n",
      "(76, 17)\n",
      "Index(['SiteName', 'County', 'PSI', 'MajorPollutant', 'Status', 'SO2', 'CO',\n",
      "       'O3', 'PM10', 'PM2.5', 'NO2', 'WindSpeed', 'WindDirec', 'FPMI', 'NOx',\n",
      "       'NO', 'PublishTime'],\n",
      "      dtype='object')\n"
     ]
    },
    {
     "data": {
      "text/html": [
       "<div>\n",
       "<style scoped>\n",
       "    .dataframe tbody tr th:only-of-type {\n",
       "        vertical-align: middle;\n",
       "    }\n",
       "\n",
       "    .dataframe tbody tr th {\n",
       "        vertical-align: top;\n",
       "    }\n",
       "\n",
       "    .dataframe thead th {\n",
       "        text-align: right;\n",
       "    }\n",
       "</style>\n",
       "<table border=\"1\" class=\"dataframe\">\n",
       "  <thead>\n",
       "    <tr style=\"text-align: right;\">\n",
       "      <th></th>\n",
       "      <th>SiteName</th>\n",
       "      <th>County</th>\n",
       "      <th>PSI</th>\n",
       "      <th>MajorPollutant</th>\n",
       "      <th>Status</th>\n",
       "      <th>SO2</th>\n",
       "      <th>CO</th>\n",
       "      <th>O3</th>\n",
       "      <th>PM10</th>\n",
       "      <th>PM2.5</th>\n",
       "      <th>NO2</th>\n",
       "      <th>WindSpeed</th>\n",
       "      <th>WindDirec</th>\n",
       "      <th>FPMI</th>\n",
       "      <th>NOx</th>\n",
       "      <th>NO</th>\n",
       "      <th>PublishTime</th>\n",
       "    </tr>\n",
       "  </thead>\n",
       "  <tbody>\n",
       "    <tr>\n",
       "      <th>0</th>\n",
       "      <td>麥寮</td>\n",
       "      <td>雲林縣</td>\n",
       "      <td>36</td>\n",
       "      <td>NaN</td>\n",
       "      <td>良好</td>\n",
       "      <td>1.2</td>\n",
       "      <td>0.11</td>\n",
       "      <td>10.0</td>\n",
       "      <td>35.0</td>\n",
       "      <td>7</td>\n",
       "      <td>4.5</td>\n",
       "      <td>2.2</td>\n",
       "      <td>182.0</td>\n",
       "      <td>1</td>\n",
       "      <td>6.78</td>\n",
       "      <td>2.30</td>\n",
       "      <td>2016/6/1 02:00</td>\n",
       "    </tr>\n",
       "    <tr>\n",
       "      <th>1</th>\n",
       "      <td>關山</td>\n",
       "      <td>臺東縣</td>\n",
       "      <td>23</td>\n",
       "      <td>NaN</td>\n",
       "      <td>良好</td>\n",
       "      <td>1.2</td>\n",
       "      <td>NaN</td>\n",
       "      <td>5.1</td>\n",
       "      <td>21.0</td>\n",
       "      <td>7</td>\n",
       "      <td>3.6</td>\n",
       "      <td>0.7</td>\n",
       "      <td>232.0</td>\n",
       "      <td>1</td>\n",
       "      <td>4.89</td>\n",
       "      <td>1.32</td>\n",
       "      <td>2016/6/1 02:00</td>\n",
       "    </tr>\n",
       "    <tr>\n",
       "      <th>2</th>\n",
       "      <td>馬公</td>\n",
       "      <td>澎湖縣</td>\n",
       "      <td>16</td>\n",
       "      <td>NaN</td>\n",
       "      <td>良好</td>\n",
       "      <td>0.8</td>\n",
       "      <td>0.09</td>\n",
       "      <td>20.0</td>\n",
       "      <td>5.0</td>\n",
       "      <td>2</td>\n",
       "      <td>1.7</td>\n",
       "      <td>2.5</td>\n",
       "      <td>173.0</td>\n",
       "      <td>1</td>\n",
       "      <td>3.26</td>\n",
       "      <td>1.53</td>\n",
       "      <td>2016/6/1 02:00</td>\n",
       "    </tr>\n",
       "  </tbody>\n",
       "</table>\n",
       "</div>"
      ],
      "text/plain": [
       "  SiteName County  PSI MajorPollutant Status  SO2    CO    O3  PM10  PM2.5  \\\n",
       "0       麥寮    雲林縣   36            NaN     良好  1.2  0.11  10.0  35.0      7   \n",
       "1       關山    臺東縣   23            NaN     良好  1.2   NaN   5.1  21.0      7   \n",
       "2       馬公    澎湖縣   16            NaN     良好  0.8  0.09  20.0   5.0      2   \n",
       "\n",
       "   NO2  WindSpeed  WindDirec  FPMI   NOx    NO     PublishTime  \n",
       "0  4.5        2.2      182.0     1  6.78  2.30  2016/6/1 02:00  \n",
       "1  3.6        0.7      232.0     1  4.89  1.32  2016/6/1 02:00  \n",
       "2  1.7        2.5      173.0     1  3.26  1.53  2016/6/1 02:00  "
      ]
     },
     "execution_count": 34,
     "metadata": {},
     "output_type": "execute_result"
    }
   ],
   "source": [
    "fname = r'C:\\Data\\PyData\\AirQty2016-06-01_UTF8_BOM.csv'\n",
    "airQty = pd.read_csv(fname, sep=',', encoding='utf-8-sig', engine='python')\n",
    "print(type(airQty))\n",
    "print(airQty.shape)\n",
    "print(airQty.columns)\n",
    "airQty.head(3)"
   ]
  },
  {
   "cell_type": "markdown",
   "metadata": {},
   "source": [
    "### <font color=#0000FF>匯入 excel 檔案格式</font>\n",
    "\n",
    "Signature: <br>\n",
    "pd.read_excel(io, sheet_name=0, header=0, skiprows=None, skip_footer=0, index_col=None, names=None, parse_cols=None, parse_dates=False, date_parser=None, na_values=None, thousands=None, convert_float=True, has_index_names=None, converters=None, dtype=None, true_values=None, false_values=None, engine=None, squeeze=False, **kwds)"
   ]
  },
  {
   "cell_type": "code",
   "execution_count": 35,
   "metadata": {},
   "outputs": [
    {
     "name": "stdout",
     "output_type": "stream",
     "text": [
      "(697287, 10)\n",
      "CPU times: total: 1min 31s\n",
      "Wall time: 1min 32s\n"
     ]
    }
   ],
   "source": [
    "%%time\n",
    "fname = r'C:\\Data\\PyData\\rlog2016-06-01.xlsx'\n",
    "rlog = pd.read_excel(fname)\n",
    "print(rlog.shape)"
   ]
  },
  {
   "cell_type": "code",
   "execution_count": 36,
   "metadata": {},
   "outputs": [
    {
     "name": "stdout",
     "output_type": "stream",
     "text": [
      "(697287, 10)\n",
      "CPU times: total: 672 ms\n",
      "Wall time: 703 ms\n"
     ]
    }
   ],
   "source": [
    "%%time\n",
    "fname = r'C:\\Data\\PyData\\rlog2016-06-01.csv'\n",
    "rlog = pd.read_csv(fname)\n",
    "print(rlog.shape)"
   ]
  },
  {
   "cell_type": "markdown",
   "metadata": {},
   "source": [
    "### <font color=#0000FF>匯出 csv / excel 檔案格式</font>\n",
    "pandas.DataFrame.to_****()"
   ]
  },
  {
   "cell_type": "code",
   "execution_count": 37,
   "metadata": {},
   "outputs": [],
   "source": [
    "airQty.to_excel(r'C:\\Data\\airQty.xlsx', sheet_name='空氣汙染指標', index=False)"
   ]
  },
  {
   "cell_type": "code",
   "execution_count": 38,
   "metadata": {},
   "outputs": [
    {
     "name": "stdout",
     "output_type": "stream",
     "text": [
      "CPU times: total: 2.19 s\n",
      "Wall time: 2.21 s\n"
     ]
    }
   ],
   "source": [
    "%%time\n",
    "rlog.to_csv(r'C:\\Data\\rlog.txt', sep=';', index=False)"
   ]
  },
  {
   "cell_type": "markdown",
   "metadata": {},
   "source": [
    "### 【練習題】撰寫一個函數可以提取出現頻率最高、最低的前n個字\n",
    "- 函數名稱 : countWordByNewsdir(path, topN=10, reverse=False)\n",
    "- 【參數】\n",
    "    - path : 新聞存放的目錄，例如 : C:\\Data\\news\n",
    "    - topN : 指定選取前 n 個字\n",
    "    - reverse :\n",
    "        - False : 遞增排序\n",
    "        - True : 遞減排序\n",
    "- 【return】\n",
    "    - dict.items()"
   ]
  },
  {
   "cell_type": "code",
   "execution_count": 39,
   "metadata": {},
   "outputs": [],
   "source": [
    "import glob\n",
    "import pandas as pd\n",
    "import string"
   ]
  },
  {
   "cell_type": "code",
   "execution_count": 40,
   "metadata": {},
   "outputs": [],
   "source": [
    "def countWordByNewsdir(path, topN=10, reverse=False) :\n",
    "    fnames = glob.glob(path + r'\\**\\*.csv', recursive=True)\n",
    "    txt =''\n",
    "    for i in range(0,len(fnames)) :\n",
    "        inpf = open(file=fnames[i], mode='rt', encoding='utf-8')\n",
    "        txt += inpf.read()\n",
    "        inpf.close()\n",
    "\n",
    "    d = {w:txt.count(w) for w in set(txt)}\n",
    "    stop_words = ['（', '）','%', '／', '＼', '「', '」', '\\n', '；', '，', '、', '。'] + \\\n",
    "                list(string.ascii_letters) + \\\n",
    "                list(string.digits)\n",
    "\n",
    "    d = {w:txt.count(w) for w in set(txt) if w not in stop_words}\n",
    "    a = dict(sorted(d.items(), key=lambda x : x[1], reverse=reverse)[:topN])\n",
    "    return a.items()"
   ]
  },
  {
   "cell_type": "code",
   "execution_count": 41,
   "metadata": {},
   "outputs": [
    {
     "data": {
      "text/plain": [
       "dict_items([('杉', 1), ('懊', 1), ('殞', 1), ('乃', 1), ('肋', 1), ('佈', 1), ('飢', 1), ('縛', 1), ('戳', 1), ('掠', 1)])"
      ]
     },
     "execution_count": 41,
     "metadata": {},
     "output_type": "execute_result"
    }
   ],
   "source": [
    "countWordByNewsdir(path = r'C:\\Data\\news', topN=10, reverse=False)"
   ]
  },
  {
   "cell_type": "code",
   "execution_count": 42,
   "metadata": {},
   "outputs": [
    {
     "data": {
      "text/plain": [
       "dict_items([('的', 1931), ('有', 798), ('是', 754), ('國', 748), ('在', 711), ('一', 638), ('會', 631), ('人', 582), ('不', 568), ('台', 509)])"
      ]
     },
     "execution_count": 42,
     "metadata": {},
     "output_type": "execute_result"
    }
   ],
   "source": [
    "countWordByNewsdir(path = r'C:\\Data\\news', topN=10, reverse=True)"
   ]
  },
  {
   "cell_type": "code",
   "execution_count": null,
   "metadata": {},
   "outputs": [],
   "source": []
  }
 ],
 "metadata": {
  "kernelspec": {
   "display_name": "Python 3 (ipykernel)",
   "language": "python",
   "name": "python3"
  },
  "language_info": {
   "codemirror_mode": {
    "name": "ipython",
    "version": 3
   },
   "file_extension": ".py",
   "mimetype": "text/x-python",
   "name": "python",
   "nbconvert_exporter": "python",
   "pygments_lexer": "ipython3",
   "version": "3.8.13"
  }
 },
 "nbformat": 4,
 "nbformat_minor": 4
}

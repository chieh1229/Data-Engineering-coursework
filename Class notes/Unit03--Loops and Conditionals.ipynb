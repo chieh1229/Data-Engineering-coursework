{
 "cells": [
  {
   "cell_type": "markdown",
   "metadata": {},
   "source": [
    "【東吳大學資管系】資料工程實務與應用<br>\n",
    "【授課老師】[陳祥輝 (Email : HsiangHui.Chen@gmail.com)](mailto:HsiangHui.Chen@gmail.com)<br>\n",
    "【facebook】[陳祥輝老師的臉書 (歡迎加好友)](https://goo.gl/osivhx)<br>\n",
    "【相關課程】[陳祥輝老師的課程]\n",
    "- [【東吳大學推廣部】](https://www.ext.scu.edu.tw/courses_search.php?key=陳祥輝)\n",
    "- [【臺北大學推廣教育】](https://dce.ntpu.edu.tw/page-search.php?q=陳祥輝)"
   ]
  },
  {
   "cell_type": "markdown",
   "metadata": {},
   "source": [
    "【重點提要】\n",
    "1. 循序結構(Sequential)\n",
    "2. 選擇結構(Selection) : \n",
    "    * if ... elif ... elif ... else \n",
    "    * X if C else Y\n",
    "3. 迭代結構(Iteration) : for / while, break / continue"
   ]
  },
  {
   "cell_type": "markdown",
   "metadata": {},
   "source": [
    "#### <font color=#0000FF>Python Primitive data types (基本資料型態)</font>\n",
    "\n",
    "* Numeric Types \n",
    "    - int()\n",
    "    - float()\n",
    "    - complex()\n",
    "* bool()\n",
    "* str()\n",
    "* None"
   ]
  },
  {
   "cell_type": "code",
   "execution_count": 1,
   "metadata": {},
   "outputs": [
    {
     "name": "stdout",
     "output_type": "stream",
     "text": [
      "<class 'int'>\n",
      "<class 'float'>\n"
     ]
    }
   ],
   "source": [
    "print(type(10))\n",
    "print(type(10.))"
   ]
  },
  {
   "cell_type": "code",
   "execution_count": 2,
   "metadata": {},
   "outputs": [
    {
     "name": "stdout",
     "output_type": "stream",
     "text": [
      "1020\n",
      "30\n"
     ]
    }
   ],
   "source": [
    "x = 10\n",
    "y = '20'\n",
    "print(str(x) + y)\n",
    "print(x + int(y))"
   ]
  },
  {
   "cell_type": "code",
   "execution_count": 3,
   "metadata": {},
   "outputs": [
    {
     "name": "stdout",
     "output_type": "stream",
     "text": [
      "<class 'float'>\n"
     ]
    }
   ],
   "source": [
    "print(type(float(10)))"
   ]
  },
  {
   "cell_type": "code",
   "execution_count": 4,
   "metadata": {},
   "outputs": [
    {
     "name": "stdout",
     "output_type": "stream",
     "text": [
      "True\n",
      "True\n",
      "False\n"
     ]
    }
   ],
   "source": [
    "# 非0:True 0:False\n",
    "\n",
    "print(bool(10))\n",
    "print(bool(-10))\n",
    "print(bool(0))"
   ]
  },
  {
   "cell_type": "code",
   "execution_count": 5,
   "metadata": {},
   "outputs": [
    {
     "name": "stdout",
     "output_type": "stream",
     "text": [
      "1\n",
      "0\n"
     ]
    }
   ],
   "source": [
    "print(int(True))\n",
    "print(int(False))"
   ]
  },
  {
   "cell_type": "code",
   "execution_count": 6,
   "metadata": {},
   "outputs": [
    {
     "data": {
      "text/plain": [
       "3"
      ]
     },
     "execution_count": 6,
     "metadata": {},
     "output_type": "execute_result"
    }
   ],
   "source": [
    "sum([True, True, False, False, True])"
   ]
  },
  {
   "cell_type": "markdown",
   "metadata": {},
   "source": [
    "### <font color=#0000FF>【比較以下不同import用法的差異】</font>\n",
    "* import numpy as np\n",
    "* import numpy.random as rnd1\n",
    "* from numpy import random as rnd2\n",
    "* from numpy.random import random"
   ]
  },
  {
   "cell_type": "markdown",
   "metadata": {},
   "source": [
    "<table>\n",
    "<tr><td>\n",
    "<img src='http://180.218.162.136:2018/Images/Python/importDiag.png' width=300 height=300 alt=\"這裡是放一張 importDiag.png 的示意圖\"></td><td>\n",
    "<img src='http://180.218.162.136:2018/Images/Python/importNumpy.png' width=300 height=300 alt=\"這裡是放一張 importNumpy.png 的示意圖\">\n",
    "</td></tr>\n",
    "</table>"
   ]
  },
  {
   "cell_type": "code",
   "execution_count": 7,
   "metadata": {},
   "outputs": [
    {
     "name": "stdout",
     "output_type": "stream",
     "text": [
      "# conda environments:\n",
      "#\n",
      "                         C:\\Anaconda3\n",
      "base                  *  C:\\Users\\sandy\\.conda\\envs\\Py39\n",
      "tf2                      C:\\Users\\sandy\\.conda\\envs\\tf2\n",
      "\n"
     ]
    }
   ],
   "source": [
    "!conda env list"
   ]
  },
  {
   "cell_type": "markdown",
   "metadata": {},
   "source": [
    "### <font color=#0000FF>1.各種的import方式</font>"
   ]
  },
  {
   "cell_type": "markdown",
   "metadata": {},
   "source": [
    "#### 【方法一】"
   ]
  },
  {
   "cell_type": "code",
   "execution_count": 12,
   "metadata": {},
   "outputs": [],
   "source": [
    "import numpy as np\n",
    "import math"
   ]
  },
  {
   "cell_type": "code",
   "execution_count": 13,
   "metadata": {},
   "outputs": [
    {
     "data": {
      "text/plain": [
       "<module 'numpy' from 'C:\\\\Users\\\\sandy\\\\.conda\\\\envs\\\\Py39\\\\lib\\\\site-packages\\\\numpy\\\\__init__.py'>"
      ]
     },
     "execution_count": 13,
     "metadata": {},
     "output_type": "execute_result"
    }
   ],
   "source": [
    "np"
   ]
  },
  {
   "cell_type": "code",
   "execution_count": 14,
   "metadata": {},
   "outputs": [
    {
     "data": {
      "text/plain": [
       "<module 'math' (built-in)>"
      ]
     },
     "execution_count": 14,
     "metadata": {},
     "output_type": "execute_result"
    }
   ],
   "source": [
    "math"
   ]
  },
  {
   "cell_type": "code",
   "execution_count": 28,
   "metadata": {},
   "outputs": [
    {
     "name": "stdout",
     "output_type": "stream",
     "text": [
      "0.5513147690828912\n"
     ]
    }
   ],
   "source": [
    "# 套件:numpy，子套件:random，方法:random\n",
    "print(np.random.random())"
   ]
  },
  {
   "cell_type": "code",
   "execution_count": 27,
   "metadata": {},
   "outputs": [
    {
     "name": "stdout",
     "output_type": "stream",
     "text": [
      "0.6964691855978616\n",
      "0.28613933495037946\n",
      "0.2268514535642031\n"
     ]
    }
   ],
   "source": [
    "# 設定 seed 每次抽出來都一樣，數字沒有意義，效果不好就換一個，設定一次用一次，離開這個cell就沒了\n",
    "np.random.seed(123)\n",
    "print(np.random.random())\n",
    "print(np.random.random())\n",
    "print(np.random.random())"
   ]
  },
  {
   "cell_type": "markdown",
   "metadata": {},
   "source": [
    "#### 【方法二】"
   ]
  },
  {
   "cell_type": "code",
   "execution_count": 29,
   "metadata": {},
   "outputs": [],
   "source": [
    "import numpy.random as rnd1\n",
    "from numpy import random as rnd2"
   ]
  },
  {
   "cell_type": "code",
   "execution_count": 30,
   "metadata": {},
   "outputs": [
    {
     "name": "stdout",
     "output_type": "stream",
     "text": [
      "0.7194689697855631\n",
      "0.42310646012446096\n"
     ]
    }
   ],
   "source": [
    "print(rnd1.random())\n",
    "print(rnd2.random())"
   ]
  },
  {
   "cell_type": "markdown",
   "metadata": {},
   "source": [
    "#### 【方法三】要小心使用，避免覆蓋掉內建函數"
   ]
  },
  {
   "cell_type": "code",
   "execution_count": 32,
   "metadata": {},
   "outputs": [],
   "source": [
    "from numpy.random import random     # 如果內建函數有random會被蓋掉\n",
    "from numpy.random import *          # 特別小心使用，除非很熟，不然不曉得有哪些函數會被蓋掉"
   ]
  },
  {
   "cell_type": "code",
   "execution_count": 33,
   "metadata": {},
   "outputs": [
    {
     "data": {
      "text/plain": [
       "0.9807641983846155"
      ]
     },
     "execution_count": 33,
     "metadata": {},
     "output_type": "execute_result"
    }
   ],
   "source": [
    "random()"
   ]
  },
  {
   "cell_type": "markdown",
   "metadata": {},
   "source": [
    "#### 【常用的隨機產生亂數】"
   ]
  },
  {
   "cell_type": "code",
   "execution_count": 35,
   "metadata": {},
   "outputs": [
    {
     "name": "stdout",
     "output_type": "stream",
     "text": [
      "0.3980442553304314\n",
      "0.7379954057320357\n",
      "[0.18249173 0.17545176 0.53155137 0.53182759 0.63440096]\n"
     ]
    }
   ],
   "source": [
    "# 含起不含迄[0.0, 1.0) >=0 <1\n",
    "print(np.random.random())\n",
    "print(np.random.random(1)[0])\n",
    "print(np.random.random(5))          # 會變 list"
   ]
  },
  {
   "cell_type": "code",
   "execution_count": 37,
   "metadata": {},
   "outputs": [
    {
     "name": "stdout",
     "output_type": "stream",
     "text": [
      "[[ 0.72491523  1.49582653  0.74658059 -1.10098526]\n",
      " [-1.4103012  -0.74765132 -0.98486761 -0.74856868]\n",
      " [ 0.24036728 -1.85563747 -1.7794548  -2.75022426]]\n"
     ]
    }
   ],
   "source": [
    "print(np.random.randn(3, 4))      # 標準常態分配，99.7%會落在-3 ~ 3"
   ]
  },
  {
   "cell_type": "code",
   "execution_count": 39,
   "metadata": {},
   "outputs": [
    {
     "name": "stdout",
     "output_type": "stream",
     "text": [
      "15\n",
      "[17]\n"
     ]
    }
   ],
   "source": [
    "# 要一刀切下去，分成左右，左位子參數、右關鍵參數，不能關鍵參數在位子參數的左邊\n",
    "\n",
    "print(np.random.randint(11, 20+1))\n",
    "print(np.random.randint(low=11, high=20+1, size=1))"
   ]
  },
  {
   "cell_type": "code",
   "execution_count": 40,
   "metadata": {},
   "outputs": [
    {
     "name": "stdout",
     "output_type": "stream",
     "text": [
      "6\n",
      "[4]\n",
      "[3 1 5 4 2 4 3]\n"
     ]
    },
    {
     "ename": "ValueError",
     "evalue": "Cannot take a larger sample than population when 'replace=False'",
     "output_type": "error",
     "traceback": [
      "\u001b[1;31m---------------------------------------------------------------------------\u001b[0m",
      "\u001b[1;31mValueError\u001b[0m                                Traceback (most recent call last)",
      "Input \u001b[1;32mIn [40]\u001b[0m, in \u001b[0;36m<cell line: 4>\u001b[1;34m()\u001b[0m\n\u001b[0;32m      2\u001b[0m \u001b[38;5;28mprint\u001b[39m(np\u001b[38;5;241m.\u001b[39mrandom\u001b[38;5;241m.\u001b[39mchoice(a\u001b[38;5;241m=\u001b[39m[\u001b[38;5;241m1\u001b[39m,\u001b[38;5;241m2\u001b[39m,\u001b[38;5;241m3\u001b[39m,\u001b[38;5;241m4\u001b[39m,\u001b[38;5;241m5\u001b[39m,\u001b[38;5;241m6\u001b[39m], size\u001b[38;5;241m=\u001b[39m\u001b[38;5;241m1\u001b[39m))\n\u001b[0;32m      3\u001b[0m \u001b[38;5;28mprint\u001b[39m(np\u001b[38;5;241m.\u001b[39mrandom\u001b[38;5;241m.\u001b[39mchoice(a\u001b[38;5;241m=\u001b[39m[\u001b[38;5;241m1\u001b[39m,\u001b[38;5;241m2\u001b[39m,\u001b[38;5;241m3\u001b[39m,\u001b[38;5;241m4\u001b[39m,\u001b[38;5;241m5\u001b[39m,\u001b[38;5;241m6\u001b[39m], size\u001b[38;5;241m=\u001b[39m\u001b[38;5;241m7\u001b[39m, replace\u001b[38;5;241m=\u001b[39m\u001b[38;5;28;01mTrue\u001b[39;00m))    \u001b[38;5;66;03m# replace取出要不要放回，true重複抽\u001b[39;00m\n\u001b[1;32m----> 4\u001b[0m \u001b[38;5;28mprint\u001b[39m(\u001b[43mnp\u001b[49m\u001b[38;5;241;43m.\u001b[39;49m\u001b[43mrandom\u001b[49m\u001b[38;5;241;43m.\u001b[39;49m\u001b[43mchoice\u001b[49m\u001b[43m(\u001b[49m\u001b[43ma\u001b[49m\u001b[38;5;241;43m=\u001b[39;49m\u001b[43m[\u001b[49m\u001b[38;5;241;43m1\u001b[39;49m\u001b[43m,\u001b[49m\u001b[38;5;241;43m2\u001b[39;49m\u001b[43m,\u001b[49m\u001b[38;5;241;43m3\u001b[39;49m\u001b[43m,\u001b[49m\u001b[38;5;241;43m4\u001b[39;49m\u001b[43m,\u001b[49m\u001b[38;5;241;43m5\u001b[39;49m\u001b[43m,\u001b[49m\u001b[38;5;241;43m6\u001b[39;49m\u001b[43m]\u001b[49m\u001b[43m,\u001b[49m\u001b[43m \u001b[49m\u001b[43msize\u001b[49m\u001b[38;5;241;43m=\u001b[39;49m\u001b[38;5;241;43m7\u001b[39;49m\u001b[43m,\u001b[49m\u001b[43m \u001b[49m\u001b[43mreplace\u001b[49m\u001b[38;5;241;43m=\u001b[39;49m\u001b[38;5;28;43;01mFalse\u001b[39;49;00m\u001b[43m)\u001b[49m)\n",
      "File \u001b[1;32mmtrand.pyx:965\u001b[0m, in \u001b[0;36mnumpy.random.mtrand.RandomState.choice\u001b[1;34m()\u001b[0m\n",
      "\u001b[1;31mValueError\u001b[0m: Cannot take a larger sample than population when 'replace=False'"
     ]
    }
   ],
   "source": [
    "print(np.random.choice(a=[1,2,3,4,5,6]))\n",
    "print(np.random.choice(a=[1,2,3,4,5,6], size=1))\n",
    "print(np.random.choice(a=[1,2,3,4,5,6], size=7, replace=True))    # replace取出要不要放回，true重複抽\n",
    "print(np.random.choice(a=[1,2,3,4,5,6], size=7, replace=False))"
   ]
  },
  {
   "cell_type": "code",
   "execution_count": 44,
   "metadata": {},
   "outputs": [
    {
     "name": "stdout",
     "output_type": "stream",
     "text": [
      "[1 3 1 6 4 4 1]\n"
     ]
    }
   ],
   "source": [
    "print(np.random.choice(a=[1,2,3,4,5,6], \n",
    "                       size=7, \n",
    "                       replace=True,\n",
    "                       p=[2/8, 2/8, 1/8, 1/8, 1/8, 1/8]))    # p是機率"
   ]
  },
  {
   "cell_type": "markdown",
   "metadata": {},
   "source": [
    "#### restart kernel"
   ]
  },
  {
   "cell_type": "code",
   "execution_count": 1,
   "metadata": {
    "scrolled": true
   },
   "outputs": [
    {
     "name": "stdout",
     "output_type": "stream",
     "text": [
      "【日期時間】2022/10/05 14:13:50\n",
      "【工作目錄】C:\\資料工程\n",
      "【主機名稱】LAPTOP-HN8S2UQE (192.168.1.107)\n",
      "【Python】3.9.12\n"
     ]
    },
    {
     "data": {
      "application/javascript": [
       "IPython.notebook.set_autosave_interval(120000)"
      ]
     },
     "metadata": {},
     "output_type": "display_data"
    },
    {
     "name": "stdout",
     "output_type": "stream",
     "text": [
      "Autosaving every 120 seconds\n"
     ]
    }
   ],
   "source": [
    "# -*- coding: utf-8 -*-\n",
    "from platform import python_version\n",
    "import os, time, socket\n",
    "import numpy as np\n",
    "\n",
    "print(\"【日期時間】{}\".format(time.strftime(\"%Y/%m/%d %H:%M:%S\")))\n",
    "print(\"【工作目錄】{}\".format(os.getcwd()))\n",
    "print(\"【主機名稱】{} ({})\".format(socket.gethostname(),socket.gethostbyname(socket.gethostname())))\n",
    "print(\"【Python】{}\".format(python_version()))\n",
    "\n",
    "%autosave 120"
   ]
  },
  {
   "cell_type": "markdown",
   "metadata": {},
   "source": [
    "### <font color=#0000FF>2.選擇結構(Selection)</font>"
   ]
  },
  {
   "cell_type": "code",
   "execution_count": 2,
   "metadata": {},
   "outputs": [
    {
     "name": "stdout",
     "output_type": "stream",
     "text": [
      "請輸入一個數值20\n",
      "<class 'str'>\n"
     ]
    }
   ],
   "source": [
    "usr = input('請輸入一個數值')\n",
    "print(type(usr))"
   ]
  },
  {
   "cell_type": "code",
   "execution_count": 3,
   "metadata": {},
   "outputs": [
    {
     "name": "stdout",
     "output_type": "stream",
     "text": [
      "請輸入一個數值20\n",
      "<class 'int'>\n"
     ]
    }
   ],
   "source": [
    "usr = input('請輸入一個數值')\n",
    "usr = int(usr)\n",
    "print(type(usr))"
   ]
  },
  {
   "cell_type": "code",
   "execution_count": 4,
   "metadata": {},
   "outputs": [],
   "source": [
    "rnd = np.random.randint(0, 100+1)\n",
    "\n",
    "if rnd >= 50 :\n",
    "    print(f'rnd = {rnd}, 大於等於50')"
   ]
  },
  {
   "cell_type": "code",
   "execution_count": 6,
   "metadata": {},
   "outputs": [
    {
     "name": "stdout",
     "output_type": "stream",
     "text": [
      "rnd = 17, 小於50\n",
      "rnd = 17, 小於50\n",
      "rnd = 17, 小於50\n"
     ]
    }
   ],
   "source": [
    "rnd = np.random.randint(0, 100+1)\n",
    "\n",
    "if rnd >= 50 :                           # :是一個區塊，內縮4格是必要\n",
    "    print(f'rnd = {rnd}, 大於等於50')    \n",
    "    print(f'rnd = {rnd}, 大於等於50')    \n",
    "    print(f'rnd = {rnd}, 大於等於50')    \n",
    "else :\n",
    "    print(f'rnd = {rnd}, 小於50')\n",
    "    print(f'rnd = {rnd}, 小於50')\n",
    "    print(f'rnd = {rnd}, 小於50')"
   ]
  },
  {
   "cell_type": "markdown",
   "metadata": {},
   "source": [
    "<font color=#0000FF>\n",
    "if ... elif ... elif ... else ...\n",
    "</font>\n",
    "\n",
    "- 電腦亂數產生 : 0 - 100之間\n",
    "- 等於亂數 : 答對\n",
    "- 距離亂數小於等於 5 : 接近\n",
    "- 距離亂數大於 5 : 太大\n",
    "- 距離亂數小於 -5 : 太小"
   ]
  },
  {
   "cell_type": "code",
   "execution_count": 7,
   "metadata": {},
   "outputs": [
    {
     "name": "stdout",
     "output_type": "stream",
     "text": [
      "rnd : 6\n",
      "請輸入介於0-100之間的數 : 10\n",
      "接近\n"
     ]
    }
   ],
   "source": [
    "rnd = np.random.randint(0,100+1)\n",
    "\n",
    "usrrnd = np.random.randint(0, 100+1)\n",
    "print(f'rnd : {rnd}')\n",
    "\n",
    "usr = int(input('請輸入介於0-100之間的數 : '))\n",
    "\n",
    "if usr == rnd :\n",
    "    print('答對')\n",
    "elif abs(usr - rnd) <= 5 :\n",
    "    print('接近')\n",
    "elif usr - rnd > 5 :\n",
    "    print('太大')\n",
    "else :\n",
    "    print('太小')"
   ]
  },
  {
   "cell_type": "code",
   "execution_count": 8,
   "metadata": {},
   "outputs": [
    {
     "name": "stdout",
     "output_type": "stream",
     "text": [
      "rnd : 52\n",
      "請輸入介於0-200之間的數 : 100\n",
      "太大\n"
     ]
    }
   ],
   "source": [
    "min_ = 0 ; max_ = 200       # 因為 min, max是保留字，所以加底線，這樣要改比較方便\n",
    "\n",
    "rnd = np.random.randint(min_, max_+1)\n",
    "print(f'rnd : {rnd}')\n",
    "\n",
    "usr = int(input(f'請輸入介於{min_}-{max_}之間的數 : '))\n",
    "\n",
    "if usr == rnd :\n",
    "    print('答對')\n",
    "elif abs(usr - rnd) <= 5 :\n",
    "    print('將近')\n",
    "elif usr - rnd > 5 :\n",
    "    print('太大')\n",
    "else :\n",
    "    print('太小')"
   ]
  },
  {
   "cell_type": "markdown",
   "metadata": {},
   "source": [
    "<font color=#0000FF>\n",
    "X if Condition else Y\n",
    "</font>"
   ]
  },
  {
   "cell_type": "code",
   "execution_count": 9,
   "metadata": {},
   "outputs": [
    {
     "name": "stdout",
     "output_type": "stream",
     "text": [
      "score : 24\n",
      "不及格\n"
     ]
    }
   ],
   "source": [
    "score = np.random.randint(0, 100+1)\n",
    "print(f'score : {score}')\n",
    "\n",
    "if score >= 60 :\n",
    "    print('及格')\n",
    "else :\n",
    "    print('不及格')"
   ]
  },
  {
   "cell_type": "code",
   "execution_count": 10,
   "metadata": {},
   "outputs": [
    {
     "name": "stdout",
     "output_type": "stream",
     "text": [
      "score : 49\n",
      "不及格\n"
     ]
    }
   ],
   "source": [
    "score = np.random.randint(0, 100+1)\n",
    "print(f'score : {score}')\n",
    "\n",
    "print('及格' if score >= 60 else '不及格')"
   ]
  },
  {
   "cell_type": "code",
   "execution_count": 21,
   "metadata": {},
   "outputs": [
    {
     "name": "stdout",
     "output_type": "stream",
     "text": [
      "score : 76 \n",
      "狀態 : 及格\n"
     ]
    }
   ],
   "source": [
    "score = np.random.randint(0, 100+1)\n",
    "print(f\"score : {score} \\n狀態 : {'及格' if score >= 60 else '不及格'}\")    # 引號太多，外面\"\"，裡面''"
   ]
  },
  {
   "cell_type": "markdown",
   "metadata": {},
   "source": [
    "### <font color=#0000FF>3.迭代結構(Iteration)</font>"
   ]
  },
  {
   "cell_type": "markdown",
   "metadata": {},
   "source": [
    "#### <font color=#0000FF>比較 range(), np.arange(), np.linspace()</font>"
   ]
  },
  {
   "cell_type": "code",
   "execution_count": 1,
   "metadata": {
    "collapsed": true
   },
   "outputs": [],
   "source": [
    "import numpy as np"
   ]
  },
  {
   "cell_type": "markdown",
   "metadata": {
    "collapsed": true
   },
   "source": [
    "#### range(stop) -> range object\n",
    "- range(start, stop[, step]) -> range object\n",
    "- Return an object that produces a sequence of <font color=#FF0000>integers</font> from start (inclusive) to stop (exclusive) by step.\n"
   ]
  },
  {
   "cell_type": "code",
   "execution_count": 22,
   "metadata": {},
   "outputs": [
    {
     "name": "stdout",
     "output_type": "stream",
     "text": [
      "[0, 1, 2, 3, 4, 5, 6, 7, 8, 9]\n",
      "[11, 12, 13, 14, 15, 16, 17, 18, 19, 20]\n",
      "[11, 13, 15, 17, 19]\n"
     ]
    }
   ],
   "source": [
    "# 【重點】只能用於整數\n",
    "print(list(range(10)))\n",
    "print(list(range(11, 20+1)))\n",
    "print(list(range(11, 20+1, 2)))"
   ]
  },
  {
   "cell_type": "markdown",
   "metadata": {
    "collapsed": true
   },
   "source": [
    "#### np.arange([start,] stop[, step,], dtype=None) \n",
    "- Return evenly spaced values within a given interval.\n",
    "\n",
    "- [note]\n",
    "    - stop : number\n",
    "    - End of interval.  The interval does not include this value.\n"
   ]
  },
  {
   "cell_type": "code",
   "execution_count": 23,
   "metadata": {},
   "outputs": [
    {
     "name": "stdout",
     "output_type": "stream",
     "text": [
      "[ 0.  1.  2.  3.  4.  5.  6.  7.  8.  9. 10.]\n",
      "[11. 12. 13. 14. 15. 16. 17. 18. 19. 20.]\n",
      "[11.  13.5 16.  18.5]\n"
     ]
    }
   ],
   "source": [
    "# 【重點】可以用於浮點數\n",
    "print(np.arange(10.5))\n",
    "print(np.arange(11, 20.5))\n",
    "print(np.arange(11, 20.5, 2.5))"
   ]
  },
  {
   "cell_type": "markdown",
   "metadata": {
    "collapsed": true
   },
   "source": [
    "#### np.linspace(start, stop, num=50, <font color=#FF0000>endpoint=True</font>, retstep=False, dtype=None)\n",
    "- Return evenly spaced numbers over a specified interval.\n",
    "- [note]\n",
    "    - stop : scalar\n",
    "    - The end value of the sequence, unless `endpoint` is set to False.\n",
    "- [examples]    \n",
    "    - np.linspace(start=1,stop=11,num=10)\n",
    "    - np.linspace(start=1,stop=11,num=10,dtype=int)\n",
    "    - np.linspace(start=1,stop=11,num=10,retstep=True,dtype=int)\n",
    "    - np.linspace(start=1,stop=11,num=10,endpoint=False,retstep=True)"
   ]
  },
  {
   "cell_type": "code",
   "execution_count": 24,
   "metadata": {},
   "outputs": [
    {
     "name": "stdout",
     "output_type": "stream",
     "text": [
      "[ 0.  5. 10.]\n",
      "[0.         3.33333333 6.66666667]\n",
      "(array([ 0.,  5., 10.]), 5.0)\n"
     ]
    }
   ],
   "source": [
    "# 少數的含起也含迄，num是要等距離取幾個點，endpoint是要不要含迄，retstep距離多少\n",
    "\n",
    "print(np.linspace(0, 10, 3, endpoint=True))\n",
    "print(np.linspace(0, 10, 3, endpoint=False))\n",
    "print(np.linspace(0, 10, 3, endpoint=True, retstep=True)) # return step"
   ]
  },
  {
   "cell_type": "code",
   "execution_count": 25,
   "metadata": {},
   "outputs": [
    {
     "name": "stdout",
     "output_type": "stream",
     "text": [
      "[ 0.  5. 10.]\n",
      "5.0\n"
     ]
    }
   ],
   "source": [
    "data, step = np.linspace(0, 10, 3, endpoint=True, retstep=True)    # tuple\n",
    "print(data)\n",
    "print(step)"
   ]
  },
  {
   "cell_type": "code",
   "execution_count": 26,
   "metadata": {},
   "outputs": [
    {
     "name": "stdout",
     "output_type": "stream",
     "text": [
      "[ 0.  5. 10.]\n",
      "5.0\n"
     ]
    }
   ],
   "source": [
    "(data, step) = np.linspace(0, 10, 3, endpoint=True, retstep=True)\n",
    "print(data)\n",
    "print(step)"
   ]
  },
  {
   "cell_type": "markdown",
   "metadata": {
    "collapsed": true
   },
   "source": [
    "#### <font color=#0000FF>for range 的使用(一)</font>"
   ]
  },
  {
   "cell_type": "code",
   "execution_count": 1,
   "metadata": {
    "scrolled": true
   },
   "outputs": [
    {
     "name": "stdout",
     "output_type": "stream",
     "text": [
      "0\n",
      "1\n",
      "2\n",
      "3\n",
      "4\n"
     ]
    }
   ],
   "source": [
    "for i in range(5) :\n",
    "    print(i)"
   ]
  },
  {
   "cell_type": "code",
   "execution_count": 3,
   "metadata": {},
   "outputs": [
    {
     "name": "stdout",
     "output_type": "stream",
     "text": [
      "*\t*\t*\t*\t*\t"
     ]
    }
   ],
   "source": [
    "for _ in range(5) :               # 匿名變數_，變數不重要，不用回傳\n",
    "    print(\"*\", end='\\t')"
   ]
  },
  {
   "cell_type": "code",
   "execution_count": 8,
   "metadata": {},
   "outputs": [
    {
     "name": "stdout",
     "output_type": "stream",
     "text": [
      "1\n",
      "2\n",
      "3\n",
      "4\n",
      "5\n",
      "6\n",
      "7\n",
      "8\n",
      "9\n"
     ]
    }
   ],
   "source": [
    "for i in range(1, 9+1) :\n",
    "    print(i)"
   ]
  },
  {
   "cell_type": "code",
   "execution_count": 9,
   "metadata": {},
   "outputs": [
    {
     "name": "stdout",
     "output_type": "stream",
     "text": [
      "1\n",
      "1\n",
      "1\n",
      "1\n",
      "1\n",
      "1\n",
      "\n",
      "2\n",
      "2\n",
      "2\n",
      "2\n",
      "2\n",
      "2\n",
      "\n",
      "3\n",
      "3\n",
      "3\n",
      "3\n",
      "3\n",
      "3\n",
      "\n",
      "4\n",
      "4\n",
      "4\n",
      "4\n",
      "4\n",
      "4\n",
      "\n",
      "5\n",
      "5\n",
      "5\n",
      "5\n",
      "5\n",
      "5\n",
      "\n",
      "6\n",
      "6\n",
      "6\n",
      "6\n",
      "6\n",
      "6\n",
      "\n",
      "7\n",
      "7\n",
      "7\n",
      "7\n",
      "7\n",
      "7\n",
      "\n",
      "8\n",
      "8\n",
      "8\n",
      "8\n",
      "8\n",
      "8\n",
      "\n",
      "9\n",
      "9\n",
      "9\n",
      "9\n",
      "9\n",
      "9\n",
      "\n"
     ]
    }
   ],
   "source": [
    "for i in range(1, 9+1) :\n",
    "    for j in range(1, 6+1) :\n",
    "        print(i)\n",
    "    print()"
   ]
  },
  {
   "cell_type": "code",
   "execution_count": 7,
   "metadata": {},
   "outputs": [
    {
     "name": "stdout",
     "output_type": "stream",
     "text": [
      " 1 *  1 =  1\n",
      " 1 *  2 =  2\n",
      " 1 *  3 =  3\n",
      " 1 *  4 =  4\n",
      " 1 *  5 =  5\n",
      " 1 *  6 =  6\n",
      "\n",
      " 2 *  1 =  2\n",
      " 2 *  2 =  4\n",
      " 2 *  3 =  6\n",
      " 2 *  4 =  8\n",
      " 2 *  5 = 10\n",
      " 2 *  6 = 12\n",
      "\n",
      " 3 *  1 =  3\n",
      " 3 *  2 =  6\n",
      " 3 *  3 =  9\n",
      " 3 *  4 = 12\n",
      " 3 *  5 = 15\n",
      " 3 *  6 = 18\n",
      "\n",
      " 4 *  1 =  4\n",
      " 4 *  2 =  8\n",
      " 4 *  3 = 12\n",
      " 4 *  4 = 16\n",
      " 4 *  5 = 20\n",
      " 4 *  6 = 24\n",
      "\n",
      " 5 *  1 =  5\n",
      " 5 *  2 = 10\n",
      " 5 *  3 = 15\n",
      " 5 *  4 = 20\n",
      " 5 *  5 = 25\n",
      " 5 *  6 = 30\n",
      "\n",
      " 6 *  1 =  6\n",
      " 6 *  2 = 12\n",
      " 6 *  3 = 18\n",
      " 6 *  4 = 24\n",
      " 6 *  5 = 30\n",
      " 6 *  6 = 36\n",
      "\n",
      " 7 *  1 =  7\n",
      " 7 *  2 = 14\n",
      " 7 *  3 = 21\n",
      " 7 *  4 = 28\n",
      " 7 *  5 = 35\n",
      " 7 *  6 = 42\n",
      "\n",
      " 8 *  1 =  8\n",
      " 8 *  2 = 16\n",
      " 8 *  3 = 24\n",
      " 8 *  4 = 32\n",
      " 8 *  5 = 40\n",
      " 8 *  6 = 48\n",
      "\n",
      " 9 *  1 =  9\n",
      " 9 *  2 = 18\n",
      " 9 *  3 = 27\n",
      " 9 *  4 = 36\n",
      " 9 *  5 = 45\n",
      " 9 *  6 = 54\n",
      "\n"
     ]
    }
   ],
   "source": [
    "for i in range(1, 9+1) :          # interval區間迴圈\n",
    "    for j in range(1, 6+1) :\n",
    "        print(f'{i:>2d} * {j:>2d} = {i*j:>2d}')\n",
    "    print()"
   ]
  },
  {
   "cell_type": "markdown",
   "metadata": {
    "collapsed": true
   },
   "source": [
    "#### <font color=#0000FF>foreach 的使用(二)</font>"
   ]
  },
  {
   "cell_type": "code",
   "execution_count": 15,
   "metadata": {},
   "outputs": [],
   "source": [
    "import string"
   ]
  },
  {
   "cell_type": "code",
   "execution_count": 11,
   "metadata": {
    "scrolled": true
   },
   "outputs": [
    {
     "name": "stdout",
     "output_type": "stream",
     "text": [
      "abcdefghijklmnopqrstuvwxyzABCDEFGHIJKLMNOPQRSTUVWXYZ\n",
      "abcdefghijklmnopqrstuvwxyz\n",
      "ABCDEFGHIJKLMNOPQRSTUVWXYZ\n",
      "0123456789\n",
      "0123456789abcdefghijklmnopqrstuvwxyzABCDEFGHIJKLMNOPQRSTUVWXYZ!\"#$%&'()*+,-./:;<=>?@[\\]^_`{|}~ \t\n",
      "\r",
      "\u000b",
      "\f",
      "\n",
      "!\"#$%&'()*+,-./:;<=>?@[\\]^_`{|}~\n"
     ]
    }
   ],
   "source": [
    "print(string.ascii_letters)\n",
    "print(string.ascii_lowercase)\n",
    "print(string.ascii_uppercase)\n",
    "print(string.digits)\n",
    "print(string.printable)\n",
    "print(string.punctuation)"
   ]
  },
  {
   "cell_type": "code",
   "execution_count": 12,
   "metadata": {},
   "outputs": [
    {
     "name": "stdout",
     "output_type": "stream",
     "text": [
      "abcdefghij\n"
     ]
    }
   ],
   "source": [
    "print(string.ascii_lowercase[:10])"
   ]
  },
  {
   "cell_type": "code",
   "execution_count": 27,
   "metadata": {},
   "outputs": [
    {
     "name": "stdout",
     "output_type": "stream",
     "text": [
      "['a', 'b', 'c', 'd', 'e', 'f', 'g', 'h', 'i', 'j', 'k', 'l', 'm', 'n', 'o', 'p', 'q', 'r', 's', 't', 'u', 'v', 'w', 'x', 'y', 'z']\n",
      "('a', 'b', 'c', 'd', 'e', 'f', 'g', 'h', 'i', 'j', 'k', 'l', 'm', 'n', 'o', 'p', 'q', 'r', 's', 't', 'u', 'v', 'w', 'x', 'y', 'z')\n",
      "{'u', 'r', 'k', 'w', 'n', 'l', 'c', 'd', 'b', 'e', 's', 'g', 'h', 'a', 'z', 'q', 'm', 'p', 'j', 'v', 'f', 'x', 'y', 't', 'i', 'o'}\n"
     ]
    }
   ],
   "source": [
    "print(list(string.ascii_lowercase))\n",
    "print(tuple(string.ascii_lowercase))\n",
    "print(set(string.ascii_lowercase))"
   ]
  },
  {
   "cell_type": "code",
   "execution_count": 16,
   "metadata": {},
   "outputs": [
    {
     "name": "stdout",
     "output_type": "stream",
     "text": [
      "a\tb\tc\td\te\tf\tg\th\ti\tj\t"
     ]
    }
   ],
   "source": [
    "for w in string.ascii_letters[:10]:\n",
    "    print(w, end='\\t')"
   ]
  },
  {
   "cell_type": "code",
   "execution_count": 17,
   "metadata": {},
   "outputs": [
    {
     "data": {
      "text/plain": [
       "False"
      ]
     },
     "execution_count": 17,
     "metadata": {},
     "output_type": "execute_result"
    }
   ],
   "source": [
    "'123a'.isdigit()"
   ]
  },
  {
   "cell_type": "code",
   "execution_count": 22,
   "metadata": {},
   "outputs": [
    {
     "data": {
      "text/plain": [
       "['a', 'b', 'c', 'd', '資', '管', '系']"
      ]
     },
     "execution_count": 22,
     "metadata": {},
     "output_type": "execute_result"
    }
   ],
   "source": [
    "# 分割\n",
    "'a|b|c|d|資|管|系'.split('|')"
   ]
  },
  {
   "cell_type": "code",
   "execution_count": 20,
   "metadata": {},
   "outputs": [
    {
     "name": "stdout",
     "output_type": "stream",
     "text": [
      "aabbcc\n",
      "aa|bb|cc\n"
     ]
    }
   ],
   "source": [
    "# 合併\n",
    "lst = ['aa', 'bb', 'cc']\n",
    "print(''.join(lst))\n",
    "print('|'.join(lst))"
   ]
  },
  {
   "cell_type": "code",
   "execution_count": 21,
   "metadata": {},
   "outputs": [
    {
     "name": "stdout",
     "output_type": "stream",
     "text": [
      "aa\n",
      "bb\n",
      "cc\n"
     ]
    }
   ],
   "source": [
    "lst = ['aa', 'bb', 'cc']\n",
    "for f in lst :\n",
    "    print(f)"
   ]
  },
  {
   "cell_type": "markdown",
   "metadata": {
    "collapsed": true
   },
   "source": [
    "#### <font color=#0000FF>for與 dict 的使用(三)</font>"
   ]
  },
  {
   "cell_type": "code",
   "execution_count": 24,
   "metadata": {},
   "outputs": [
    {
     "name": "stdout",
     "output_type": "stream",
     "text": [
      "dict_items([('a', 100), ('b', 200), ('c', 300)])\n",
      "3\n",
      "------------------------\n",
      "key : a, value : 100\n",
      "key : b, value : 200\n",
      "key : c, value : 300\n"
     ]
    }
   ],
   "source": [
    "d1 = {'a':100, 'b':200, 'c':300}\n",
    "print(d1.items())\n",
    "print(len(d1))\n",
    "\n",
    "print('------------------------')\n",
    "\n",
    "for k, v in d1.items() :\n",
    "    print(f'key : {k}, value : {v}')"
   ]
  },
  {
   "cell_type": "code",
   "execution_count": 25,
   "metadata": {},
   "outputs": [
    {
     "name": "stdout",
     "output_type": "stream",
     "text": [
      "data : ('a', 100)\n",
      "data : ('b', 200)\n",
      "data : ('c', 300)\n"
     ]
    }
   ],
   "source": [
    "d1 = {'a':100, 'b':200, 'c':300}\n",
    "for item in d1.items() :\n",
    "    print(f'data : {item}')"
   ]
  },
  {
   "cell_type": "code",
   "execution_count": 28,
   "metadata": {},
   "outputs": [
    {
     "name": "stdout",
     "output_type": "stream",
     "text": [
      "key : a, value : 100\n",
      "key : b, value : 200\n",
      "key : c, value : 300\n"
     ]
    }
   ],
   "source": [
    "d1 = {'a':100, 'b':200, 'c':300}\n",
    "for item in d1.items() :\n",
    "    print(f'key : {item[0]}, value : {item[1]}')"
   ]
  },
  {
   "cell_type": "markdown",
   "metadata": {
    "collapsed": true
   },
   "source": [
    "#### <font color=#0000FF>for 與 [ ] 的結合</font>"
   ]
  },
  {
   "cell_type": "markdown",
   "metadata": {},
   "source": [
    "計算 $\\sum_{x=1}^{x=20} x^2$"
   ]
  },
  {
   "cell_type": "code",
   "execution_count": 1,
   "metadata": {},
   "outputs": [
    {
     "name": "stdout",
     "output_type": "stream",
     "text": [
      "2870\n"
     ]
    }
   ],
   "source": [
    "total = 0\n",
    "for x in range(1, 20+1) :\n",
    "    total = total + x**2\n",
    "print(total)"
   ]
  },
  {
   "cell_type": "code",
   "execution_count": 2,
   "metadata": {},
   "outputs": [
    {
     "name": "stdout",
     "output_type": "stream",
     "text": [
      "[1, 2, 3, 4, 5, 6, 7, 8, 9, 10, 11, 12, 13, 14, 15, 16, 17, 18, 19, 20]\n"
     ]
    }
   ],
   "source": [
    "print([x for x in range(1, 20+1)])"
   ]
  },
  {
   "cell_type": "code",
   "execution_count": 3,
   "metadata": {},
   "outputs": [
    {
     "name": "stdout",
     "output_type": "stream",
     "text": [
      "[1, 4, 9, 16, 25, 36, 49, 64, 81, 100, 121, 144, 169, 196, 225, 256, 289, 324, 361, 400]\n"
     ]
    }
   ],
   "source": [
    "print([x**2 for x in range(1, 20+1)])"
   ]
  },
  {
   "cell_type": "code",
   "execution_count": 4,
   "metadata": {},
   "outputs": [
    {
     "name": "stdout",
     "output_type": "stream",
     "text": [
      "2870\n"
     ]
    }
   ],
   "source": [
    "print(sum([x**2 for x in range(1, 20+1)]))"
   ]
  },
  {
   "cell_type": "markdown",
   "metadata": {},
   "source": [
    "計算 $\\sum_{x=1}^{x=20} x^2$  when x is odd"
   ]
  },
  {
   "cell_type": "code",
   "execution_count": 5,
   "metadata": {},
   "outputs": [
    {
     "name": "stdout",
     "output_type": "stream",
     "text": [
      "1330\n"
     ]
    }
   ],
   "source": [
    "total = 0\n",
    "for x in range(1, 20+1) :\n",
    "    if x%2 == 1 :\n",
    "        total = total + x**2\n",
    "print(total)"
   ]
  },
  {
   "cell_type": "code",
   "execution_count": 6,
   "metadata": {},
   "outputs": [
    {
     "data": {
      "text/plain": [
       "[1, 2, 3, 4, 5, 6, 7, 8, 9, 10, 11, 12, 13, 14, 15, 16, 17, 18, 19, 20]"
      ]
     },
     "execution_count": 6,
     "metadata": {},
     "output_type": "execute_result"
    }
   ],
   "source": [
    "[x for x in range(1, 20+1)]"
   ]
  },
  {
   "cell_type": "code",
   "execution_count": 7,
   "metadata": {},
   "outputs": [
    {
     "data": {
      "text/plain": [
       "[1, 3, 5, 7, 9, 11, 13, 15, 17, 19]"
      ]
     },
     "execution_count": 7,
     "metadata": {},
     "output_type": "execute_result"
    }
   ],
   "source": [
    "[x for x in range(1, 20+1) if x%2==1]    # 條件篩選沒有else，只挑要的"
   ]
  },
  {
   "cell_type": "code",
   "execution_count": 11,
   "metadata": {},
   "outputs": [
    {
     "data": {
      "text/plain": [
       "[1, 9, 25, 49, 81, 121, 169, 225, 289, 361]"
      ]
     },
     "execution_count": 11,
     "metadata": {},
     "output_type": "execute_result"
    }
   ],
   "source": [
    "[x**2 for x in range(1, 20+1) if x%2==1]"
   ]
  },
  {
   "cell_type": "code",
   "execution_count": 9,
   "metadata": {},
   "outputs": [
    {
     "data": {
      "text/plain": [
       "1330"
      ]
     },
     "execution_count": 9,
     "metadata": {},
     "output_type": "execute_result"
    }
   ],
   "source": [
    "sum([x**2 for x in range(1, 20+1) if x%2==1])"
   ]
  },
  {
   "cell_type": "markdown",
   "metadata": {},
   "source": [
    "### 將以下的資料進行轉換\n",
    "- lst = [0, 0, 0, 1, 1, 0, 1, 2]\n",
    "    - 0 : 女生\n",
    "    - 1 : 男生"
   ]
  },
  {
   "cell_type": "code",
   "execution_count": 12,
   "metadata": {},
   "outputs": [
    {
     "name": "stdout",
     "output_type": "stream",
     "text": [
      "[0, 0, 0, 1, 1, 0, 1, 2]\n"
     ]
    }
   ],
   "source": [
    "lst = [0, 0, 0, 1, 1, 0, 1, 2]\n",
    "print([x for x in lst])"
   ]
  },
  {
   "cell_type": "code",
   "execution_count": 13,
   "metadata": {},
   "outputs": [
    {
     "name": "stdout",
     "output_type": "stream",
     "text": [
      "[0, 0, 0, 1, 1, 0, 1]\n"
     ]
    }
   ],
   "source": [
    "lst = [0, 0, 0, 1, 1, 0, 1]\n",
    "print([x for x in lst if x in [0, 1]])"
   ]
  },
  {
   "cell_type": "code",
   "execution_count": 14,
   "metadata": {},
   "outputs": [
    {
     "name": "stdout",
     "output_type": "stream",
     "text": [
      "['女生', '女生', '女生', '男生', '男生', '女生', '男生']\n"
     ]
    }
   ],
   "source": [
    "lst = [0, 0, 0, 1, 1, 0, 1]\n",
    "print(['女生' if x==0 else '男生' for x in lst if x in [0, 1]])"
   ]
  },
  {
   "cell_type": "markdown",
   "metadata": {
    "collapsed": true
   },
   "source": [
    "#### <font color=#0000FF>for 與 { } 的結合</font>"
   ]
  },
  {
   "cell_type": "markdown",
   "metadata": {},
   "source": [
    "### 請使用 dict 列出26個字母當key，所在位置當 value\n",
    "- {'a':1, 'b':2, 'c':3, ..........., 'z':26}"
   ]
  },
  {
   "cell_type": "code",
   "execution_count": 16,
   "metadata": {},
   "outputs": [
    {
     "name": "stdout",
     "output_type": "stream",
     "text": [
      "dict_items([('a', 1), ('b', 2), ('c', 3), ('d', 4), ('e', 5), ('f', 6), ('g', 7), ('h', 8), ('i', 9), ('j', 10), ('k', 11), ('l', 12), ('m', 13), ('n', 14), ('o', 15), ('p', 16), ('q', 17), ('r', 18), ('s', 19), ('t', 20), ('u', 21), ('v', 22), ('w', 23), ('x', 24), ('y', 25), ('z', 26)])\n"
     ]
    }
   ],
   "source": [
    "d = {}\n",
    "idx = 1\n",
    "for w in string.ascii_lowercase :\n",
    "    d[w] = idx\n",
    "    idx += 1\n",
    "    \n",
    "print(d.items())"
   ]
  },
  {
   "cell_type": "code",
   "execution_count": 5,
   "metadata": {},
   "outputs": [
    {
     "name": "stdout",
     "output_type": "stream",
     "text": [
      "dict_items([('a', 1), ('b', 2), ('c', 3), ('d', 4), ('e', 5), ('f', 6), ('g', 7), ('h', 8), ('i', 9), ('j', 10), ('k', 11), ('l', 12), ('m', 13), ('n', 14), ('o', 15), ('p', 16), ('q', 17), ('r', 18), ('s', 19), ('t', 20), ('u', 21), ('v', 22), ('w', 23), ('x', 24), ('y', 25), ('z', 26), ('A', 27), ('B', 28), ('C', 29), ('D', 30), ('E', 31), ('F', 32), ('G', 33), ('H', 34), ('I', 35), ('J', 36), ('K', 37), ('L', 38), ('M', 39), ('N', 40), ('O', 41), ('P', 42), ('Q', 43), ('R', 44), ('S', 45), ('T', 46), ('U', 47), ('V', 48), ('W', 49), ('X', 50), ('Y', 51), ('Z', 52)])\n"
     ]
    }
   ],
   "source": [
    "d = dict()\n",
    "for idx, w in enumerate(string.ascii_letters, start=1) :\n",
    "    d[w] = idx\n",
    "\n",
    "print(d.items())"
   ]
  },
  {
   "cell_type": "code",
   "execution_count": 18,
   "metadata": {},
   "outputs": [
    {
     "name": "stdout",
     "output_type": "stream",
     "text": [
      "dict_items([('a', 1), ('b', 2), ('c', 3), ('d', 4), ('e', 5), ('f', 6), ('g', 7), ('h', 8), ('i', 9), ('j', 10), ('k', 11), ('l', 12), ('m', 13), ('n', 14), ('o', 15), ('p', 16), ('q', 17), ('r', 18), ('s', 19), ('t', 20), ('u', 21), ('v', 22), ('w', 23), ('x', 24), ('y', 25), ('z', 26)])\n"
     ]
    }
   ],
   "source": [
    "d = {k:v for v, k in enumerate(string.ascii_lowercase, start=1)}\n",
    "print(d.items())"
   ]
  },
  {
   "cell_type": "markdown",
   "metadata": {},
   "source": [
    "### 計算每一個字出現的頻率，並排除掉不要的字"
   ]
  },
  {
   "cell_type": "code",
   "execution_count": 21,
   "metadata": {},
   "outputs": [],
   "source": [
    "txt = \"\"\"\n",
    "兩岸情勢嚴峻，兵役確定延長1年役期，國防部長邱國正今天在立法院表示，\n",
    "國防部朝年底前公告義務役期延長的方向努力。邱國正答詢時並說明，\n",
    "役男服完軍事訓練役4個月，不會因役期延長1年再回營。\n",
    "\n",
    "國防部長邱國正說，服軍事訓練役4個月役男不會因役期延長1年再回營。（中央社＼檔案照）\n",
    "邱國正上午列席立法院外交及國防委員會專案報告並備詢。國民黨立委江啟臣質詢關切，\n",
    "若義務役恢復為1年，現階段服4個月軍事訓練役的役男領的是「結訓令」而非「退伍令」\n",
    "，民眾擔憂服軍事訓練役的役男屆時是否要再回營補實其餘8個月役期。邱國正答詢說「不會影響」，\n",
    "國防部對於義務役期延長的議題戒慎恐懼，民眾擔憂、國防部也很擔憂。\n",
    "\n",
    "邱國正在會前受訪也針對是否在今年底前公告義務役期將延長說明，依規定若義務役期延長要公告1年\n",
    "後實施，若今年底前公告，公告滿1年後可在113年實施；但若是明年（112年）公告，得再經過1年，\n",
    "也就是114年才能實施，雖然他不能承諾時程，但期望今年底前公告，國防部也朝這方向努力。\n",
    "\"\"\""
   ]
  },
  {
   "cell_type": "code",
   "execution_count": 22,
   "metadata": {},
   "outputs": [
    {
     "data": {
      "text/plain": [
       "2"
      ]
     },
     "execution_count": 22,
     "metadata": {},
     "output_type": "execute_result"
    }
   ],
   "source": [
    "\"aabd\".count('a')"
   ]
  },
  {
   "cell_type": "code",
   "execution_count": 23,
   "metadata": {},
   "outputs": [
    {
     "name": "stdout",
     "output_type": "stream",
     "text": [
      "dict_items([('但', 2), ('規', 1), ('關', 1), ('列', 1), ('天', 1), ('領', 1), ('受', 1), ('長', 9), ('段', 1), ('服', 4), ('力', 2), ('社', 1), ('檔', 1), ('及', 1), ('江', 1), ('男', 4), ('於', 1), ('在', 4), ('質', 1), ('岸', 1), ('報', 1), ('否', 2), ('實', 4), ('3', 1), ('響', 1), ('法', 2), ('前', 5), ('訪', 1), ('示', 1), ('能', 2), ('8', 1), ('席', 1), ('切', 1), ('向', 2), ('底', 4), ('；', 1), ('。', 7), ('確', 1), ('勢', 1), ('題', 1), ('他', 1), ('承', 1), ('眾', 2), ('結', 1), ('1', 13), ('訓', 5), ('恢', 1), ('＼', 1), ('對', 2), ('施', 3), ('補', 1), ('委', 2), ('外', 1), ('因', 2), ('今', 4), ('案', 2), ('為', 1), ('就', 1), ('延', 7), ('上', 1), ('防', 7), ('定', 2), ('4', 4), ('黨', 1), ('義', 5), ('不', 4), ('兵', 1), ('員', 1), ('針', 1), ('「', 3), ('練', 4), ('午', 1), ('嚴', 1), ('務', 5), ('得', 1), ('詢', 4), ('年', 15), ('再', 4), ('2', 1), ('交', 1), ('懼', 1), ('若', 4), ('期', 9), ('才', 1), ('並', 2), ('朝', 2), ('軍', 4), ('\\n', 14), ('會', 5), ('屆', 1), ('方', 2), ('營', 3), ('情', 1), ('公', 7), ('央', 1), ('雖', 1), ('答', 2), ('明', 3), ('依', 1), ('正', 6), ('是', 5), ('可', 1), ('也', 4), ('令', 2), ('程', 1), ('中', 1), ('過', 1), ('」', 3), ('影', 1), ('要', 2), ('很', 1), ('照', 1), ('）', 2), ('時', 3), ('伍', 1), ('復', 1), ('將', 1), ('擔', 3), ('慎', 1), ('專', 1), ('表', 1), ('餘', 1), ('備', 1), ('現', 1), ('月', 4), ('回', 3), ('非', 1), ('滿', 1), ('告', 8), ('恐', 1), ('戒', 1), ('（', 2), ('立', 3), ('國', 14), ('議', 1), ('，', 19), ('其', 1), ('諾', 1), ('退', 1), ('努', 2), ('兩', 1), ('事', 4), ('階', 1), ('峻', 1), ('的', 5), ('臣', 1), ('個', 4), ('啟', 1), ('這', 1), ('望', 1), ('院', 2), ('、', 1), ('部', 6), ('而', 1), ('役', 18), ('憂', 3), ('民', 3), ('然', 1), ('後', 2), ('說', 4), ('完', 1), ('經', 1), ('邱', 6)])\n"
     ]
    }
   ],
   "source": [
    "# 轉成set讓文字不要重複\n",
    "d = {w:txt.count(w) for w in set(txt)}\n",
    "print(d.items())"
   ]
  },
  {
   "cell_type": "code",
   "execution_count": 30,
   "metadata": {},
   "outputs": [
    {
     "name": "stdout",
     "output_type": "stream",
     "text": [
      "dict_items([('但', 2), ('規', 1), ('關', 1), ('列', 1), ('天', 1), ('領', 1), ('受', 1), ('長', 9), ('段', 1), ('服', 4), ('力', 2), ('社', 1), ('檔', 1), ('及', 1), ('江', 1), ('男', 4), ('於', 1), ('在', 4), ('質', 1), ('岸', 1), ('報', 1), ('否', 2), ('實', 4), ('響', 1), ('法', 2), ('前', 5), ('訪', 1), ('示', 1), ('能', 2), ('席', 1), ('切', 1), ('向', 2), ('底', 4), ('確', 1), ('勢', 1), ('題', 1), ('他', 1), ('承', 1), ('眾', 2), ('結', 1), ('訓', 5), ('恢', 1), ('對', 2), ('施', 3), ('補', 1), ('委', 2), ('外', 1), ('因', 2), ('今', 4), ('案', 2), ('為', 1), ('就', 1), ('延', 7), ('上', 1), ('防', 7), ('定', 2), ('黨', 1), ('義', 5), ('不', 4), ('兵', 1), ('員', 1), ('針', 1), ('練', 4), ('午', 1), ('嚴', 1), ('務', 5), ('得', 1), ('詢', 4), ('年', 15), ('再', 4), ('交', 1), ('懼', 1), ('若', 4), ('期', 9), ('才', 1), ('並', 2), ('朝', 2), ('軍', 4), ('會', 5), ('屆', 1), ('方', 2), ('營', 3), ('情', 1), ('公', 7), ('央', 1), ('雖', 1), ('答', 2), ('明', 3), ('依', 1), ('正', 6), ('是', 5), ('可', 1), ('也', 4), ('令', 2), ('程', 1), ('中', 1), ('過', 1), ('影', 1), ('要', 2), ('很', 1), ('照', 1), ('時', 3), ('伍', 1), ('復', 1), ('將', 1), ('擔', 3), ('慎', 1), ('專', 1), ('表', 1), ('餘', 1), ('備', 1), ('現', 1), ('月', 4), ('回', 3), ('非', 1), ('滿', 1), ('告', 8), ('恐', 1), ('戒', 1), ('立', 3), ('國', 14), ('議', 1), ('其', 1), ('諾', 1), ('退', 1), ('努', 2), ('兩', 1), ('事', 4), ('階', 1), ('峻', 1), ('的', 5), ('臣', 1), ('個', 4), ('啟', 1), ('這', 1), ('望', 1), ('院', 2), ('部', 6), ('而', 1), ('役', 18), ('憂', 3), ('民', 3), ('然', 1), ('後', 2), ('說', 4), ('完', 1), ('經', 1), ('邱', 6)])\n"
     ]
    }
   ],
   "source": [
    "# \\連結符號，後面一個空格都不可以有\n",
    "stop_words = ['（', '）', '＼', '「', '」', '\\n', '；', '，', '、', '。'] + \\\n",
    "            list(string.ascii_letters) + \\\n",
    "            list(string.digits)\n",
    "d = {w:txt.count(w) for w in set(txt) if w not in stop_words}\n",
    "print(d.items())"
   ]
  },
  {
   "cell_type": "markdown",
   "metadata": {},
   "source": [
    "### 具名函數與匿名函數"
   ]
  },
  {
   "cell_type": "code",
   "execution_count": 32,
   "metadata": {},
   "outputs": [],
   "source": [
    "def add(x, y) :\n",
    "    return x + y"
   ]
  },
  {
   "cell_type": "code",
   "execution_count": 33,
   "metadata": {},
   "outputs": [
    {
     "data": {
      "text/plain": [
       "7"
      ]
     },
     "execution_count": 33,
     "metadata": {},
     "output_type": "execute_result"
    }
   ],
   "source": [
    "add(3, 4)"
   ]
  },
  {
   "cell_type": "code",
   "execution_count": 34,
   "metadata": {},
   "outputs": [
    {
     "data": {
      "text/plain": [
       "8"
      ]
     },
     "execution_count": 34,
     "metadata": {},
     "output_type": "execute_result"
    }
   ],
   "source": [
    "(lambda x, y : x + y)(3, 5)"
   ]
  },
  {
   "cell_type": "markdown",
   "metadata": {},
   "source": [
    "### 如果在參數列中出現 /, *\n",
    "- / : 左邊的參數一定要採用位置參數(positional argument)\n",
    "* \\* : 右邊的參數一定要採用關鍵參數(keyword argument)\n",
    "---\n",
    "- 位置參數(positional argument) : 不帶參數名稱\n",
    "    - 例如 : add(3, 4)\n",
    "- 關鍵參數(keyword argument) : 帶參數名稱\n",
    "    - 例如 : add(x=3, y=4)\n",
    "---\n",
    "- 【重點】: 位置參數(positional argument)一定要在左，關鍵參數(keyword argument)一定要在右"
   ]
  },
  {
   "cell_type": "markdown",
   "metadata": {},
   "source": [
    "### 計算每一個字出現的頻率，並排除掉不要的字，並取出出現頻率最高的前10個字\n"
   ]
  },
  {
   "cell_type": "code",
   "execution_count": 36,
   "metadata": {
    "scrolled": true
   },
   "outputs": [
    {
     "data": {
      "text/plain": [
       "[('役', 18),\n",
       " ('年', 15),\n",
       " ('國', 14),\n",
       " ('長', 9),\n",
       " ('期', 9),\n",
       " ('告', 8),\n",
       " ('延', 7),\n",
       " ('防', 7),\n",
       " ('公', 7),\n",
       " ('正', 6)]"
      ]
     },
     "execution_count": 36,
     "metadata": {},
     "output_type": "execute_result"
    }
   ],
   "source": [
    "sorted(d.items(), key=lambda x : x[1], reverse=True)[:10]    # lambda 決定用 key:[0] 還是 value:[1] 排序\n",
    "                                                             # reverse True:遞減  False:遞增"
   ]
  },
  {
   "cell_type": "code",
   "execution_count": 37,
   "metadata": {},
   "outputs": [
    {
     "data": {
      "text/plain": [
       "dict_items([('但', 2), ('規', 1), ('關', 1), ('列', 1), ('天', 1), ('領', 1), ('受', 1), ('長', 9), ('段', 1), ('服', 4), ('力', 2), ('社', 1), ('檔', 1), ('及', 1), ('江', 1), ('男', 4), ('於', 1), ('在', 4), ('質', 1), ('岸', 1), ('報', 1), ('否', 2), ('實', 4), ('響', 1), ('法', 2), ('前', 5), ('訪', 1), ('示', 1), ('能', 2), ('席', 1), ('切', 1), ('向', 2), ('底', 4), ('確', 1), ('勢', 1), ('題', 1), ('他', 1), ('承', 1), ('眾', 2), ('結', 1), ('訓', 5), ('恢', 1), ('對', 2), ('施', 3), ('補', 1), ('委', 2), ('外', 1), ('因', 2), ('今', 4), ('案', 2), ('為', 1), ('就', 1), ('延', 7), ('上', 1), ('防', 7), ('定', 2), ('黨', 1), ('義', 5), ('不', 4), ('兵', 1), ('員', 1), ('針', 1), ('練', 4), ('午', 1), ('嚴', 1), ('務', 5), ('得', 1), ('詢', 4), ('年', 15), ('再', 4), ('交', 1), ('懼', 1), ('若', 4), ('期', 9), ('才', 1), ('並', 2), ('朝', 2), ('軍', 4), ('會', 5), ('屆', 1), ('方', 2), ('營', 3), ('情', 1), ('公', 7), ('央', 1), ('雖', 1), ('答', 2), ('明', 3), ('依', 1), ('正', 6), ('是', 5), ('可', 1), ('也', 4), ('令', 2), ('程', 1), ('中', 1), ('過', 1), ('影', 1), ('要', 2), ('很', 1), ('照', 1), ('時', 3), ('伍', 1), ('復', 1), ('將', 1), ('擔', 3), ('慎', 1), ('專', 1), ('表', 1), ('餘', 1), ('備', 1), ('現', 1), ('月', 4), ('回', 3), ('非', 1), ('滿', 1), ('告', 8), ('恐', 1), ('戒', 1), ('立', 3), ('國', 14), ('議', 1), ('其', 1), ('諾', 1), ('退', 1), ('努', 2), ('兩', 1), ('事', 4), ('階', 1), ('峻', 1), ('的', 5), ('臣', 1), ('個', 4), ('啟', 1), ('這', 1), ('望', 1), ('院', 2), ('部', 6), ('而', 1), ('役', 18), ('憂', 3), ('民', 3), ('然', 1), ('後', 2), ('說', 4), ('完', 1), ('經', 1), ('邱', 6)])"
      ]
     },
     "execution_count": 37,
     "metadata": {},
     "output_type": "execute_result"
    }
   ],
   "source": [
    "d.items()"
   ]
  },
  {
   "cell_type": "markdown",
   "metadata": {
    "collapsed": true
   },
   "source": [
    "#### <font color=#0000FF>撰寫一個 質數 的判斷程式</font>\n",
    "迴圈種類\n",
    "- for 迴圈\n",
    "- while 迴圈\n",
    "\n",
    "跳躍指令\n",
    "\n",
    "- break : 直接跳離迴圈外\n",
    "- continue : 跳至迴圈開始處繼續往下一次執行\n",
    "\n",
    "- <img src='http://180.218.162.136:2018/Images/Python/break_and_continue.jpg' width=300 align=left></img>"
   ]
  },
  {
   "cell_type": "code",
   "execution_count": 40,
   "metadata": {},
   "outputs": [
    {
     "name": "stdout",
     "output_type": "stream",
     "text": [
      "True\n"
     ]
    }
   ],
   "source": [
    "num = 11\n",
    "isPrimeFlag = True\n",
    "for f in range(2, num) :\n",
    "    if num%f == 0 :\n",
    "        isPrimeFlag = False\n",
    "        break\n",
    "\n",
    "print(isPrimeFlag)"
   ]
  },
  {
   "cell_type": "markdown",
   "metadata": {},
   "source": [
    "#### <font color=blue>function</font>\n",
    "- <img src='http://180.218.162.136:2018/Images/Python/function.jpg' width=500 align=left></img>"
   ]
  },
  {
   "cell_type": "code",
   "execution_count": 44,
   "metadata": {},
   "outputs": [],
   "source": [
    "def isPrime(num) :\n",
    "    isPrimeFlag = True\n",
    "    for f in range(2, num) :          # 知道跑幾次用 for\n",
    "        if num%f == 0 :\n",
    "            isPrimeFlag = False\n",
    "            break\n",
    "\n",
    "    return isPrimeFlag"
   ]
  },
  {
   "cell_type": "code",
   "execution_count": 46,
   "metadata": {},
   "outputs": [
    {
     "name": "stdout",
     "output_type": "stream",
     "text": [
      "True\n",
      "False\n"
     ]
    }
   ],
   "source": [
    "print(isPrime(13))\n",
    "print(isPrime(121))"
   ]
  },
  {
   "cell_type": "code",
   "execution_count": 76,
   "metadata": {},
   "outputs": [],
   "source": [
    "def isPrime(num) :\n",
    "    isPrimeFlag = True\n",
    "    f = 2\n",
    "    while isPrimeFlag and f < num:        # 一個狀態用 while\n",
    "        if num%f == 0 :\n",
    "            isPrimeFlag = False\n",
    "#             break\n",
    "        f += 1\n",
    "    return isPrimeFlag"
   ]
  },
  {
   "cell_type": "code",
   "execution_count": 71,
   "metadata": {},
   "outputs": [
    {
     "name": "stdout",
     "output_type": "stream",
     "text": [
      "False\n",
      "True\n"
     ]
    }
   ],
   "source": [
    "print(isPrime(132))\n",
    "print(isPrime(11))"
   ]
  },
  {
   "cell_type": "code",
   "execution_count": null,
   "metadata": {},
   "outputs": [],
   "source": []
  }
 ],
 "metadata": {
  "kernelspec": {
   "display_name": "Python 3 (ipykernel)",
   "language": "python",
   "name": "python3"
  },
  "language_info": {
   "codemirror_mode": {
    "name": "ipython",
    "version": 3
   },
   "file_extension": ".py",
   "mimetype": "text/x-python",
   "name": "python",
   "nbconvert_exporter": "python",
   "pygments_lexer": "ipython3",
   "version": "3.9.12"
  }
 },
 "nbformat": 4,
 "nbformat_minor": 2
}

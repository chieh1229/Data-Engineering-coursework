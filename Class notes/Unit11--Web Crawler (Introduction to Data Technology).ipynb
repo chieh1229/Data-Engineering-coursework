{
 "cells": [
  {
   "cell_type": "markdown",
   "metadata": {},
   "source": [
    "【東吳大學資管系】資料工程實務與應用<br>\n",
    "【授課老師】[陳祥輝 (Email : HsiangHui.Chen@gmail.com)](mailto:HsiangHui.Chen@gmail.com)<br>\n",
    "【facebook】[陳祥輝老師的臉書 (歡迎加好友)](https://goo.gl/osivhx)<br>\n",
    "【相關課程】[陳祥輝老師的課程]\n",
    "- [【東吳大學推廣部】](https://www.ext.scu.edu.tw/courses_search.php?key=陳祥輝)\n",
    "- [【臺北大學推廣教育】](https://dce.ntpu.edu.tw/page-search.php?q=陳祥輝)"
   ]
  },
  {
   "cell_type": "markdown",
   "metadata": {},
   "source": [
    "<a id=Home>【課程重點】</a>\n",
    "1. [e<u>X</u>tensible <u>M</u>arkup <u>L</u>anguage (XML, 可延伸標記式語言)](#XML)\n",
    "2. [<u>H</u>yper<u>T</u>ext <u>M</u>arkup <u>L</u>anguage (HTML, 超文本標記語言)](#HTML)\n",
    "3. [<u>J</u>ava<u>S</u>cript <u>O</u>bject <u>N</u>otation (JSON, JavaScript物件表示法)](#JSON)\n",
    "---\n",
    "4. [使用 CSS Selector / XPath 來尋找節點(node / nodes)](#locator)"
   ]
  },
  {
   "cell_type": "markdown",
   "metadata": {},
   "source": [
    "【參考網站】\n",
    "* [HTML5 Tutorial](https://www.w3schools.com/html/default.asp)\n",
    "* [HTML Element Reference](https://www.w3schools.com/tags/default.asp)\n",
    "* [CSS Tutorial](https://www.w3schools.com/css/default.asp)\n",
    "* [CSS Selector](https://developer.mozilla.org/zh-TW/docs/Glossary/CSS_Selector)"
   ]
  },
  {
   "cell_type": "markdown",
   "metadata": {},
   "source": [
    "【重點名詞提要】<font color=#0000FF>\n",
    "* HTML / CSS\n",
    "* tag\n",
    "* element / node / tag name\n",
    "* attribute(屬性)\n",
    "* selector (選取器)\n",
    "    * <font color=#FF0000>CSS Selector(選取器)</font> : 適用於 HTML\n",
    "        * [CSS Selector Reference](https://www.w3schools.com/cssref/css_selectors.asp)\n",
    "        * [CSS Selector Tester](https://www.w3schools.com/cssref/trysel.asp)\n",
    "    * <font color=#FF0000>XPath</font> (XPath stands for XML Path Language) : 適用於 HTML/XML\n",
    "        * [XPath Tutorial](https://www.w3schools.com/xml/xpath_intro.asp)\n",
    "    * <font color=#FF0000>JSON Path</font> : 適用於 JSON\n",
    "        * [JSONPath Online Evaluator](https://jsonpath.com/)\n",
    "    </font>"
   ]
  },
  {
   "cell_type": "markdown",
   "metadata": {},
   "source": [
    "### <font color=#0000FF>安裝需要的套件</font>\n",
    "- BeautifulSoup4\n",
    "- requests\n",
    "- lxml"
   ]
  },
  {
   "cell_type": "code",
   "execution_count": 13,
   "metadata": {},
   "outputs": [
    {
     "name": "stdout",
     "output_type": "stream",
     "text": [
      "Requirement already satisfied: BeautifulSoup4 in c:\\users\\sandy\\.conda\\envs\\py39\\lib\\site-packages (4.11.1)\n",
      "Requirement already satisfied: soupsieve>1.2 in c:\\users\\sandy\\.conda\\envs\\py39\\lib\\site-packages (from BeautifulSoup4) (2.3.1)\n"
     ]
    }
   ],
   "source": [
    "!pip install BeautifulSoup4"
   ]
  },
  {
   "cell_type": "code",
   "execution_count": 14,
   "metadata": {},
   "outputs": [
    {
     "name": "stdout",
     "output_type": "stream",
     "text": [
      "Requirement already satisfied: lxml in c:\\users\\sandy\\.conda\\envs\\py39\\lib\\site-packages (4.8.0)\n"
     ]
    }
   ],
   "source": [
    "!pip install lxml"
   ]
  },
  {
   "cell_type": "code",
   "execution_count": 15,
   "metadata": {},
   "outputs": [
    {
     "name": "stdout",
     "output_type": "stream",
     "text": [
      "Requirement already satisfied: requests in c:\\users\\sandy\\.conda\\envs\\py39\\lib\\site-packages (2.27.1)\n",
      "Requirement already satisfied: idna<4,>=2.5 in c:\\users\\sandy\\.conda\\envs\\py39\\lib\\site-packages (from requests) (3.3)\n",
      "Requirement already satisfied: certifi>=2017.4.17 in c:\\users\\sandy\\.conda\\envs\\py39\\lib\\site-packages (from requests) (2021.10.8)\n",
      "Requirement already satisfied: charset-normalizer~=2.0.0 in c:\\users\\sandy\\.conda\\envs\\py39\\lib\\site-packages (from requests) (2.0.4)\n",
      "Requirement already satisfied: urllib3<1.27,>=1.21.1 in c:\\users\\sandy\\.conda\\envs\\py39\\lib\\site-packages (from requests) (1.26.9)\n"
     ]
    }
   ],
   "source": [
    "!pip install requests"
   ]
  },
  {
   "cell_type": "markdown",
   "metadata": {},
   "source": [
    "### <font color=#0000FF>載入需要的套件</font>"
   ]
  },
  {
   "cell_type": "code",
   "execution_count": 2,
   "metadata": {
    "scrolled": true
   },
   "outputs": [
    {
     "name": "stdout",
     "output_type": "stream",
     "text": [
      "【現在時間】2022/11/13 13:45:24\n",
      "【所在目錄】C:\\資料工程\n",
      "【主機名稱】LAPTOP-HN8S2UQE (192.168.1.107)\n",
      "【Python】3.9.12\n",
      "【BeautifulSoup4】4.11.1\n",
      "【requests】2.28.1\n",
      "【lxml】4.8.0\n"
     ]
    },
    {
     "data": {
      "application/javascript": [
       "IPython.notebook.set_autosave_interval(120000)"
      ]
     },
     "metadata": {},
     "output_type": "display_data"
    },
    {
     "name": "stdout",
     "output_type": "stream",
     "text": [
      "Autosaving every 120 seconds\n"
     ]
    }
   ],
   "source": [
    "# -*-coding:UTF-8-*- \n",
    "from platform import python_version\n",
    "import os, time, socket\n",
    "import pandas as pd\n",
    "\n",
    "# [以下是網路爬蟲常用的模組]\n",
    "import bs4, lxml\n",
    "from bs4 import BeautifulSoup\n",
    "from lxml import etree\n",
    "import requests\n",
    "\n",
    "print(\"【現在時間】{}\".format(time.strftime(\"%Y/%m/%d %H:%M:%S\")))\n",
    "print(\"【所在目錄】{}\".format(os.getcwd()))\n",
    "print(\"【主機名稱】{} ({})\".format(socket.gethostname(),socket.gethostbyname(socket.gethostname())))\n",
    "print(\"【Python】{}\".format(python_version()))\n",
    "print(\"【BeautifulSoup4】{}\".format(bs4.__version__))\n",
    "print(\"【requests】{}\".format(requests.__version__))\n",
    "print(\"【lxml】{}\".format(lxml.__version__))\n",
    "\n",
    "%autosave 120"
   ]
  },
  {
   "cell_type": "markdown",
   "metadata": {},
   "source": [
    "<html>\n",
    "    <head>\n",
    "        <h1>這裡放的是 text</h1>\n",
    "    </head>\n",
    "    <body>\n",
    "        <p>a<br>b c d</p>\n",
    "    </body>\n",
    "</html>\n",
    "\n",
    "- 類似樹狀結構，br是換一行"
   ]
  },
  {
   "cell_type": "markdown",
   "metadata": {},
   "source": [
    "<a href='http://www.google.com.tw'>這裡是text</a>    \n",
    "- 爬下一個網址"
   ]
  },
  {
   "cell_type": "markdown",
   "metadata": {},
   "source": [
    "<img src='https://cdn2-digiphoto.techbang.com/system/images/115826/medium/7103fdeda156128c87229a810814a35f.jpg?1479451925' width=300 align=left>\n",
    "</img>"
   ]
  },
  {
   "cell_type": "markdown",
   "metadata": {},
   "source": [
    "<table>\n",
    "    \n",
    "</table>"
   ]
  },
  {
   "cell_type": "markdown",
   "metadata": {},
   "source": [
    "<table>\n",
    "    <tr></tr>\n",
    "    <tr></tr>\n",
    "    <tr></tr>\n",
    "</table>"
   ]
  },
  {
   "cell_type": "code",
   "execution_count": null,
   "metadata": {},
   "outputs": [],
   "source": [
    "<table>\n",
    "    <tr><td>A1</td><td>A2</td><td>A3</td><td>A4</td></tr>\n",
    "    <tr><td>B1</td><td>B2</td><td>B3</td><td>B4</td></tr>\n",
    "    <tr><td>C1</td><td>C2</td><td>C3</td><td>C4</td></tr>\n",
    "</table>"
   ]
  },
  {
   "cell_type": "markdown",
   "metadata": {},
   "source": [
    "<table>\n",
    "    <tr><td>A1</td><td>A2</td><td>A3</td><td>A4</td></tr>\n",
    "    <tr><td>B1</td><td>B2</td><td>B3</td><td>B4</td></tr>\n",
    "    <tr><td>C1</td><td>C2</td><td>C3</td><td>C4</td></tr>\n",
    "</table>"
   ]
  },
  {
   "cell_type": "code",
   "execution_count": null,
   "metadata": {},
   "outputs": [],
   "source": [
    "<table>\n",
    "    <tr><th>A1</th><th>A2</th><th>A3</th><th>A4</th></tr>\n",
    "    <tr><th>B1</th><td>B2</td><td>B3</td><td>B4</td></tr>\n",
    "    <tr><th>C1</th><td>C2</td><td>C3</td><td>C4</td></tr>\n",
    "</table>"
   ]
  },
  {
   "cell_type": "markdown",
   "metadata": {},
   "source": [
    "<table>\n",
    "    <tr><th>A1</th><th>A2</th><th>A3</th><th>A4</th></tr>\n",
    "    <tr><th>B1</th><td>B2</td><td>B3</td><td>B4</td></tr>\n",
    "    <tr><th>C1</th><td>C2</td><td>C3</td><td>C4</td></tr>\n",
    "</table>"
   ]
  },
  {
   "cell_type": "code",
   "execution_count": 5,
   "metadata": {},
   "outputs": [
    {
     "name": "stdout",
     "output_type": "stream",
     "text": [
      "<class 'list'>\n",
      "2\n"
     ]
    },
    {
     "data": {
      "text/html": [
       "<div>\n",
       "<style scoped>\n",
       "    .dataframe tbody tr th:only-of-type {\n",
       "        vertical-align: middle;\n",
       "    }\n",
       "\n",
       "    .dataframe tbody tr th {\n",
       "        vertical-align: top;\n",
       "    }\n",
       "\n",
       "    .dataframe thead th {\n",
       "        text-align: right;\n",
       "    }\n",
       "</style>\n",
       "<table border=\"1\" class=\"dataframe\">\n",
       "  <thead>\n",
       "    <tr style=\"text-align: right;\">\n",
       "      <th></th>\n",
       "      <th>0</th>\n",
       "      <th>1</th>\n",
       "      <th>2</th>\n",
       "      <th>3</th>\n",
       "    </tr>\n",
       "  </thead>\n",
       "  <tbody>\n",
       "    <tr>\n",
       "      <th>0</th>\n",
       "      <td>A1</td>\n",
       "      <td>A2</td>\n",
       "      <td>A3</td>\n",
       "      <td>A4</td>\n",
       "    </tr>\n",
       "    <tr>\n",
       "      <th>1</th>\n",
       "      <td>B1</td>\n",
       "      <td>B2</td>\n",
       "      <td>B3</td>\n",
       "      <td>B4</td>\n",
       "    </tr>\n",
       "    <tr>\n",
       "      <th>2</th>\n",
       "      <td>C1</td>\n",
       "      <td>C2</td>\n",
       "      <td>C3</td>\n",
       "      <td>C4</td>\n",
       "    </tr>\n",
       "  </tbody>\n",
       "</table>\n",
       "</div>"
      ],
      "text/plain": [
       "    0   1   2   3\n",
       "0  A1  A2  A3  A4\n",
       "1  B1  B2  B3  B4\n",
       "2  C1  C2  C3  C4"
      ]
     },
     "execution_count": 5,
     "metadata": {},
     "output_type": "execute_result"
    }
   ],
   "source": [
    "txt = \"\"\"\n",
    "<table>\n",
    "    <tr><td>A1</td><td>A2</td><td>A3</td><td>A4</td></tr>\n",
    "    <tr><td>B1</td><td>B2</td><td>B3</td><td>B4</td></tr>\n",
    "    <tr><td>C1</td><td>C2</td><td>C3</td><td>C4</td></tr>\n",
    "</table>\n",
    "\n",
    "<table>\n",
    "    <tr><td>X1</td><td>X2</td><td>X3</td><td>X4</td></tr>\n",
    "    <tr><td>Y1</td><td>Y2</td><td>Y3</td><td>Y4</td></tr>\n",
    "    <tr><td>Z1</td><td>Z2</td><td>Z3</td><td>Z4</td></tr>\n",
    "</table>\n",
    "\"\"\"\n",
    "\n",
    "df_list = pd.read_html(txt)    # 有table就用read_html\n",
    "print(type(df_list))\n",
    "print(len(df_list))\n",
    "df_list[0]"
   ]
  },
  {
   "cell_type": "code",
   "execution_count": 10,
   "metadata": {},
   "outputs": [
    {
     "name": "stdout",
     "output_type": "stream",
     "text": [
      "第1個df----------------\n",
      "    0   1   2   3\n",
      "0  A1  A2  A3  A4\n",
      "1  B1  B2  B3  B4\n",
      "2  C1  C2  C3  C4\n",
      "第2個df----------------\n",
      "    0   1   2   3\n",
      "0  X1  X2  X3  X4\n",
      "1  Y1  Y2  Y3  Y4\n",
      "2  Z1  Z2  Z3  Z4\n"
     ]
    }
   ],
   "source": [
    "for idx, df in enumerate(df_list, start=1) :\n",
    "    print(f'第{idx}個df----------------')\n",
    "    print(df)"
   ]
  },
  {
   "cell_type": "code",
   "execution_count": null,
   "metadata": {},
   "outputs": [],
   "source": []
  },
  {
   "cell_type": "markdown",
   "metadata": {},
   "source": [
    "### <a id=XML><font color=#0000FF>1. Extensible Markup Language (XML)</font></a>\n",
    "- [Best Online XML Viewer](https://codebeautify.org/xmlviewer) 【<font color=#FF0000>★★★★★</font>】\n",
    "- [Best XML Viewer Online](https://jsonformatter.org/xml-viewer)\n",
    "\n",
    "[HOME](#Home)"
   ]
  },
  {
   "cell_type": "code",
   "execution_count": 18,
   "metadata": {},
   "outputs": [],
   "source": [
    "xml_txt = \"\"\" \n",
    "<?xml version=\"1.0\" encoding=\"UTF-8\"?>\n",
    "<bookstore>  # tag都是自己定義的\n",
    "    <book>\n",
    "      <title bookid='MP31510'>SQL Server 2014專業開發與設計</title>\n",
    "      <author>陳祥輝</author>\n",
    "      <year>2015</year>\n",
    "      <price>680</price>\n",
    "    </book>\n",
    "    <book>\n",
    "      <title bookid='MP21629'>Oracle PL/SQL程式設計(暢銷回饋版)</title>\n",
    "      <author>陳祥輝</author>\n",
    "      <year>2016</year>\n",
    "      <price>580</price>\n",
    "    </book>\n",
    "    <book>\n",
    "      <title bookid='MP21724'>SQL Server效能調校(暢銷修訂版)</title>\n",
    "      <author authorID='1'>陳祥輝</author>\n",
    "      <author authorID='2'>陳臆如</author>\n",
    "      <author authorID='3'>黃浩</author>\n",
    "      <year>2017</year>\n",
    "      <price>450</price>\n",
    "    </book>\n",
    "</bookstore>\n",
    "\"\"\""
   ]
  },
  {
   "cell_type": "markdown",
   "metadata": {},
   "source": [
    "<img src=\"http://180.218.162.136:2018/Images/Spider/XML的架構圖2.JPG\" width=300 height=300 align=left></img>"
   ]
  },
  {
   "cell_type": "markdown",
   "metadata": {},
   "source": [
    "### <a id=HTML><font color=#0000FF>2. HTML</font></a>\n",
    "- [w3schools.com](https://www.w3schools.com/)\n",
    "- [HTML & CSS](https://www.w3schools.com/html/html_css.asp) 【<font color=#FF0000>★★★</font>☆☆】\n",
    "    - <font color=#0000FF>Inline</font> - by using the style attribute in HTML elements\n",
    "    - <font color=#0000FF>Internal</font> - by using a `<style>` element in the `<head>` section\n",
    "    - <font color=#0000FF>External</font> - by using an external CSS file\n",
    "    \n",
    "[HOME](#Home)"
   ]
  },
  {
   "cell_type": "markdown",
   "metadata": {},
   "source": [
    "<!DOCTYPE html>\n",
    "<html>\n",
    "    <head>\n",
    "        <title>First HTML</title>\n",
    "    </head>\n",
    "    <body>\n",
    "        I am your first HTML file!\n",
    "    </body>\n",
    "</html>"
   ]
  },
  {
   "cell_type": "markdown",
   "metadata": {},
   "source": [
    "<img src='http://180.218.162.136:2018/Images/Spider/Basic Structure of HTML.JPG' width=300 height=300 align=left>HTML的基本樹狀結構</img>"
   ]
  },
  {
   "cell_type": "code",
   "execution_count": 4,
   "metadata": {},
   "outputs": [],
   "source": [
    "webpage = \"\"\"\n",
    "<!DOCTYPE html>\n",
    "<html>\n",
    "  <head>\n",
    "<title>這裡是放網頁的標題</title>\n",
    "<style>\n",
    ".container1 {\n",
    "color:blue;\n",
    "text-align: center;\n",
    "}\n",
    ".container2 {\n",
    "color:red;\n",
    "text-align: left;\n",
    "}\n",
    "</style>\n",
    "</head>\n",
    "\n",
    "<body>\n",
    "<div class=container1>\n",
    "<p>網頁內容(X)</p>\n",
    "<p>\n",
    "<ul>\n",
    "<li>X第一個項目</li>\n",
    "<li>X第二個項目</li>\n",
    "<li>X第三個項目</li>\n",
    "</ul>\n",
    "</p>\n",
    "<p>\n",
    "<table>\n",
    "<tr><th>X1</th><th>X2</th><th>X3</th></tr>\n",
    "<tr><td>X(1,1)</td><td>X(1,2)</td><td>X(1,3)</td></tr>\n",
    "<tr><td>X(2,1)</td><td>X(2,2)</td><td>X(2,3)</td></tr>\n",
    "<tr><td>X(3,1)</td><td>X(3,2)</td><td>X(3,3)</td></tr>\n",
    "<tr><td>X(4,1)</td><td>X(4,2)</td><td>X(4,3)</td></tr>\n",
    "</table>\n",
    "</p>\n",
    "</div>\n",
    "<div class=container2>\n",
    "<p>網頁內容(Y)</p>\n",
    "<p>\n",
    "<ul>\n",
    "<li>Y第一個項目</li>\n",
    "<li>Y第二個項目</li>\n",
    "<li>Y第三個項目</li>\n",
    "</ul>\n",
    "</p>\n",
    "<p>\n",
    "<table>\n",
    "<tr><th>Y1</th><th>Y2</th><th>Y3</th></tr>\n",
    "<tr><td>Y(1,1)</td><td>Y(1,2)</td><td>Y(1,3)</td></tr>\n",
    "<tr><td>Y(2,1)</td><td>Y(2,2)</td><td>Y(2,3)</td></tr>\n",
    "<tr><td>Y(3,1)</td><td>Y(3,2)</td><td>Y(3,3)</td></tr>\n",
    "<tr><td>Y(4,1)</td><td>Y(4,2)</td><td>Y(4,3)</td></tr>\n",
    "</table>\n",
    "</p>\n",
    "<p id=\"p1\">我是段落一</p>\n",
    "<p id=\"p2\">我是段落二</p>\n",
    "</div>\n",
    "</body>\n",
    "</html>\n",
    "\"\"\""
   ]
  },
  {
   "cell_type": "markdown",
   "metadata": {},
   "source": [
    "<img src=\"http://180.218.162.136:2018/Images/Spider/HTML與CSS基本架構.jpg\" width=700 height=550 align=left></img>"
   ]
  },
  {
   "cell_type": "markdown",
   "metadata": {},
   "source": [
    "### <a id=JSON><font color=#0000FF>3. JavaScript Object Notation (JSON)</font></a>\n",
    "- [Best JSON Viewer Online](https://jsonformatter.org/json-viewer) 【<font color=#FF0000>★★★★★</font>】\n",
    "\n",
    "[HOME](#Home)"
   ]
  },
  {
   "cell_type": "markdown",
   "metadata": {},
   "source": [
    "### <a id=locator><font color=#0000FF>4. 使用 CSS Selector / XPath 來尋找節點(node / nodes)</font></a>\n",
    "* XPath (XML Path)\n",
    "    * [XPath Tutorial](https://www.w3schools.com/xml/xpath_intro.asp)\n",
    "* CSS Selector    \n",
    "    * [CSS Selector Reference](https://www.w3schools.com/cssref/css_selectors.asp) 【<font color=#FF0000>★★★★★</font>】\n",
    "    * [CSS Selector Tester](https://www.w3schools.com/cssref/trysel.asp)\n",
    "    \n",
    "[HOME](#Home)    "
   ]
  },
  {
   "cell_type": "markdown",
   "metadata": {},
   "source": [
    "#### <font color=#0000FF>【XML Path Language, XPath】</font>\n",
    "\n",
    "- [XPath Tutorial](https://www.w3schools.com/xml/xpath_intro.asp)\n",
    "    - [XPath Syntax](https://www.w3schools.com/xml/xpath_syntax.asp) 【<font color=#FF0000>★★★★★</font>】\n",
    "    - [XPath Operators](https://www.w3schools.com/xml/xpath_operators.asp) 【<font color=#FF0000>★★★★</font>☆】\n",
    "---\n",
    "\n",
    "- XPath is an emerging standard for directly accessing one or more nodes in an XML document using a simple filename-like syntax. Electric XML includes a useful subset of XPath functionality, and supports the following special tokens:\n",
    "\n",
    "    - <font color=#0000FF>//</font> : the current level and all sublevels to any depth        \n",
    "    - <font color=#0000FF>/</font> : if used as the first character, denotes the top-level document, otherwise denotes moving down a level        \n",
    "    - <font color=#0000FF>name</font> : matches all nodes on the current level with the specified name\n",
    "    - <font color=#0000FF>[n]</font> : matches the nth node on the current level, with n=1 denoting the first node\n",
    "    - <font color=#0000FF>name[n]</font> : matches the nth element on the current level with the specified name\n",
    "    - <font color=#0000FF>..</font> : go up one level\n",
    "    - <font color=#0000FF>.</font> : the current level\n",
    "    - <font color=#0000FF>\\*</font> : matches all nodes on the current level\n",
    "    - <font color=#0000FF>@name</font> : the attribute with the specified name\n",
    "    - <font color=#0000FF>@*</font> : all attributes\n",
    "    - <font color=#0000FF>[@key='value']</font> : all elements with an attribute that matches the specified key/value pair\n",
    "    - <font color=#0000FF>name[@key='value']</font> : all elements with the specified name and an attribute that matches the specified key/value pair\n",
    "    - <font color=#0000FF>[text()='value']</font> : all elements with the specified text\n",
    "    - <font color=#0000FF>name[text()='value']</font> : all elements with the specified name and text\n",
    "\n",
    "\n",
    "[HOME](#Home)"
   ]
  },
  {
   "cell_type": "code",
   "execution_count": 19,
   "metadata": {},
   "outputs": [],
   "source": [
    "from lxml import etree"
   ]
  },
  {
   "cell_type": "markdown",
   "metadata": {},
   "source": [
    "### <font color=#0000FF>4-1. 使用 XPath -- </font><font color=#FF0000>選取XML</font>"
   ]
  },
  {
   "cell_type": "markdown",
   "metadata": {},
   "source": [
    "#### <font color=blue>抓回每一本書的 title</font>"
   ]
  },
  {
   "cell_type": "code",
   "execution_count": 20,
   "metadata": {},
   "outputs": [
    {
     "name": "stdout",
     "output_type": "stream",
     "text": [
      "<class 'str'>\n",
      " \n",
      "<?xml version=\"1.0\" encoding=\"UTF-8\"?>\n",
      "<bookstore>  # tag都是自己定義的\n",
      "    <book>\n",
      "      <title bookid='MP31510'>SQL Server 2014專業開發與設計</title>\n",
      "      <author>陳祥輝</author>\n",
      "      <year>2015</year>\n",
      "      <price>680</price>\n",
      "    </book>\n",
      "    <book>\n",
      "      <title bookid='MP21629'>Oracle PL/SQL程式設計(暢銷回饋版)</title>\n",
      "      <author>陳祥輝</author>\n",
      "      <year>2016</year>\n",
      "      <price>580</price>\n",
      "    </book>\n",
      "    <book>\n",
      "      <title bookid='MP21724'>SQL Server效能調校(暢銷修訂版)</title>\n",
      "      <author authorID='1'>陳祥輝</author>\n",
      "      <author authorID='2'>陳臆如</author>\n",
      "      <author authorID='3'>黃浩</author>\n",
      "      <year>2017</year>\n",
      "      <price>450</price>\n",
      "    </book>\n",
      "</bookstore>\n",
      "\n"
     ]
    }
   ],
   "source": [
    "print(type(xml_txt))\n",
    "print(xml_txt)"
   ]
  },
  {
   "cell_type": "code",
   "execution_count": 22,
   "metadata": {},
   "outputs": [
    {
     "name": "stdout",
     "output_type": "stream",
     "text": [
      "<class 'lxml.etree._Element'>\n",
      "<class 'list'>\n",
      "3\n",
      "SQL Server 2014專業開發與設計\n"
     ]
    }
   ],
   "source": [
    "xml_obj = etree.HTML(xml_txt)        # 將純文字轉成可以 parse解析 的物件\n",
    "print(type(xml_obj))\n",
    "nodes = xml_obj.xpath(_path='//book/title')\n",
    "print(type(nodes))\n",
    "print(len(nodes))\n",
    "print(nodes[0].text)                # .text 指的就是 成對標籤中間的文字"
   ]
  },
  {
   "cell_type": "code",
   "execution_count": 21,
   "metadata": {},
   "outputs": [
    {
     "name": "stdout",
     "output_type": "stream",
     "text": [
      "['SQL Server 2014專業開發與設計', 'Oracle PL/SQL程式設計(暢銷回饋版)', 'SQL Server效能調校(暢銷修訂版)']\n"
     ]
    }
   ],
   "source": [
    "xml_obj = etree.HTML(xml_txt)        # 將純文字轉成可以 parse 的物件\n",
    "nodes = xml_obj.xpath(_path='//book/title')\n",
    "print([node.text for node in nodes])"
   ]
  },
  {
   "cell_type": "markdown",
   "metadata": {},
   "source": [
    "#### <font color=blue>找出 book下節點 author=陳臆如 的 title</font>\n",
    "- author 是 book 下面的 node，所以不要加 @"
   ]
  },
  {
   "cell_type": "code",
   "execution_count": 23,
   "metadata": {},
   "outputs": [
    {
     "name": "stdout",
     "output_type": "stream",
     "text": [
      "['SQL Server效能調校(暢銷修訂版)']\n"
     ]
    }
   ],
   "source": [
    "xml_obj = etree.HTML(xml_txt)        # 將純文字轉成可以 parse 的物件\n",
    "nodes = xml_obj.xpath(_path=\"//book[author='陳臆如']/title\")        # author是book下面的\n",
    "print([node.text for node in nodes])"
   ]
  },
  {
   "cell_type": "markdown",
   "metadata": {},
   "source": [
    "#### <font color=blue>找出 title 的 @bookid = MP21629</font>\n",
    "- bookid 是 title 標籤內的屬性，所以前面要加 @"
   ]
  },
  {
   "cell_type": "code",
   "execution_count": 25,
   "metadata": {},
   "outputs": [
    {
     "name": "stdout",
     "output_type": "stream",
     "text": [
      "['Oracle PL/SQL程式設計(暢銷回饋版)']\n"
     ]
    }
   ],
   "source": [
    "xml_obj = etree.HTML(xml_txt)        # 將純文字轉成可以 parse 的物件\n",
    "nodes = xml_obj.xpath(_path=\"//book/title[@bookid = 'MP21629']\")    # bookid是title裡面的\n",
    "print([node.text for node in nodes])"
   ]
  },
  {
   "cell_type": "markdown",
   "metadata": {},
   "source": [
    "#### <font color=blue>找出 price 小於 500 的書籍 title</font>"
   ]
  },
  {
   "cell_type": "code",
   "execution_count": 26,
   "metadata": {},
   "outputs": [
    {
     "name": "stdout",
     "output_type": "stream",
     "text": [
      "['SQL Server效能調校(暢銷修訂版)']\n"
     ]
    }
   ],
   "source": [
    "xml_obj = etree.HTML(xml_txt)        # 將純文字轉成可以 parse 的物件\n",
    "nodes = xml_obj.xpath(_path=\"//book[price<500]/title\")\n",
    "print([node.text for node in nodes])"
   ]
  },
  {
   "cell_type": "markdown",
   "metadata": {},
   "source": [
    "#### <font color=blue>找出 price 小於 500 或 大於 600 的書籍 title</font>"
   ]
  },
  {
   "cell_type": "code",
   "execution_count": 27,
   "metadata": {},
   "outputs": [
    {
     "name": "stdout",
     "output_type": "stream",
     "text": [
      "['SQL Server 2014專業開發與設計', 'SQL Server效能調校(暢銷修訂版)']\n"
     ]
    }
   ],
   "source": [
    "xml_obj = etree.HTML(xml_txt)        # 將純文字轉成可以 parse 的物件\n",
    "nodes = xml_obj.xpath(_path=\"//book[price<500 or price>600]/title\")\n",
    "print([node.text for node in nodes])"
   ]
  },
  {
   "cell_type": "markdown",
   "metadata": {},
   "source": [
    "#### <font color=blue>找出 出版年份 大於等於 2016 且 price 小於 500 的書籍所有資訊，使用 * </font>"
   ]
  },
  {
   "cell_type": "code",
   "execution_count": 28,
   "metadata": {},
   "outputs": [
    {
     "name": "stdout",
     "output_type": "stream",
     "text": [
      "['SQL Server效能調校(暢銷修訂版)', '陳祥輝', '陳臆如', '黃浩', '2017', '450']\n"
     ]
    }
   ],
   "source": [
    "xml_obj = etree.HTML(xml_txt)        # 將純文字轉成可以 parse 的物件\n",
    "nodes = xml_obj.xpath(_path=\"//book[year>=2016 and price<500]/*\")    # *是底下所有的資訊\n",
    "print([node.text for node in nodes])"
   ]
  },
  {
   "cell_type": "markdown",
   "metadata": {},
   "source": [
    "#### <font color=blue>請找出出版年份 大於等於 2016 且 price 小於 500 的 title 與 author，使用 |</font>"
   ]
  },
  {
   "cell_type": "code",
   "execution_count": 30,
   "metadata": {},
   "outputs": [
    {
     "name": "stdout",
     "output_type": "stream",
     "text": [
      "['SQL Server效能調校(暢銷修訂版)', '陳祥輝', '陳臆如', '黃浩']\n"
     ]
    }
   ],
   "source": [
    "xml_obj = etree.HTML(xml_txt)        # 將純文字轉成可以 parse 的物件\n",
    "nodes = xml_obj.xpath(_path=\"//book[year>=2016 and price<500]/title\"\n",
    "                            \" | //book[year>=2016 and price<500]/author\")   # 兩個條件用|聯集\n",
    "print([node.text for node in nodes])"
   ]
  },
  {
   "cell_type": "markdown",
   "metadata": {},
   "source": [
    "#### <font color=blue>找出 author 有 authorid 屬性的 author</font>\n",
    "- XML :　請都使用 `小寫`"
   ]
  },
  {
   "cell_type": "code",
   "execution_count": 31,
   "metadata": {},
   "outputs": [
    {
     "name": "stdout",
     "output_type": "stream",
     "text": [
      "['陳祥輝', '陳臆如', '黃浩']\n"
     ]
    }
   ],
   "source": [
    "xml_obj = etree.HTML(xml_txt)        # 將純文字轉成可以 parse 的物件\n",
    "nodes = xml_obj.xpath(_path=\"//book/author[@authorid]\")\n",
    "print([node.text for node in nodes])"
   ]
  },
  {
   "cell_type": "markdown",
   "metadata": {},
   "source": [
    "#### <font color=blue>找出 author 有 authorid 屬性的 @authorid</font>"
   ]
  },
  {
   "cell_type": "code",
   "execution_count": 35,
   "metadata": {},
   "outputs": [
    {
     "name": "stdout",
     "output_type": "stream",
     "text": [
      "['1', '2', '3']\n"
     ]
    }
   ],
   "source": [
    "xml_obj = etree.HTML(xml_txt)        # 將純文字轉成可以 parse 的物件\n",
    "nodes = xml_obj.xpath(_path=\"//book/author/@authorid\")\n",
    "print([node for node in nodes])      # 這裡不是.text，兩個tag之間的才是"
   ]
  },
  {
   "cell_type": "markdown",
   "metadata": {},
   "source": [
    "### <font color=#0000FF>4-2. 使用 XPath -- </font><font color=#FF0000>選取HTML</font>"
   ]
  },
  {
   "cell_type": "markdown",
   "metadata": {},
   "source": [
    "#### <font color=blue>找出 p 且具有 id 屬性的 node</font>"
   ]
  },
  {
   "cell_type": "code",
   "execution_count": 3,
   "metadata": {},
   "outputs": [
    {
     "name": "stdout",
     "output_type": "stream",
     "text": [
      "['我是段落一', '我是段落二']\n"
     ]
    }
   ],
   "source": [
    "html_obj = etree.HTML(webpage)\n",
    "nodes = html_obj.xpath(_path=\"//p[@id]\")\n",
    "print([node.text for node in nodes])"
   ]
  },
  {
   "cell_type": "markdown",
   "metadata": {},
   "source": [
    "#### <font color=blue>找出 p 且 的 id 屬性值是 p1</font>"
   ]
  },
  {
   "cell_type": "code",
   "execution_count": 4,
   "metadata": {},
   "outputs": [
    {
     "name": "stdout",
     "output_type": "stream",
     "text": [
      "['我是段落一']\n"
     ]
    }
   ],
   "source": [
    "html_obj = etree.HTML(webpage)\n",
    "nodes = html_obj.xpath(_path=\"//p[@id='p1']\")\n",
    "print([node.text for node in nodes])"
   ]
  },
  {
   "cell_type": "markdown",
   "metadata": {},
   "source": [
    "#### <font color=blue>找出所有 li 的資料</font>"
   ]
  },
  {
   "cell_type": "code",
   "execution_count": 5,
   "metadata": {},
   "outputs": [
    {
     "name": "stdout",
     "output_type": "stream",
     "text": [
      "['X第一個項目', 'X第二個項目', 'X第三個項目', 'Y第一個項目', 'Y第二個項目', 'Y第三個項目']\n"
     ]
    }
   ],
   "source": [
    "# <ul>是無序的資料，底下都是li\n",
    "html_obj = etree.HTML(webpage)\n",
    "nodes = html_obj.xpath(_path=\"//li\")\n",
    "print([node.text for node in nodes])"
   ]
  },
  {
   "cell_type": "markdown",
   "metadata": {},
   "source": [
    "#### <font color=blue>找出 div class=container1下，所有 li 的資料</font>"
   ]
  },
  {
   "cell_type": "code",
   "execution_count": 6,
   "metadata": {},
   "outputs": [
    {
     "name": "stdout",
     "output_type": "stream",
     "text": [
      "['X第一個項目', 'X第二個項目', 'X第三個項目']\n"
     ]
    }
   ],
   "source": [
    "html_obj = etree.HTML(webpage)\n",
    "nodes = html_obj.xpath(_path=\"//div[@class='container1']/*/li\")\n",
    "print([node.text for node in nodes])"
   ]
  },
  {
   "cell_type": "markdown",
   "metadata": {},
   "source": [
    "#### <font color=blue>將爬回的多個資料表(table)，寫出至多個Excel</font>\n",
    "- [Python format 格式化函数](https://www.runoob.com/python/att-string-format.html)"
   ]
  },
  {
   "cell_type": "code",
   "execution_count": 7,
   "metadata": {},
   "outputs": [
    {
     "name": "stdout",
     "output_type": "stream",
     "text": [
      "<class 'list'>\n",
      "2\n",
      "<class 'pandas.core.frame.DataFrame'>\n"
     ]
    }
   ],
   "source": [
    "data = pd.read_html(webpage)\n",
    "print(type(data))\n",
    "print(len(data))\n",
    "print(type(data[0]))"
   ]
  },
  {
   "cell_type": "code",
   "execution_count": 5,
   "metadata": {},
   "outputs": [
    {
     "name": "stdout",
     "output_type": "stream",
     "text": [
      "<class 'list'>\n"
     ]
    }
   ],
   "source": [
    "path = r'C:\\TempDir'\n",
    "if not os.path.exists(path) :\n",
    "    os.mkdir(path)\n",
    "\n",
    "data = pd.read_html(webpage)\n",
    "print(type(data))\n",
    "# for idx, df in enumerate(data, start=1) :\n",
    "#     df.to_excel(path + f'\\\\tbl_{idx:0>3d}.xlsx', \n",
    "#                 sheet_name = f'sheet_{idx}',\n",
    "#                 index=False)"
   ]
  },
  {
   "cell_type": "markdown",
   "metadata": {},
   "source": [
    "#### <font color=blue>將爬回的多個資料表(table)，寫出一個Excel多個工作表(sheet)</font>"
   ]
  },
  {
   "cell_type": "code",
   "execution_count": 12,
   "metadata": {},
   "outputs": [],
   "source": [
    "from pandas import ExcelWriter"
   ]
  },
  {
   "cell_type": "code",
   "execution_count": 14,
   "metadata": {},
   "outputs": [],
   "source": [
    "path = r'C:\\TempDir'\n",
    "if not os.path.exists(path) :\n",
    "    os.mkdir(path)\n",
    "\n",
    "data = pd.read_html(webpage)\n",
    "with ExcelWriter(path + f'\\\\Excel_Tbls.xlsx') as writer:\n",
    "    for idx, df in enumerate(data, start=1) :\n",
    "        df.to_excel(writer, sheet_name = f'{idx:0>3d}', index=False)"
   ]
  },
  {
   "cell_type": "markdown",
   "metadata": {},
   "source": [
    "### <font color=#0000FF>4-3. 使用 CSS Selector 選取HTML的節點</font>\n",
    "- [CSS Selector Reference](https://www.w3schools.com/cssref/css_selectors.asp) 【<font color=#FF0000>★★★★★</font>】"
   ]
  },
  {
   "cell_type": "markdown",
   "metadata": {},
   "source": [
    "<font color=#FF0000>【特別注意】</font>\n",
    "\n",
    "- 遇到 class attribute ，前面要加上 .\n",
    "- 遇到 id attribute ，前面要加上 #"
   ]
  },
  {
   "cell_type": "code",
   "execution_count": 15,
   "metadata": {},
   "outputs": [],
   "source": [
    "from bs4 import BeautifulSoup"
   ]
  },
  {
   "cell_type": "markdown",
   "metadata": {},
   "source": [
    "#### <font color=blue>空一格代表子、孫關係 ( 跳好幾層 )</font>"
   ]
  },
  {
   "cell_type": "code",
   "execution_count": 16,
   "metadata": {},
   "outputs": [
    {
     "name": "stdout",
     "output_type": "stream",
     "text": [
      "['X第一個項目', 'X第二個項目', 'X第三個項目', 'Y第一個項目', 'Y第二個項目', 'Y第三個項目']\n"
     ]
    }
   ],
   "source": [
    "soup = BeautifulSoup(markup=webpage, features=\"html.parser\")\n",
    "nodes = soup.select(selector='div li')\n",
    "print([node.text for node in nodes])"
   ]
  },
  {
   "cell_type": "code",
   "execution_count": 17,
   "metadata": {},
   "outputs": [
    {
     "name": "stdout",
     "output_type": "stream",
     "text": [
      "['X第一個項目', 'X第二個項目', 'X第三個項目']\n"
     ]
    }
   ],
   "source": [
    "soup = BeautifulSoup(markup=webpage, features=\"html.parser\")\n",
    "nodes = soup.select(selector='div.container1 li')\n",
    "print([node.text for node in nodes])"
   ]
  },
  {
   "cell_type": "code",
   "execution_count": 18,
   "metadata": {},
   "outputs": [
    {
     "name": "stdout",
     "output_type": "stream",
     "text": [
      "['X第一個項目', 'X第二個項目', 'X第三個項目']\n"
     ]
    }
   ],
   "source": [
    "soup = BeautifulSoup(markup=webpage, features=\"html.parser\")\n",
    "nodes = soup.select(selector='.container1 li')\n",
    "print([node.text for node in nodes])"
   ]
  },
  {
   "cell_type": "code",
   "execution_count": 19,
   "metadata": {},
   "outputs": [
    {
     "name": "stdout",
     "output_type": "stream",
     "text": [
      "['X第一個項目', 'X第二個項目', 'X第三個項目', 'Y第一個項目', 'Y第二個項目', 'Y第三個項目']\n"
     ]
    }
   ],
   "source": [
    "# 子、孫關係包含父、子關係\n",
    "soup = BeautifulSoup(markup=webpage, features=\"html.parser\")\n",
    "nodes = soup.select(selector='ul li')\n",
    "print([node.text for node in nodes])"
   ]
  },
  {
   "cell_type": "markdown",
   "metadata": {},
   "source": [
    "#### <font color=blue>`>` 代表父、子關係</font>"
   ]
  },
  {
   "cell_type": "code",
   "execution_count": 20,
   "metadata": {},
   "outputs": [
    {
     "name": "stdout",
     "output_type": "stream",
     "text": [
      "['X第一個項目', 'X第二個項目', 'X第三個項目', 'Y第一個項目', 'Y第二個項目', 'Y第三個項目']\n"
     ]
    }
   ],
   "source": [
    "soup = BeautifulSoup(markup=webpage, features=\"html.parser\")\n",
    "nodes = soup.select(selector='div > p > ul > li')\n",
    "print([node.text for node in nodes])"
   ]
  },
  {
   "cell_type": "markdown",
   "metadata": {},
   "source": [
    "#### <font color=blue>利用 id 來搜尋資料最方便，因為 id 不會重複，可以很精準抓到要的資料</font>"
   ]
  },
  {
   "cell_type": "code",
   "execution_count": 21,
   "metadata": {},
   "outputs": [
    {
     "name": "stdout",
     "output_type": "stream",
     "text": [
      "['我是段落一']\n"
     ]
    }
   ],
   "source": [
    "soup = BeautifulSoup(markup=webpage, features=\"html.parser\")\n",
    "nodes = soup.select(selector='p#p1')\n",
    "print([node.text for node in nodes])"
   ]
  },
  {
   "cell_type": "code",
   "execution_count": 22,
   "metadata": {},
   "outputs": [
    {
     "name": "stdout",
     "output_type": "stream",
     "text": [
      "['我是段落一']\n"
     ]
    }
   ],
   "source": [
    "soup = BeautifulSoup(markup=webpage, features=\"html.parser\")\n",
    "nodes = soup.select(selector='#p1')\n",
    "print([node.text for node in nodes])"
   ]
  },
  {
   "cell_type": "markdown",
   "metadata": {},
   "source": [
    "#### <font color=blue>`,` 代表聯集，就是將多個條件的結果聯集</font>"
   ]
  },
  {
   "cell_type": "code",
   "execution_count": 23,
   "metadata": {},
   "outputs": [
    {
     "name": "stdout",
     "output_type": "stream",
     "text": [
      "['我是段落一', '我是段落二']\n"
     ]
    }
   ],
   "source": [
    "soup = BeautifulSoup(markup=webpage, features=\"html.parser\")\n",
    "nodes = soup.select(selector='#p1, #p2')\n",
    "print([node.text for node in nodes])"
   ]
  },
  {
   "cell_type": "markdown",
   "metadata": {},
   "source": [
    "#### <font color=blue>`+` 代表兄弟關係</font>"
   ]
  },
  {
   "cell_type": "code",
   "execution_count": 24,
   "metadata": {},
   "outputs": [
    {
     "name": "stdout",
     "output_type": "stream",
     "text": [
      "['\\n\\nX1X2X3\\nX(1,1)X(1,2)X(1,3)\\nX(2,1)X(2,2)X(2,3)\\nX(3,1)X(3,2)X(3,3)\\nX(4,1)X(4,2)X(4,3)\\n\\n', '\\n\\nY1Y2Y3\\nY(1,1)Y(1,2)Y(1,3)\\nY(2,1)Y(2,2)Y(2,3)\\nY(3,1)Y(3,2)Y(3,3)\\nY(4,1)Y(4,2)Y(4,3)\\n\\n', '我是段落一', '我是段落二']\n"
     ]
    }
   ],
   "source": [
    "soup = BeautifulSoup(markup=webpage, features=\"html.parser\")\n",
    "nodes = soup.select(selector='p + p + p')  # 抓最後一個 p\n",
    "print([node.text for node in nodes])"
   ]
  },
  {
   "cell_type": "markdown",
   "metadata": {},
   "source": [
    "#### <font color=blue>找出元素 p 具有 id 屬性的節點</font>"
   ]
  },
  {
   "cell_type": "code",
   "execution_count": 25,
   "metadata": {},
   "outputs": [
    {
     "name": "stdout",
     "output_type": "stream",
     "text": [
      "['我是段落一', '我是段落二']\n"
     ]
    }
   ],
   "source": [
    "soup = BeautifulSoup(markup=webpage, features=\"html.parser\")\n",
    "nodes = soup.select(selector='p[id]')    # CSS不用加 @\n",
    "print([node.text for node in nodes])"
   ]
  },
  {
   "cell_type": "code",
   "execution_count": null,
   "metadata": {},
   "outputs": [],
   "source": []
  }
 ],
 "metadata": {
  "kernelspec": {
   "display_name": "Python 3 (ipykernel)",
   "language": "python",
   "name": "python3"
  },
  "language_info": {
   "codemirror_mode": {
    "name": "ipython",
    "version": 3
   },
   "file_extension": ".py",
   "mimetype": "text/x-python",
   "name": "python",
   "nbconvert_exporter": "python",
   "pygments_lexer": "ipython3",
   "version": "3.9.12"
  }
 },
 "nbformat": 4,
 "nbformat_minor": 4
}

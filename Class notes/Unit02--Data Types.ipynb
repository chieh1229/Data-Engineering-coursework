{
 "cells": [
  {
   "cell_type": "markdown",
   "metadata": {},
   "source": [
    "【東吳大學資管系】資料工程實務與應用<br>\n",
    "【授課老師】[陳祥輝 (Email : HsiangHui.Chen@gmail.com)](mailto:HsiangHui.Chen@gmail.com)<br>\n",
    "【facebook】[陳祥輝老師的臉書 (歡迎加好友)](https://goo.gl/osivhx)<br>\n",
    "【相關課程】[陳祥輝老師的課程]\n",
    "- [【東吳大學推廣部】](https://www.ext.scu.edu.tw/courses_search.php?key=陳祥輝)\n",
    "- [【臺北大學推廣教育】](https://dce.ntpu.edu.tw/page-search.php?q=陳祥輝)"
   ]
  },
  {
   "cell_type": "markdown",
   "metadata": {},
   "source": [
    "【重點提要】\n",
    "* list : <font color=#FF0000>[ ]</font>\n",
    "* tuple : <font color=#FF0000>( )</font>\n",
    "* set : <font color=#FF0000>{ }</font>\n",
    "* dict : <font color=#FF0000>{ }</font>\n",
    "* strings : \n",
    "\n",
    "【參考資料】\n",
    "* [The Python Tutorial -- Data Structures](https://docs.python.org/3/tutorial/datastructures.html)\n",
    "* [tutorialspoint]\n",
    "    * [Python - Lists](https://www.tutorialspoint.com/python/python_lists.htm)\n",
    "    * [Python - Tuples](https://www.tutorialspoint.com/python/python_tuples.htm)\n",
    "    * [Python - Dictionary](https://www.tutorialspoint.com/python/python_dictionary.htm)\n",
    "    * [Python - Strings](https://www.tutorialspoint.com/python/python_strings.htm)\n",
    "* [Basic formatting of String](https://pyformat.info/)    "
   ]
  },
  {
   "cell_type": "markdown",
   "metadata": {},
   "source": [
    "### <font color=#0000FF>list [ ]</font>\n",
    "<font color=#0000FF>[The <u>list</u> data type has some more methods. Here are all of the methods of <u>list</u> objects:](https://docs.python.org/3/tutorial/datastructures.html)</font>\n",
    "* **list.append(x)**\n",
    "    * Add an item to the end of the list. \n",
    "    * Equivalent to <font color=#FF0000>a[len(a):] = [x]</font>.\n",
    "\n",
    "* **list.extend(iterable)**\n",
    "    * Extend the list by appending all the items from the iterable. \n",
    "    * Equivalent to <font color=#F0000>a[len(a):] = iterable</font>.\n",
    "\n",
    "* **list.insert(i, x)**\n",
    "    * Insert an item at a given position. \n",
    "    * The first argument is the index of the element before which to insert, so a.insert(0, x) inserts at the front of the list, and a.insert(len(a), x) is equivalent to a.append(x).\n",
    "\n",
    "* **list.remove(x)**\n",
    "    * Remove the ***first item*** from the list whose value is x. It is an error if there is no such item.\n",
    "\n",
    "* **list.pop([i])** [中括弧選擇性參數]\n",
    "    * Remove the item at the given position in the list, and return it. If no index is specified, a.pop() removes and returns the last item in the list. (The square brackets around the i in the method signature denote that the parameter is optional, not that you should type square brackets at that position.\n",
    "\n",
    "* **list.clear()**\n",
    "    * Remove all items from the list. Equivalent to <font color=#F0000>del a[:]</font>.\n",
    "\n",
    "* **list.index(x[, start[, end]])**\n",
    "    * Return zero-based index in the list of the first item whose value is x. Raises a ValueError if there is no such item.\n",
    "    * The optional arguments start and end are interpreted as in the slice notation and are used to limit the search to a particular subsequence of the list. The returned index is computed relative to the beginning of the full sequence rather than the start argument.\n",
    "\n",
    "* **list.count(x)**\n",
    "    * Return the number of times x appears in the list.\n",
    "\n",
    "* **list.sort(key=None, reverse=False)**\n",
    "    * Sort the items of the list <font color=#F0000>in place</font> (the arguments can be used for sort customization, see sorted() for their explanation).\n",
    "\n",
    "* **list.reverse()**\n",
    "    * Reverse the elements of the list <font color=#F0000>in place</font>.\n",
    "\n",
    "* **list.copy()**\n",
    "    * Return a shallow copy of the list. \n",
    "    * Equivalent to <font color=#F0000>a[:]</font>."
   ]
  },
  {
   "cell_type": "code",
   "execution_count": 1,
   "metadata": {},
   "outputs": [
    {
     "name": "stdout",
     "output_type": "stream",
     "text": [
      "【日期時間】2022/10/05 13:00:30\n",
      "【工作目錄】C:\\資料工程\n",
      "【主機名稱】LAPTOP-HN8S2UQE (192.168.1.107)\n",
      "【Python】3.9.12\n"
     ]
    },
    {
     "data": {
      "application/javascript": [
       "IPython.notebook.set_autosave_interval(120000)"
      ]
     },
     "metadata": {},
     "output_type": "display_data"
    },
    {
     "name": "stdout",
     "output_type": "stream",
     "text": [
      "Autosaving every 120 seconds\n"
     ]
    }
   ],
   "source": [
    "# -*- coding: utf-8 -*-\n",
    "from platform import python_version\n",
    "import os, time, socket\n",
    "\n",
    "print(\"【日期時間】{}\".format(time.strftime(\"%Y/%m/%d %H:%M:%S\")))\n",
    "print(\"【工作目錄】{}\".format(os.getcwd()))\n",
    "print(\"【主機名稱】{} ({})\".format(socket.gethostname(),socket.gethostbyname(socket.gethostname())))\n",
    "print(\"【Python】{}\".format(python_version()))\n",
    "\n",
    "%autosave 120"
   ]
  },
  {
   "cell_type": "markdown",
   "metadata": {},
   "source": [
    "### <font color=#0000FF>list : [ ]</font>"
   ]
  },
  {
   "cell_type": "code",
   "execution_count": 2,
   "metadata": {},
   "outputs": [
    {
     "name": "stdout",
     "output_type": "stream",
     "text": [
      "[3, 4, 5, 5, 6, 7]\n"
     ]
    }
   ],
   "source": [
    "# 資料型態可以不一樣\n",
    "\n",
    "A = [3,4,5]\n",
    "B = [5,6,7]\n",
    "print(A + B)"
   ]
  },
  {
   "cell_type": "code",
   "execution_count": 3,
   "metadata": {},
   "outputs": [
    {
     "name": "stdout",
     "output_type": "stream",
     "text": [
      "[3, 4, 5, 5, 6, 7]\n"
     ]
    }
   ],
   "source": [
    "A = [3, 4, 5]\n",
    "B = [5, 6, 7]\n",
    "A.extend(B)           # .extend() 會將自己的內容改變\n",
    "# A = A.extend(B)     # 除非是回傳一個新的物件，才需要如此寫法\n",
    "print(A)"
   ]
  },
  {
   "cell_type": "code",
   "execution_count": 4,
   "metadata": {},
   "outputs": [
    {
     "name": "stdout",
     "output_type": "stream",
     "text": [
      "[10, 20, 30]\n",
      "[10, 20, 30, [5, 6, 7]]\n",
      "4\n"
     ]
    }
   ],
   "source": [
    "A = []\n",
    "B = [5, 6, 7]\n",
    "A.append(10)\n",
    "A.append(20)\n",
    "A.append(30)\n",
    "print(A)\n",
    "A.append(B)           # 把 B當一個元素\n",
    "print(A)\n",
    "print(len(A))         # 一維的都用len，Length"
   ]
  },
  {
   "cell_type": "code",
   "execution_count": 5,
   "metadata": {},
   "outputs": [
    {
     "name": "stdout",
     "output_type": "stream",
     "text": [
      "[3, 4]\n",
      "[5, 6]\n"
     ]
    }
   ],
   "source": [
    "A = []\n",
    "B = []\n",
    "A.append(3)\n",
    "A.append(4)\n",
    "B.append(5)\n",
    "B.append(6)\n",
    "print(A)\n",
    "print(B)"
   ]
  },
  {
   "cell_type": "code",
   "execution_count": 6,
   "metadata": {},
   "outputs": [
    {
     "name": "stdout",
     "output_type": "stream",
     "text": [
      "[3, 4, 5, 6]\n",
      "[3, 4, 5, 6]\n"
     ]
    }
   ],
   "source": [
    "# A與B共用資料區，所以會互相影響\n",
    "# A、B、沒有名字，3個物件\n",
    "\n",
    "A = B = []\n",
    "A.append(3)\n",
    "A.append(4)\n",
    "B.append(5)\n",
    "B.append(6)\n",
    "print(A)\n",
    "print(B)"
   ]
  },
  {
   "cell_type": "code",
   "execution_count": 7,
   "metadata": {},
   "outputs": [
    {
     "name": "stdout",
     "output_type": "stream",
     "text": [
      "[3, 5, 10, 6, 7, 8]\n"
     ]
    }
   ],
   "source": [
    "A = [3, 5, 6, 7, 8]\n",
    "A.insert(2, 10)       # 在第2個位子加入10\n",
    "print(A)"
   ]
  },
  {
   "cell_type": "code",
   "execution_count": 8,
   "metadata": {},
   "outputs": [
    {
     "name": "stdout",
     "output_type": "stream",
     "text": [
      "[5, 6, 3, 8]\n",
      "[5, 6, 8]\n"
     ]
    },
    {
     "ename": "ValueError",
     "evalue": "list.remove(x): x not in list",
     "output_type": "error",
     "traceback": [
      "\u001b[1;31m---------------------------------------------------------------------------\u001b[0m",
      "\u001b[1;31mValueError\u001b[0m                                Traceback (most recent call last)",
      "Input \u001b[1;32mIn [8]\u001b[0m, in \u001b[0;36m<cell line: 8>\u001b[1;34m()\u001b[0m\n\u001b[0;32m      6\u001b[0m A\u001b[38;5;241m.\u001b[39mremove(\u001b[38;5;241m3\u001b[39m)\n\u001b[0;32m      7\u001b[0m \u001b[38;5;28mprint\u001b[39m(A)\n\u001b[1;32m----> 8\u001b[0m \u001b[43mA\u001b[49m\u001b[38;5;241;43m.\u001b[39;49m\u001b[43mremove\u001b[49m\u001b[43m(\u001b[49m\u001b[38;5;241;43m3\u001b[39;49m\u001b[43m)\u001b[49m\n",
      "\u001b[1;31mValueError\u001b[0m: list.remove(x): x not in list"
     ]
    }
   ],
   "source": [
    "# remove從頭移除\n",
    "\n",
    "A = [3, 5, 6, 3, 8]\n",
    "A.remove(3)\n",
    "print(A)\n",
    "A.remove(3)\n",
    "print(A)\n",
    "A.remove(3)   # 發生 exception (error)"
   ]
  },
  {
   "cell_type": "code",
   "execution_count": 9,
   "metadata": {},
   "outputs": [
    {
     "name": "stdout",
     "output_type": "stream",
     "text": [
      "8\n",
      "5\n",
      "7\n",
      "6\n",
      "[3]\n"
     ]
    }
   ],
   "source": [
    "# pop如果沒有指定位子，從最後開始移除\n",
    "A = [3, 5, 6, 7, 8]\n",
    "print(A.pop())\n",
    "print(A.pop(1))\n",
    "print(A.pop())\n",
    "print(A.pop())\n",
    "print(A)"
   ]
  },
  {
   "cell_type": "code",
   "execution_count": 10,
   "metadata": {},
   "outputs": [
    {
     "name": "stdout",
     "output_type": "stream",
     "text": [
      "[]\n"
     ]
    }
   ],
   "source": [
    "A = [3, 5, 6, 7, 8]\n",
    "A.clear()\n",
    "print(A)"
   ]
  },
  {
   "cell_type": "code",
   "execution_count": 11,
   "metadata": {},
   "outputs": [
    {
     "name": "stdout",
     "output_type": "stream",
     "text": [
      "0\n",
      "5\n"
     ]
    },
    {
     "ename": "ValueError",
     "evalue": "3 is not in list",
     "output_type": "error",
     "traceback": [
      "\u001b[1;31m---------------------------------------------------------------------------\u001b[0m",
      "\u001b[1;31mValueError\u001b[0m                                Traceback (most recent call last)",
      "Input \u001b[1;32mIn [11]\u001b[0m, in \u001b[0;36m<cell line: 4>\u001b[1;34m()\u001b[0m\n\u001b[0;32m      2\u001b[0m \u001b[38;5;28mprint\u001b[39m(A\u001b[38;5;241m.\u001b[39mindex(\u001b[38;5;241m3\u001b[39m))\n\u001b[0;32m      3\u001b[0m \u001b[38;5;28mprint\u001b[39m(A\u001b[38;5;241m.\u001b[39mindex(\u001b[38;5;241m3\u001b[39m, \u001b[38;5;241m2\u001b[39m))          \u001b[38;5;66;03m# 找3 從第2個位子開始找\u001b[39;00m\n\u001b[1;32m----> 4\u001b[0m \u001b[38;5;28mprint\u001b[39m(\u001b[43mA\u001b[49m\u001b[38;5;241;43m.\u001b[39;49m\u001b[43mindex\u001b[49m\u001b[43m(\u001b[49m\u001b[38;5;241;43m3\u001b[39;49m\u001b[43m,\u001b[49m\u001b[43m \u001b[49m\u001b[38;5;241;43m2\u001b[39;49m\u001b[43m,\u001b[49m\u001b[43m \u001b[49m\u001b[38;5;241;43m4\u001b[39;49m\u001b[43m)\u001b[49m)\n",
      "\u001b[1;31mValueError\u001b[0m: 3 is not in list"
     ]
    }
   ],
   "source": [
    "A = [3, 5, 6, 7, 9, 3, 8]\n",
    "print(A.index(3))             # 找3\n",
    "print(A.index(3, 2))          # 找3 從第2個位子開始找\n",
    "print(A.index(3, 2, 4))       # 找3 從第2個位子開始找，第4個位子結束"
   ]
  },
  {
   "cell_type": "code",
   "execution_count": 12,
   "metadata": {},
   "outputs": [
    {
     "name": "stdout",
     "output_type": "stream",
     "text": [
      "2\n"
     ]
    }
   ],
   "source": [
    "A = [3, 5, 6, 7, 9, 3, 8]\n",
    "print(A.count(3))"
   ]
  },
  {
   "cell_type": "code",
   "execution_count": 13,
   "metadata": {},
   "outputs": [
    {
     "name": "stdout",
     "output_type": "stream",
     "text": [
      "[3, 3, 5, 6, 7, 8, 9]\n",
      "[9, 8, 7, 6, 5, 3, 3]\n"
     ]
    }
   ],
   "source": [
    "# 解釋有in place的會把自己蓋掉\n",
    "# reverse=False 遞增\n",
    "# reverse=True 遞減\n",
    "\n",
    "A = [3, 5, 6, 7, 9, 3, 8]\n",
    "A.sort(reverse=False)\n",
    "print(A)\n",
    "A.sort(reverse=True)\n",
    "print(A)"
   ]
  },
  {
   "cell_type": "code",
   "execution_count": 14,
   "metadata": {},
   "outputs": [
    {
     "name": "stdout",
     "output_type": "stream",
     "text": [
      "[8, 3, 9, 7, 6, 5, 3]\n"
     ]
    }
   ],
   "source": [
    "# reverse反轉\n",
    "A = [3, 5, 6, 7, 9, 3, 8]\n",
    "A.reverse()\n",
    "print(A)"
   ]
  },
  {
   "cell_type": "markdown",
   "metadata": {
    "collapsed": true
   },
   "source": [
    "### <font color=#FF0000>slice of list(切片)</font>\n",
    "<pre>\n",
    "* a[start:end]      : items start through end-1\n",
    "* a[start:]         : items start through the rest of the array\n",
    "* a[:end]           : items from the beginning through end-1\n",
    "* a[:]              : a copy of the whole array\n",
    "* a[start:end:step] : start through not past end, by step\n",
    "</pre>"
   ]
  },
  {
   "cell_type": "markdown",
   "metadata": {},
   "source": [
    "### Python 的index : 0, 1, 2, 3, 4, 5, ...... -3, -2, -1"
   ]
  },
  {
   "cell_type": "code",
   "execution_count": 15,
   "metadata": {
    "scrolled": true
   },
   "outputs": [
    {
     "data": {
      "text/plain": [
       "[100, 101, 102, 103, 104, 105, 106, 107, 108, 109, 110]"
      ]
     },
     "execution_count": 15,
     "metadata": {},
     "output_type": "execute_result"
    }
   ],
   "source": [
    "# 從list取一段資料出來\n",
    "# 含起不含棄\n",
    "list(range(100, 110+1))"
   ]
  },
  {
   "cell_type": "code",
   "execution_count": 16,
   "metadata": {},
   "outputs": [
    {
     "ename": "NameError",
     "evalue": "name 'lst' is not defined",
     "output_type": "error",
     "traceback": [
      "\u001b[1;31m---------------------------------------------------------------------------\u001b[0m",
      "\u001b[1;31mNameError\u001b[0m                                 Traceback (most recent call last)",
      "Input \u001b[1;32mIn [16]\u001b[0m, in \u001b[0;36m<cell line: 5>\u001b[1;34m()\u001b[0m\n\u001b[0;32m      3\u001b[0m lst \u001b[38;5;241m=\u001b[39m \u001b[38;5;28mlist\u001b[39m(\u001b[38;5;28mrange\u001b[39m(\u001b[38;5;241m100\u001b[39m, \u001b[38;5;241m110\u001b[39m\u001b[38;5;241m+\u001b[39m\u001b[38;5;241m1\u001b[39m))\n\u001b[0;32m      4\u001b[0m \u001b[38;5;28;01mdel\u001b[39;00m lst\n\u001b[1;32m----> 5\u001b[0m \u001b[38;5;28mprint\u001b[39m(\u001b[43mlst\u001b[49m)\n",
      "\u001b[1;31mNameError\u001b[0m: name 'lst' is not defined"
     ]
    }
   ],
   "source": [
    "# 刪除整個物件\n",
    "\n",
    "lst = list(range(100, 110+1))\n",
    "del lst\n",
    "print(lst)"
   ]
  },
  {
   "cell_type": "code",
   "execution_count": 17,
   "metadata": {},
   "outputs": [
    {
     "name": "stdout",
     "output_type": "stream",
     "text": [
      "[]\n"
     ]
    }
   ],
   "source": [
    "# 把裡面的資料刪掉\n",
    "\n",
    "lst = list(range(100, 110+1))\n",
    "del lst[:]\n",
    "print(lst)"
   ]
  },
  {
   "cell_type": "code",
   "execution_count": 18,
   "metadata": {},
   "outputs": [
    {
     "name": "stdout",
     "output_type": "stream",
     "text": [
      "[100, 101, 102, 103, 104, 105, 106, 107, 108, 109, 110]\n",
      "[100, 101, 102, 103, 104, 105, 106, 107, 108, 109, 110]\n",
      "103\n",
      "[100, 101, 102]\n",
      "[102, 103, 104, 105, 106, 107]\n",
      "[105, 106, 107, 108, 109, 110]\n",
      "[102, 105]\n"
     ]
    }
   ],
   "source": [
    "lst = list(range(100, 110+1))\n",
    "print(lst)\n",
    "print(lst[:])      # 冒號不寫就是從頭到尾\n",
    "print(lst[3])\n",
    "print(lst[:3])     # 講人話 : 前 3 個\n",
    "print(lst[2:8])    # 2~7\n",
    "print(lst[5:])     # 5到最後\n",
    "print(lst[2:8:3])  # 每次累加3"
   ]
  },
  {
   "cell_type": "code",
   "execution_count": 19,
   "metadata": {},
   "outputs": [
    {
     "name": "stdout",
     "output_type": "stream",
     "text": [
      "[100, 101, 102, 103, 104, 105, 106, 107, 108, 109, 110]\n",
      "108\n",
      "[105, 106, 107]\n",
      "[108, 109, 110]\n",
      "[110, 109, 108, 107, 106, 105, 104, 103, 102, 101, 100]\n",
      "[110, 108, 106, 104, 102, 100]\n"
     ]
    }
   ],
   "source": [
    "lst = list(range(100, 110+1))\n",
    "print(lst)\n",
    "print(lst[-3])\n",
    "print(lst[-6:-3])  #-6~-4\n",
    "print(lst[-3:])    # 講人話 : 後 3 個\n",
    "print(lst[::-1])   # -1等於反轉\n",
    "print(lst[::-2])   # -2一樣反轉每次-2"
   ]
  },
  {
   "cell_type": "markdown",
   "metadata": {},
   "source": [
    "### <font color=#0000FF>tuple : ( )</font>\n",
    "* Tuples are ***immutable(不可變)***, and usually contain a ***heterogeneous(異質)*** sequence of elements that are accessed via unpacking (see later in this section) or indexing (or even by attribute in the case of namedtuples). \n",
    "* Lists are ***mutable(可變)***, and their elements are usually ***homogeneous(同質)*** and are accessed by iterating over the list."
   ]
  },
  {
   "cell_type": "code",
   "execution_count": 20,
   "metadata": {},
   "outputs": [
    {
     "name": "stdout",
     "output_type": "stream",
     "text": [
      "(3, 5, 7, 2, 4, 6)\n"
     ]
    },
    {
     "ename": "TypeError",
     "evalue": "'tuple' object does not support item assignment",
     "output_type": "error",
     "traceback": [
      "\u001b[1;31m---------------------------------------------------------------------------\u001b[0m",
      "\u001b[1;31mTypeError\u001b[0m                                 Traceback (most recent call last)",
      "Input \u001b[1;32mIn [20]\u001b[0m, in \u001b[0;36m<cell line: 6>\u001b[1;34m()\u001b[0m\n\u001b[0;32m      4\u001b[0m t2 \u001b[38;5;241m=\u001b[39m (\u001b[38;5;241m2\u001b[39m, \u001b[38;5;241m4\u001b[39m, \u001b[38;5;241m6\u001b[39m)\n\u001b[0;32m      5\u001b[0m \u001b[38;5;28mprint\u001b[39m(t1 \u001b[38;5;241m+\u001b[39m t2)\n\u001b[1;32m----> 6\u001b[0m t1[\u001b[38;5;241m0\u001b[39m] \u001b[38;5;241m=\u001b[39m \u001b[38;5;241m100\u001b[39m\n",
      "\u001b[1;31mTypeError\u001b[0m: 'tuple' object does not support item assignment"
     ]
    }
   ],
   "source": [
    "# list可以更改，tuple不能更改\n",
    "\n",
    "t1 = (3, 5, 7)\n",
    "t2 = (2, 4, 6)\n",
    "print(t1 + t2)\n",
    "t1[0] = 100          # tuple 不得變更資料，所以發生 exception"
   ]
  },
  {
   "cell_type": "markdown",
   "metadata": {},
   "source": [
    "### <font color=#0000FF>set : { }</font>\n",
    "* A set is an unordered collection with <u>no duplicate elements</u>. \n",
    "* Basic uses include membership testing and eliminating duplicate entries. \n",
    "* Set objects also support mathematical operations like \n",
    "    * union : $A \\cup B$\n",
    "    * intersection : $A \\cap B$\n",
    "    * difference : $A - B$ or $B - A$\n",
    "    * symmetric difference : $A \\bigtriangleup B$ or $A \\oplus B$"
   ]
  },
  {
   "cell_type": "markdown",
   "metadata": {},
   "source": [
    "<html><table align=left><tr>\n",
    "<td><img src=\"https://aaimagestore.s3.amazonaws.com/july2017/0012890.005.png\" width=200 height=200 align=left>union</img></td>\n",
    "<td><img src=\"https://aaimagestore.s3.amazonaws.com/july2017/0012890.006.png\" width=200 height=200 align=left>intersection</img></td>\n",
    "<td><img src=\"https://eluniversomatematicoblog.files.wordpress.com/2017/04/operaciones_conjuntos1-e1492764522923.png\" width=200 height=200 align=left>difference</img></td>\n",
    "</tr></table></html>"
   ]
  },
  {
   "cell_type": "code",
   "execution_count": 21,
   "metadata": {},
   "outputs": [
    {
     "name": "stdout",
     "output_type": "stream",
     "text": [
      "{1, 2, 3, 4, 5}\n",
      "{1, 2, 3, 4, 5}\n",
      "{4}\n",
      "{4}\n",
      "{1, 2, 3}\n",
      "{5}\n"
     ]
    }
   ],
   "source": [
    "# 集合的天性 : 重複的資料只會出現一次\n",
    "# 交集、聯集有交換律，差集沒有\n",
    "\n",
    "A = {1,2,3,4}\n",
    "B = {4,5}\n",
    "\n",
    "print(A.union(B))\n",
    "print(B.union(A))\n",
    "print(A.intersection(B))\n",
    "print(B.intersection(A))\n",
    "print(A.difference(B))\n",
    "print(B.difference(A))"
   ]
  },
  {
   "cell_type": "markdown",
   "metadata": {},
   "source": [
    "<img src=\"https://www.thoughtco.com/thmb/z7Dc8kkBd6k2TfiuYkmhqW70NHs=/768x0/filters:no_upscale():max_bytes(150000):strip_icc():format(webp)/symmetric-56a8fa9f5f9b58b7d0f6ea14.jpg\" width=300 height=300 align=left>symmetric difference(對稱差異) of two sets</img>"
   ]
  },
  {
   "cell_type": "code",
   "execution_count": 22,
   "metadata": {
    "scrolled": true
   },
   "outputs": [
    {
     "name": "stdout",
     "output_type": "stream",
     "text": [
      "{1, 2, 3, 5}\n",
      "{1, 2, 3, 5}\n"
     ]
    }
   ],
   "source": [
    "# 把共同的挖掉\n",
    "\n",
    "A = {1,2,3,4}\n",
    "B = {4,5}\n",
    "print(A.symmetric_difference(B))\n",
    "print(B.symmetric_difference(A))"
   ]
  },
  {
   "cell_type": "code",
   "execution_count": 23,
   "metadata": {
    "scrolled": true
   },
   "outputs": [
    {
     "name": "stdout",
     "output_type": "stream",
     "text": [
      "{3, 5, 6, 7, 8, 9, 10}\n",
      "7\n"
     ]
    }
   ],
   "source": [
    "# 物件可以轉換\n",
    "A = [3,5,7,8,3,5,8,9,10,3,5,6,7]\n",
    "print(set(A))\n",
    "print(len(set(A)))"
   ]
  },
  {
   "cell_type": "code",
   "execution_count": 24,
   "metadata": {},
   "outputs": [
    {
     "name": "stdout",
     "output_type": "stream",
     "text": [
      "{1, 2, 3, 4, 5}\n",
      "{4}\n",
      "{1, 2, 3}\n",
      "{5}\n",
      "{1, 2, 3, 5}\n"
     ]
    }
   ],
   "source": [
    "A = {1,2,3,4}\n",
    "B = {4,5}\n",
    "\n",
    "print(A | B)  # 聯集\n",
    "print(A & B)  # 交集\n",
    "print(A - B)  # 差集\n",
    "print(B - A)\n",
    "print(A ^ B)  # 對稱式差集"
   ]
  },
  {
   "cell_type": "markdown",
   "metadata": {},
   "source": [
    "### <font color=#0000FF>dict : { }</font>\n",
    "\n",
    "* len(d)\n",
    "    * Return the number of items in the dictionary d.\n",
    "* d[key]\n",
    "    * Return the item of d with key key. Raises a KeyError if key is not in the map.\n",
    "* d[key] = value\n",
    "    * Set (or update) d[key] to value.\n",
    "* del d[key]\n",
    "    * Remove d[key] from d. Raises a KeyError if key is not in the map.\n",
    "* key in d\n",
    "    * Return True if d has a key key, else False.\n",
    "* key not in d\n",
    "    * Equivalent to not key in d.\n",
    "* iter(d)\n",
    "    * Return an iterator over the keys of the dictionary. This is a shortcut for iter(d.keys()).\n",
    "* clear()\n",
    "    * Remove all items from the dictionary.\n",
    "* copy()\n",
    "    * Return a shallow copy of the dictionary.\n",
    "* fromkeys() \n",
    "    * is a class method that returns a new dictionary. value defaults to None.\n",
    "    * classmethod fromkeys(seq[, value])\n",
    "    * Create a new dictionary with keys from seq and values set to value.\n",
    "* get(key[, default])\n",
    "    * Return the value for key if key is in the dictionary, else default. \n",
    "    * If default is not given, it defaults to None, so that this method never raises a KeyError.\n",
    "* items()\n",
    "    * Return a new view of the dictionary’s items ((key, value) pairs).\n",
    "* keys()\n",
    "    * Return a new view of the dictionary’s keys. See the documentation of view objects.\n",
    "* pop(key[, default])\n",
    "    * If key is in the dictionary, remove it and return its value, else return default. \n",
    "    * If default is not given and key is not in the dictionary, a KeyError is raised.\n",
    "* popitem()\n",
    "    * Remove and return an arbitrary (key, value) pair from the dictionary.\n",
    "    * popitem() is useful to destructively iterate over a dictionary, as often used in set algorithms. \n",
    "    * If the dictionary is empty, calling popitem() raises a KeyError.\n",
    "* setdefault(key[, default])\n",
    "    * If key is in the dictionary, return its value. If not, insert key with a value of default and return default. \n",
    "    * default defaults to None.\n",
    "* update([other])\n",
    "    * Update the dictionary with the key/value pairs from other, overwriting existing keys. Return None.\n",
    "    * update() accepts either another dictionary object or an iterable of key/value pairs (as tuples or other iterables of length two). \n",
    "    * If keyword arguments are specified, the dictionary is then updated with those key/value pairs: d.update(red=1, blue=2).\n",
    "* values()\n",
    "    * Return a new view of the dictionary’s values."
   ]
  },
  {
   "cell_type": "code",
   "execution_count": 25,
   "metadata": {},
   "outputs": [
    {
     "name": "stdout",
     "output_type": "stream",
     "text": [
      "<class 'dict'>\n",
      "<class 'dict'>\n"
     ]
    }
   ],
   "source": [
    "d1 = {}            # python的寫法\n",
    "d2 = dict()        # 物件導向的寫法\n",
    "\n",
    "print(type(d1))\n",
    "print(type(d2))"
   ]
  },
  {
   "cell_type": "code",
   "execution_count": 26,
   "metadata": {},
   "outputs": [
    {
     "name": "stdout",
     "output_type": "stream",
     "text": [
      "500\n",
      "500\n",
      "a\n",
      "['x', 'y', 'z']\n",
      "{3, 5, 7}\n"
     ]
    }
   ],
   "source": [
    "# key:value\n",
    "\n",
    "d1 = {'a':100, 'b':200, 'c':300, 'a':500, 'd':400}       # 後面會把前面蓋掉\n",
    "d2 = {100:'a', 200:['x', 'y', 'z'], 300:{3, 5, 7}}\n",
    "\n",
    "print(d1['a'])      # python的寫法\n",
    "print(d1.get('a'))  # 物件導向寫法\n",
    "\n",
    "print(d2.get(100))\n",
    "print(d2.get(200))\n",
    "print(d2.get(300))"
   ]
  },
  {
   "cell_type": "markdown",
   "metadata": {},
   "source": [
    "\n",
    "【參數的種類】\n",
    "- positional argument : 不給定參數名稱\n",
    "- keyword argument : 給定參數名稱\n",
    "\n",
    "【參數列中的 / , * 】\n",
    "- / : 左邊參數一定是位置參數(positional argument)\n",
    "- *: 右邊參數一定是關鍵參數(keyword argument)"
   ]
  },
  {
   "cell_type": "code",
   "execution_count": 27,
   "metadata": {},
   "outputs": [
    {
     "name": "stdout",
     "output_type": "stream",
     "text": [
      "None\n",
      "0\n",
      "就是找不到\n"
     ]
    },
    {
     "ename": "KeyError",
     "evalue": "'x'",
     "output_type": "error",
     "traceback": [
      "\u001b[1;31m---------------------------------------------------------------------------\u001b[0m",
      "\u001b[1;31mKeyError\u001b[0m                                  Traceback (most recent call last)",
      "Input \u001b[1;32mIn [27]\u001b[0m, in \u001b[0;36m<cell line: 9>\u001b[1;34m()\u001b[0m\n\u001b[0;32m      6\u001b[0m \u001b[38;5;28mprint\u001b[39m(d1\u001b[38;5;241m.\u001b[39mget(\u001b[38;5;124m'\u001b[39m\u001b[38;5;124mx\u001b[39m\u001b[38;5;124m'\u001b[39m, \u001b[38;5;124m'\u001b[39m\u001b[38;5;124m就是找不到\u001b[39m\u001b[38;5;124m'\u001b[39m))\n\u001b[0;32m      7\u001b[0m \u001b[38;5;66;03m# print(d1.get('x', default=0))    # 會發生錯誤\u001b[39;00m\n\u001b[1;32m----> 9\u001b[0m \u001b[38;5;28mprint\u001b[39m(\u001b[43md1\u001b[49m\u001b[43m[\u001b[49m\u001b[38;5;124;43m'\u001b[39;49m\u001b[38;5;124;43mx\u001b[39;49m\u001b[38;5;124;43m'\u001b[39;49m\u001b[43m]\u001b[49m)\n",
      "\u001b[1;31mKeyError\u001b[0m: 'x'"
     ]
    }
   ],
   "source": [
    "d1 = {'a':100, 'b':200, 'c':300, 'a':500, 'd':400} \n",
    "\n",
    "# 找不到 key 時的預設值\n",
    "print(d1.get('x'))\n",
    "print(d1.get('x', 0))\n",
    "print(d1.get('x', '就是找不到'))\n",
    "# print(d1.get('x', default=0))    # 會發生錯誤\n",
    "\n",
    "print(d1['x'])                     # 報錯"
   ]
  },
  {
   "cell_type": "markdown",
   "metadata": {},
   "source": [
    "#### dict 的新增、修改、刪除"
   ]
  },
  {
   "cell_type": "code",
   "execution_count": 28,
   "metadata": {},
   "outputs": [
    {
     "name": "stdout",
     "output_type": "stream",
     "text": [
      "None\n",
      "800\n",
      "700\n",
      "None\n"
     ]
    }
   ],
   "source": [
    "d1 = {'a':100, 'b':200, 'c':300, 'a':500, 'd':400} \n",
    "\n",
    "print(d1.get('x'))         # 'x' 不存在\n",
    "d1['x'] = 800              # 形同新增\n",
    "print(d1.get('x'))         # 'x' 已經存在\n",
    "d1['x'] = 700              # 形同修改\n",
    "print(d1.get('x'))         # 'x' 已經存在\n",
    "del d1['x']                # 形同刪除\n",
    "print(d1.get('x'))         # 'x' 不存在"
   ]
  },
  {
   "cell_type": "markdown",
   "metadata": {},
   "source": [
    "#### 判斷 key 是否存在的方式"
   ]
  },
  {
   "cell_type": "code",
   "execution_count": 29,
   "metadata": {},
   "outputs": [
    {
     "name": "stdout",
     "output_type": "stream",
     "text": [
      "False\n",
      "True\n",
      "-------------------------\n",
      "True\n",
      "False\n"
     ]
    }
   ],
   "source": [
    "d1 = {'a':100, 'b':200, 'c':300, 'a':500, 'd':400} \n",
    "\n",
    "print('x' in d1)\n",
    "print('x' not in d1)\n",
    "print('-------------------------')\n",
    "print(d1.get('x') is None)\n",
    "print(d1.get('x') is not None)"
   ]
  },
  {
   "cell_type": "markdown",
   "metadata": {},
   "source": [
    "#### dict 常用的 method"
   ]
  },
  {
   "cell_type": "code",
   "execution_count": 30,
   "metadata": {},
   "outputs": [
    {
     "name": "stdout",
     "output_type": "stream",
     "text": [
      "dict_keys(['a', 'b', 'c', 'd'])\n",
      "dict_values([500, 200, 300, 400])\n",
      "dict_items([('a', 500), ('b', 200), ('c', 300), ('d', 400)])\n"
     ]
    }
   ],
   "source": [
    "d1 = {'a':100, 'b':200, 'c':300, 'a':500, 'd':400} \n",
    "\n",
    "print(d1.keys())\n",
    "print(d1.values())     # values沒有順序性\n",
    "print(d1.items())"
   ]
  },
  {
   "cell_type": "markdown",
   "metadata": {},
   "source": [
    "### <font color=#0000FF>Strings</font>\n",
    "- [Python format 格式化函数](https://www.runoob.com/python/att-string-format.html)"
   ]
  },
  {
   "cell_type": "markdown",
   "metadata": {},
   "source": [
    "<font color=#0000FF>【字串格式format】</font>\n",
    "* Old : '%s %s' % ('one', 'two')\n",
    "* New : '{ } { }'.format('one', 'two')\n",
    "* Output : one two\n",
    "\n",
    "【數值】\n",
    "* Old : '%d %d' % (1, 2)\n",
    "* New :'{1} {0}'.format(2, 1)\n",
    "* Output : 1 2"
   ]
  },
  {
   "cell_type": "code",
   "execution_count": 3,
   "metadata": {},
   "outputs": [
    {
     "name": "stdout",
     "output_type": "stream",
     "text": [
      "x = 6579076.897897, y = 0.9798686, z = 36\n",
      "x = +6,579,076.898, y = 97.99%, z = 00036\n",
      "x = +6,579,076.898, y = 97.99%, z = 00036\n"
     ]
    }
   ],
   "source": [
    "x = 6579076.897897 ; y = 0.9798686 ; z = 36\n",
    "print('x = {}, y = {}, z = {}'.format(x, y, z))\n",
    "print('x = {:+,.3f}, y = {:.2%}, z = {:0>5d}'.format(x, y, z))        # : 正負 逗點 小數幾位    >補左邊 <補右邊\n",
    "print('x = {0:+,.3f}, y = {1:.2%}, z = {2:0>5d}'.format(x, y, z))     # inedx : 格式"
   ]
  },
  {
   "cell_type": "markdown",
   "metadata": {},
   "source": [
    "#### 使用 前綴 字元 f"
   ]
  },
  {
   "cell_type": "code",
   "execution_count": 32,
   "metadata": {},
   "outputs": [
    {
     "name": "stdout",
     "output_type": "stream",
     "text": [
      "x = 6579076.897897, y = 0.9798686, z= 36\n",
      "x = +6,579,081.898, y = 97.99%, z= 00036\n"
     ]
    }
   ],
   "source": [
    "x = 6579076.897897 ; y = 0.9798686 ; z = 36\n",
    "print(f'x = {x}, y = {y}, z= {z}')\n",
    "print(f'x = {x+5:+,.3f}, y = {y:.2%}, z= {z:0>5d}')      # f' '可以做運算"
   ]
  }
 ],
 "metadata": {
  "kernelspec": {
   "display_name": "Python 3 (ipykernel)",
   "language": "python",
   "name": "python3"
  },
  "language_info": {
   "codemirror_mode": {
    "name": "ipython",
    "version": 3
   },
   "file_extension": ".py",
   "mimetype": "text/x-python",
   "name": "python",
   "nbconvert_exporter": "python",
   "pygments_lexer": "ipython3",
   "version": "3.9.12"
  }
 },
 "nbformat": 4,
 "nbformat_minor": 2
}

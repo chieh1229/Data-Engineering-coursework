{
 "cells": [
  {
   "cell_type": "markdown",
   "metadata": {},
   "source": [
    "【東吳大學資管系】資料工程實務與應用<br>\n",
    "【授課老師】[陳祥輝 (Email : HsiangHui.Chen@gmail.com)](mailto:HsiangHui.Chen@gmail.com)<br>\n",
    "【facebook】[陳祥輝老師的臉書 (歡迎加好友)](https://goo.gl/osivhx)<br>\n",
    "【相關課程】[陳祥輝老師的課程]\n",
    "- [【東吳大學推廣部】](https://www.ext.scu.edu.tw/courses_search.php?key=陳祥輝)\n",
    "- [【臺北大學推廣教育】](https://dce.ntpu.edu.tw/page-search.php?q=陳祥輝)"
   ]
  },
  {
   "cell_type": "markdown",
   "metadata": {},
   "source": [
    "【參考資料】\n",
    "* [**【很重要】Built-in Exceptions**](https://docs.python.org/3/library/exceptions.html)"
   ]
  },
  {
   "cell_type": "code",
   "execution_count": 5,
   "metadata": {},
   "outputs": [
    {
     "name": "stdout",
     "output_type": "stream",
     "text": [
      "【日期時間】2022/11/30 12:33:01\n",
      "【工作目錄】C:\\資料工程\n",
      "【主機名稱】LAPTOP-HN8S2UQE (163.14.34.147)\n",
      "【Python】3.9.12\n"
     ]
    },
    {
     "data": {
      "application/javascript": [
       "IPython.notebook.set_autosave_interval(120000)"
      ]
     },
     "metadata": {},
     "output_type": "display_data"
    },
    {
     "name": "stdout",
     "output_type": "stream",
     "text": [
      "Autosaving every 120 seconds\n"
     ]
    }
   ],
   "source": [
    "# -*-coding:UTF-8-*- \n",
    "from platform import python_version\n",
    "import os, time, socket\n",
    "\n",
    "print(\"【日期時間】{}\".format(time.strftime(\"%Y/%m/%d %H:%M:%S\")))\n",
    "print(\"【工作目錄】{}\".format(os.getcwd()))\n",
    "print(\"【主機名稱】{} ({})\".format(socket.gethostname(),socket.gethostbyname(socket.gethostname())))\n",
    "print(\"【Python】{}\".format(python_version()))\n",
    "\n",
    "%autosave 120"
   ]
  },
  {
   "cell_type": "markdown",
   "metadata": {},
   "source": [
    "### <font color=#0000FF>甚麼是Exception?</font>"
   ]
  },
  {
   "cell_type": "code",
   "execution_count": 1,
   "metadata": {},
   "outputs": [
    {
     "ename": "ZeroDivisionError",
     "evalue": "division by zero",
     "output_type": "error",
     "traceback": [
      "\u001b[1;31m---------------------------------------------------------------------------\u001b[0m",
      "\u001b[1;31mZeroDivisionError\u001b[0m                         Traceback (most recent call last)",
      "Input \u001b[1;32mIn [1]\u001b[0m, in \u001b[0;36m<cell line: 1>\u001b[1;34m()\u001b[0m\n\u001b[1;32m----> 1\u001b[0m \u001b[38;5;28mprint\u001b[39m(\u001b[38;5;241;43m10\u001b[39;49m\u001b[38;5;241;43m/\u001b[39;49m\u001b[38;5;241;43m0\u001b[39;49m)\n",
      "\u001b[1;31mZeroDivisionError\u001b[0m: division by zero"
     ]
    }
   ],
   "source": [
    "print(10/0)"
   ]
  },
  {
   "cell_type": "code",
   "execution_count": 2,
   "metadata": {},
   "outputs": [
    {
     "ename": "FileNotFoundError",
     "evalue": "[Errno 2] No such file or directory: 'C:\\\\Data\\\\test.txt'",
     "output_type": "error",
     "traceback": [
      "\u001b[1;31m---------------------------------------------------------------------------\u001b[0m",
      "\u001b[1;31mFileNotFoundError\u001b[0m                         Traceback (most recent call last)",
      "Input \u001b[1;32mIn [2]\u001b[0m, in \u001b[0;36m<cell line: 1>\u001b[1;34m()\u001b[0m\n\u001b[1;32m----> 1\u001b[0m \u001b[38;5;28;43mopen\u001b[39;49m\u001b[43m(\u001b[49m\u001b[38;5;124;43mr\u001b[39;49m\u001b[38;5;124;43m'\u001b[39;49m\u001b[38;5;124;43mC:\u001b[39;49m\u001b[38;5;124;43m\\\u001b[39;49m\u001b[38;5;124;43mData\u001b[39;49m\u001b[38;5;124;43m\\\u001b[39;49m\u001b[38;5;124;43mtest.txt\u001b[39;49m\u001b[38;5;124;43m'\u001b[39;49m\u001b[43m,\u001b[49m\u001b[43m \u001b[49m\u001b[43mmode\u001b[49m\u001b[38;5;241;43m=\u001b[39;49m\u001b[38;5;124;43m'\u001b[39;49m\u001b[38;5;124;43mrt\u001b[39;49m\u001b[38;5;124;43m'\u001b[39;49m\u001b[43m,\u001b[49m\u001b[43m \u001b[49m\u001b[43mencoding\u001b[49m\u001b[38;5;241;43m=\u001b[39;49m\u001b[38;5;124;43m'\u001b[39;49m\u001b[38;5;124;43mutf-8\u001b[39;49m\u001b[38;5;124;43m'\u001b[39;49m\u001b[43m)\u001b[49m\n",
      "\u001b[1;31mFileNotFoundError\u001b[0m: [Errno 2] No such file or directory: 'C:\\\\Data\\\\test.txt'"
     ]
    }
   ],
   "source": [
    "open(r'C:\\Data\\test.txt', mode='rt', encoding='utf-8').read()"
   ]
  },
  {
   "cell_type": "code",
   "execution_count": 4,
   "metadata": {},
   "outputs": [
    {
     "ename": "IndexError",
     "evalue": "list index out of range",
     "output_type": "error",
     "traceback": [
      "\u001b[1;31m---------------------------------------------------------------------------\u001b[0m",
      "\u001b[1;31mIndexError\u001b[0m                                Traceback (most recent call last)",
      "Input \u001b[1;32mIn [4]\u001b[0m, in \u001b[0;36m<cell line: 2>\u001b[1;34m()\u001b[0m\n\u001b[0;32m      1\u001b[0m lst \u001b[38;5;241m=\u001b[39m [\u001b[38;5;241m3\u001b[39m, \u001b[38;5;241m5\u001b[39m, \u001b[38;5;241m7\u001b[39m]\n\u001b[1;32m----> 2\u001b[0m \u001b[38;5;28mprint\u001b[39m(\u001b[43mlst\u001b[49m\u001b[43m[\u001b[49m\u001b[38;5;241;43m3\u001b[39;49m\u001b[43m]\u001b[49m)\n",
      "\u001b[1;31mIndexError\u001b[0m: list index out of range"
     ]
    }
   ],
   "source": [
    "lst = [3, 5, 7]\n",
    "print(lst[3])"
   ]
  },
  {
   "cell_type": "markdown",
   "metadata": {},
   "source": [
    "### <font color=#0000FF>Exception與處理</font>\n",
    "<font color=#FF0000>【Case 1】系統拋出例外，你處理</font>"
   ]
  },
  {
   "cell_type": "code",
   "execution_count": 12,
   "metadata": {},
   "outputs": [
    {
     "name": "stdout",
     "output_type": "stream",
     "text": [
      "50.0\n",
      "【錯誤訊息】分母不得為零\n"
     ]
    }
   ],
   "source": [
    "try :\n",
    "    print(100/2)\n",
    "    print(10/0)          # 此處系統拋出例外\n",
    "    print(50*2)\n",
    "except ZeroDivisionError :\n",
    "    print('【錯誤訊息】分母不得為零')"
   ]
  },
  {
   "cell_type": "code",
   "execution_count": 13,
   "metadata": {},
   "outputs": [
    {
     "name": "stdout",
     "output_type": "stream",
     "text": [
      "50.0\n",
      "【錯誤訊息】檔案找不到\n"
     ]
    }
   ],
   "source": [
    "try :\n",
    "    print(100/2)\n",
    "    open(r'C:\\Data\\test.txt', mode='rt', encoding='utf-8').read() # 此處系統拋出例外\n",
    "    print(10/0)\n",
    "    print(50*2)\n",
    "except ZeroDivisionError :\n",
    "    print('【錯誤訊息】分母不得為零')\n",
    "except FileNotFoundError :\n",
    "    print('【錯誤訊息】檔案找不到')"
   ]
  },
  {
   "cell_type": "code",
   "execution_count": 14,
   "metadata": {},
   "outputs": [
    {
     "name": "stdout",
     "output_type": "stream",
     "text": [
      "50.0\n",
      "【錯誤訊息】反正就是有錯\n"
     ]
    }
   ],
   "source": [
    "lst = [3, 5, 7]\n",
    "\n",
    "try :\n",
    "    print(100/2)\n",
    "    print(lst[3])              # 此處系統拋出例外\n",
    "    open(r'C:\\Data\\test.txt', mode='rt', encoding='utf-8').read()\n",
    "    print(10/0)\n",
    "    print(50*2)\n",
    "except ZeroDivisionError :\n",
    "    print('【錯誤訊息】分母不得為零')\n",
    "except FileNotFoundError :\n",
    "    print('【錯誤訊息】檔案找不到')\n",
    "except :                       # 像 else\n",
    "    print('【錯誤訊息】反正就是有錯')"
   ]
  },
  {
   "cell_type": "markdown",
   "metadata": {},
   "source": [
    "### <font color=#0000FF>如何顯示系統預設的訊息</font>"
   ]
  },
  {
   "cell_type": "code",
   "execution_count": 15,
   "metadata": {},
   "outputs": [
    {
     "name": "stdout",
     "output_type": "stream",
     "text": [
      "50.0\n",
      "【錯誤訊息】反正就是有錯\n",
      "【系統訊息】list index out of range\n"
     ]
    }
   ],
   "source": [
    "lst = [3, 5, 7]\n",
    "\n",
    "try :\n",
    "    print(100/2)\n",
    "    print(lst[3])              # 此處系統拋出例外\n",
    "    open(r'C:\\Data\\test.txt', mode='rt', encoding='utf-8').read()\n",
    "    print(10/0)\n",
    "    print(50*2)\n",
    "except ZeroDivisionError as e:        # 不同區塊，所以別名都取一樣沒關係\n",
    "    print('【錯誤訊息】分母不得為零')\n",
    "    print(f'【系統訊息】{e}')\n",
    "except FileNotFoundError as e:\n",
    "    print('【錯誤訊息】檔案找不到')\n",
    "    print(f'【系統訊息】{e}')\n",
    "except Exception as e:\n",
    "    print('【錯誤訊息】反正就是有錯')\n",
    "    print(f'【系統訊息】{e}')"
   ]
  },
  {
   "cell_type": "markdown",
   "metadata": {},
   "source": [
    "### <font color=#0000FF>完整的語法</font>"
   ]
  },
  {
   "cell_type": "markdown",
   "metadata": {},
   "source": [
    "#### 【情境一】正常執行"
   ]
  },
  {
   "cell_type": "code",
   "execution_count": 16,
   "metadata": {},
   "outputs": [
    {
     "name": "stdout",
     "output_type": "stream",
     "text": [
      "50.0\n",
      "100\n",
      "【finally】無論如何，這一定會執行\n",
      "【結束】\n"
     ]
    }
   ],
   "source": [
    "lst = [3, 5, 7]\n",
    "\n",
    "try :\n",
    "    print(100/2)\n",
    "    print(50*2)\n",
    "except ZeroDivisionError as e:\n",
    "    print('【錯誤訊息】分母不得為零')\n",
    "    print(f'【系統訊息】{e}')\n",
    "except FileNotFoundError as e:\n",
    "    print('【錯誤訊息】檔案找不到')\n",
    "    print(f'【系統訊息】{e}')\n",
    "except Exception as e:\n",
    "    print('【錯誤訊息】反正就是有錯')\n",
    "    print(f'【系統訊息】{e}')\n",
    "finally :\n",
    "    print('【finally】無論如何，這一定會執行')\n",
    "    \n",
    "print('【結束】')"
   ]
  },
  {
   "cell_type": "markdown",
   "metadata": {},
   "source": [
    "#### 【情境二】發生例外、順利被捕捉並處理"
   ]
  },
  {
   "cell_type": "code",
   "execution_count": 17,
   "metadata": {},
   "outputs": [
    {
     "name": "stdout",
     "output_type": "stream",
     "text": [
      "50.0\n",
      "【錯誤訊息】反正就是有錯\n",
      "【系統訊息】list index out of range\n",
      "【finally】無論如何，這一定會執行\n",
      "【結束】\n"
     ]
    }
   ],
   "source": [
    "lst = [3, 5, 7]\n",
    "\n",
    "try :\n",
    "    print(100/2)\n",
    "    print(lst[3])              # 此處系統拋出例外\n",
    "    open(r'C:\\Data\\test.txt', mode='rt', encoding='utf-8').read()\n",
    "    print(10/0)\n",
    "    print(50*2)\n",
    "except ZeroDivisionError as e:\n",
    "    print('【錯誤訊息】分母不得為零')\n",
    "    print(f'【系統訊息】{e}')\n",
    "except FileNotFoundError as e:\n",
    "    print('【錯誤訊息】檔案找不到')\n",
    "    print(f'【系統訊息】{e}')\n",
    "except Exception as e:\n",
    "    print('【錯誤訊息】反正就是有錯')\n",
    "    print(f'【系統訊息】{e}')\n",
    "finally :\n",
    "    print('【finally】無論如何，這一定會執行')\n",
    "    \n",
    "print('【結束】')"
   ]
  },
  {
   "cell_type": "markdown",
   "metadata": {},
   "source": [
    "#### 【情境三】發生例外、沒有被捕捉、直接拋出畫面"
   ]
  },
  {
   "cell_type": "code",
   "execution_count": 18,
   "metadata": {
    "scrolled": true
   },
   "outputs": [
    {
     "name": "stdout",
     "output_type": "stream",
     "text": [
      "50.0\n",
      "【finally】無論如何，這一定會執行\n"
     ]
    },
    {
     "ename": "IndexError",
     "evalue": "list index out of range",
     "output_type": "error",
     "traceback": [
      "\u001b[1;31m---------------------------------------------------------------------------\u001b[0m",
      "\u001b[1;31mIndexError\u001b[0m                                Traceback (most recent call last)",
      "Input \u001b[1;32mIn [18]\u001b[0m, in \u001b[0;36m<cell line: 3>\u001b[1;34m()\u001b[0m\n\u001b[0;32m      3\u001b[0m \u001b[38;5;28;01mtry\u001b[39;00m :\n\u001b[0;32m      4\u001b[0m     \u001b[38;5;28mprint\u001b[39m(\u001b[38;5;241m100\u001b[39m\u001b[38;5;241m/\u001b[39m\u001b[38;5;241m2\u001b[39m)\n\u001b[1;32m----> 5\u001b[0m     \u001b[38;5;28mprint\u001b[39m(\u001b[43mlst\u001b[49m\u001b[43m[\u001b[49m\u001b[38;5;241;43m3\u001b[39;49m\u001b[43m]\u001b[49m)              \u001b[38;5;66;03m# 此處系統拋出例外\u001b[39;00m\n\u001b[0;32m      6\u001b[0m     \u001b[38;5;28mopen\u001b[39m(\u001b[38;5;124mr\u001b[39m\u001b[38;5;124m'\u001b[39m\u001b[38;5;124mC:\u001b[39m\u001b[38;5;124m\\\u001b[39m\u001b[38;5;124mData\u001b[39m\u001b[38;5;124m\\\u001b[39m\u001b[38;5;124mtest.txt\u001b[39m\u001b[38;5;124m'\u001b[39m, mode\u001b[38;5;241m=\u001b[39m\u001b[38;5;124m'\u001b[39m\u001b[38;5;124mrt\u001b[39m\u001b[38;5;124m'\u001b[39m, encoding\u001b[38;5;241m=\u001b[39m\u001b[38;5;124m'\u001b[39m\u001b[38;5;124mutf-8\u001b[39m\u001b[38;5;124m'\u001b[39m)\u001b[38;5;241m.\u001b[39mread()\n\u001b[0;32m      7\u001b[0m     \u001b[38;5;28mprint\u001b[39m(\u001b[38;5;241m10\u001b[39m\u001b[38;5;241m/\u001b[39m\u001b[38;5;241m0\u001b[39m)\n",
      "\u001b[1;31mIndexError\u001b[0m: list index out of range"
     ]
    }
   ],
   "source": [
    "lst = [3, 5, 7]\n",
    "\n",
    "try :\n",
    "    print(100/2)\n",
    "    print(lst[3])              # 此處系統拋出例外\n",
    "    open(r'C:\\Data\\test.txt', mode='rt', encoding='utf-8').read()\n",
    "    print(10/0)\n",
    "    print(50*2)\n",
    "except ZeroDivisionError as e:\n",
    "    print('【錯誤訊息】分母不得為零')\n",
    "    print(f'【系統訊息】{e}')\n",
    "except FileNotFoundError as e:\n",
    "    print('【錯誤訊息】檔案找不到')\n",
    "    print(f'【系統訊息】{e}')\n",
    "finally :\n",
    "    print('【finally】無論如何，這一定會執行')\n",
    "    \n",
    "print('【結束】')"
   ]
  },
  {
   "cell_type": "markdown",
   "metadata": {},
   "source": [
    "### <font color=#0000FF>Raise Exception</font>"
   ]
  },
  {
   "cell_type": "markdown",
   "metadata": {},
   "source": [
    "<font color=#FF0000>【Case 2】自己拋出例外，自己處理</font>"
   ]
  },
  {
   "cell_type": "code",
   "execution_count": 19,
   "metadata": {},
   "outputs": [],
   "source": [
    "def isLegalAge(age) :\n",
    "    try :\n",
    "        if age < 18 :\n",
    "            raise ValueError('【錯誤訊息】年齡未滿18歲')\n",
    "        else :\n",
    "            return True\n",
    "    except ValueError as e :\n",
    "        print(f'{e}')\n",
    "        return False"
   ]
  },
  {
   "cell_type": "code",
   "execution_count": 20,
   "metadata": {},
   "outputs": [
    {
     "data": {
      "text/plain": [
       "True"
      ]
     },
     "execution_count": 20,
     "metadata": {},
     "output_type": "execute_result"
    }
   ],
   "source": [
    "isLegalAge(20)"
   ]
  },
  {
   "cell_type": "code",
   "execution_count": 21,
   "metadata": {},
   "outputs": [
    {
     "name": "stdout",
     "output_type": "stream",
     "text": [
      "【錯誤訊息】年齡未滿18歲\n"
     ]
    },
    {
     "data": {
      "text/plain": [
       "False"
      ]
     },
     "execution_count": 21,
     "metadata": {},
     "output_type": "execute_result"
    }
   ],
   "source": [
    "isLegalAge(12)"
   ]
  },
  {
   "cell_type": "markdown",
   "metadata": {},
   "source": [
    "<font color=#FF0000>【Case 3】自己拋出例外，別人處理</font>"
   ]
  },
  {
   "cell_type": "code",
   "execution_count": 22,
   "metadata": {},
   "outputs": [],
   "source": [
    "def isLegalAge(age) :\n",
    "    if age < 18 :\n",
    "        raise ValueError('【錯誤訊息】年齡未滿18歲')\n",
    "    else :\n",
    "        return True"
   ]
  },
  {
   "cell_type": "code",
   "execution_count": 23,
   "metadata": {},
   "outputs": [
    {
     "data": {
      "text/plain": [
       "True"
      ]
     },
     "execution_count": 23,
     "metadata": {},
     "output_type": "execute_result"
    }
   ],
   "source": [
    "isLegalAge(20)"
   ]
  },
  {
   "cell_type": "code",
   "execution_count": 24,
   "metadata": {},
   "outputs": [
    {
     "ename": "ValueError",
     "evalue": "【錯誤訊息】年齡未滿18歲",
     "output_type": "error",
     "traceback": [
      "\u001b[1;31m---------------------------------------------------------------------------\u001b[0m",
      "\u001b[1;31mValueError\u001b[0m                                Traceback (most recent call last)",
      "Input \u001b[1;32mIn [24]\u001b[0m, in \u001b[0;36m<cell line: 1>\u001b[1;34m()\u001b[0m\n\u001b[1;32m----> 1\u001b[0m \u001b[43misLegalAge\u001b[49m\u001b[43m(\u001b[49m\u001b[38;5;241;43m12\u001b[39;49m\u001b[43m)\u001b[49m\n",
      "Input \u001b[1;32mIn [22]\u001b[0m, in \u001b[0;36misLegalAge\u001b[1;34m(age)\u001b[0m\n\u001b[0;32m      1\u001b[0m \u001b[38;5;28;01mdef\u001b[39;00m \u001b[38;5;21misLegalAge\u001b[39m(age) :\n\u001b[0;32m      2\u001b[0m     \u001b[38;5;28;01mif\u001b[39;00m age \u001b[38;5;241m<\u001b[39m \u001b[38;5;241m18\u001b[39m :\n\u001b[1;32m----> 3\u001b[0m         \u001b[38;5;28;01mraise\u001b[39;00m \u001b[38;5;167;01mValueError\u001b[39;00m(\u001b[38;5;124m'\u001b[39m\u001b[38;5;124m【錯誤訊息】年齡未滿18歲\u001b[39m\u001b[38;5;124m'\u001b[39m)\n\u001b[0;32m      4\u001b[0m     \u001b[38;5;28;01melse\u001b[39;00m :\n\u001b[0;32m      5\u001b[0m         \u001b[38;5;28;01mreturn\u001b[39;00m \u001b[38;5;28;01mTrue\u001b[39;00m\n",
      "\u001b[1;31mValueError\u001b[0m: 【錯誤訊息】年齡未滿18歲"
     ]
    }
   ],
   "source": [
    "isLegalAge(12)"
   ]
  },
  {
   "cell_type": "markdown",
   "metadata": {},
   "source": [
    "### <font color=#0000FF>User-Define Exception</font>\n",
    "<font color=#FF0000>【Case 4】自訂例外</font>"
   ]
  },
  {
   "cell_type": "code",
   "execution_count": 25,
   "metadata": {},
   "outputs": [],
   "source": [
    "class AgeError(Exception) :        # 只是要有一個名字，比較貼切\n",
    "    pass"
   ]
  },
  {
   "cell_type": "code",
   "execution_count": 26,
   "metadata": {},
   "outputs": [],
   "source": [
    "def isLegalAge(age) :\n",
    "    if age < 18 :\n",
    "        raise AgeError('【錯誤訊息】年齡未滿18歲')\n",
    "    else :\n",
    "        return True"
   ]
  },
  {
   "cell_type": "code",
   "execution_count": 27,
   "metadata": {},
   "outputs": [
    {
     "data": {
      "text/plain": [
       "True"
      ]
     },
     "execution_count": 27,
     "metadata": {},
     "output_type": "execute_result"
    }
   ],
   "source": [
    "isLegalAge(20)"
   ]
  },
  {
   "cell_type": "code",
   "execution_count": 28,
   "metadata": {},
   "outputs": [
    {
     "ename": "AgeError",
     "evalue": "【錯誤訊息】年齡未滿18歲",
     "output_type": "error",
     "traceback": [
      "\u001b[1;31m---------------------------------------------------------------------------\u001b[0m",
      "\u001b[1;31mAgeError\u001b[0m                                  Traceback (most recent call last)",
      "Input \u001b[1;32mIn [28]\u001b[0m, in \u001b[0;36m<cell line: 1>\u001b[1;34m()\u001b[0m\n\u001b[1;32m----> 1\u001b[0m \u001b[43misLegalAge\u001b[49m\u001b[43m(\u001b[49m\u001b[38;5;241;43m12\u001b[39;49m\u001b[43m)\u001b[49m\n",
      "Input \u001b[1;32mIn [26]\u001b[0m, in \u001b[0;36misLegalAge\u001b[1;34m(age)\u001b[0m\n\u001b[0;32m      1\u001b[0m \u001b[38;5;28;01mdef\u001b[39;00m \u001b[38;5;21misLegalAge\u001b[39m(age) :\n\u001b[0;32m      2\u001b[0m     \u001b[38;5;28;01mif\u001b[39;00m age \u001b[38;5;241m<\u001b[39m \u001b[38;5;241m18\u001b[39m :\n\u001b[1;32m----> 3\u001b[0m         \u001b[38;5;28;01mraise\u001b[39;00m AgeError(\u001b[38;5;124m'\u001b[39m\u001b[38;5;124m【錯誤訊息】年齡未滿18歲\u001b[39m\u001b[38;5;124m'\u001b[39m)\n\u001b[0;32m      4\u001b[0m     \u001b[38;5;28;01melse\u001b[39;00m :\n\u001b[0;32m      5\u001b[0m         \u001b[38;5;28;01mreturn\u001b[39;00m \u001b[38;5;28;01mTrue\u001b[39;00m\n",
      "\u001b[1;31mAgeError\u001b[0m: 【錯誤訊息】年齡未滿18歲"
     ]
    }
   ],
   "source": [
    "isLegalAge(12)"
   ]
  },
  {
   "cell_type": "code",
   "execution_count": null,
   "metadata": {},
   "outputs": [],
   "source": []
  }
 ],
 "metadata": {
  "kernelspec": {
   "display_name": "Python 3 (ipykernel)",
   "language": "python",
   "name": "python3"
  },
  "language_info": {
   "codemirror_mode": {
    "name": "ipython",
    "version": 3
   },
   "file_extension": ".py",
   "mimetype": "text/x-python",
   "name": "python",
   "nbconvert_exporter": "python",
   "pygments_lexer": "ipython3",
   "version": "3.9.12"
  }
 },
 "nbformat": 4,
 "nbformat_minor": 2
}

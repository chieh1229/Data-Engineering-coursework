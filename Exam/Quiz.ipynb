{
 "cells": [
  {
   "cell_type": "markdown",
   "id": "011a3f9f",
   "metadata": {},
   "source": [
    "### 【練習題】撰寫一個函數可以提取出現頻率最高、最低的前n個字\n",
    "- 函數名稱 : countWordByNewsdir(path, topN=10, reverse=False)\n",
    "- 【參數】\n",
    "    - path : 新聞存放的目錄，例如 : C:\\Data\\news\n",
    "    - topN : 指定選取前 n 個字\n",
    "    - reverse :\n",
    "        - False : 遞增排序\n",
    "        - True : 遞減排序\n",
    "- 【return】\n",
    "    - dict.items()"
   ]
  },
  {
   "cell_type": "code",
   "execution_count": 2,
   "id": "aaf33acf",
   "metadata": {},
   "outputs": [],
   "source": [
    "import glob\n",
    "import string"
   ]
  },
  {
   "cell_type": "code",
   "execution_count": 3,
   "id": "a05518d3",
   "metadata": {},
   "outputs": [],
   "source": [
    "def countWordByNewsdir(path, topN=10, reverse=False) :\n",
    "    fnames = glob.glob(path + r'\\**\\*.csv', recursive=True)\n",
    "    txt =''\n",
    "    for i in range(0,len(fnames)) :\n",
    "        inpf = open(file=fnames[i], mode='rt', encoding='utf-8')\n",
    "        txt += inpf.read()\n",
    "        inpf.close()\n",
    "\n",
    "    d = {w:txt.count(w) for w in set(txt)}\n",
    "    stop_words = ['（','）','%','／','＼','「','」','％','；','，','、','。','【','】','-','《','》','？','+','?','°','．',' ',] + \\\n",
    "                list(string.ascii_letters) + \\\n",
    "                list(string.digits)\n",
    "    \n",
    "    d = {w:txt.count(w) for w in set(txt) if w not in stop_words}\n",
    "    return dict(sorted(d.items(), key=lambda x : x[1], reverse=reverse)[:topN])"
   ]
  },
  {
   "cell_type": "code",
   "execution_count": null,
   "id": "a0882c12",
   "metadata": {},
   "outputs": [],
   "source": [
    "def countWordByNewsdir(path, topN, rev):\n",
    "    \n",
    "    # 設定停用字\n",
    "    stop_words = ['（', '）', '＼', '「', '」', '\\n', '，', '、', '。', '；'] + \\\n",
    "             list(string.ascii_letters) + \\\n",
    "             list(string.digits)\n",
    "    \n",
    "    '''\n",
    "    建議使用glob模組來讀取檔案，因為pd.read_csv會將讀取到的資料自動轉為Dataframe\n",
    "    如果要計算一段文字單字出現的次數，資料型態必須是str\n",
    "    '''\n",
    "    \n",
    "    # 使用glob模組抓取路徑下所有.csv檔\n",
    "    file_nam = glob.glob(path + '/**/*.csv',recursive=True)\n",
    "    \n",
    "    # 使用迴圈讀取檔案，並將所有資料放進text變數裡\n",
    "    text = [open(file,encoding = 'utf-8').read() for file in file_nam]\n",
    "\n",
    "    # ''.join(list) 將list轉為str的語法\n",
    "    d = {w:''.join(text).count(w) for w in set(''.join(text)) if w not in stop_words}\n",
    "    \n",
    "    # 排序後回傳\n",
    "    return sorted(d.items(),key = lambda x:x[1],reverse = rev)[:topN]"
   ]
  },
  {
   "cell_type": "code",
   "execution_count": 4,
   "id": "2006b4db",
   "metadata": {},
   "outputs": [
    {
     "data": {
      "text/plain": [
       "{'裏': 1,\n",
       " '棒': 1,\n",
       " '脊': 1,\n",
       " '嘲': 1,\n",
       " '貧': 1,\n",
       " '堪': 1,\n",
       " '歹': 1,\n",
       " '酸': 1,\n",
       " '覆': 1,\n",
       " '鼠': 1}"
      ]
     },
     "execution_count": 4,
     "metadata": {},
     "output_type": "execute_result"
    }
   ],
   "source": [
    "countWordByNewsdir(path = r'C:\\Data\\news', topN=10, reverse=False)"
   ]
  },
  {
   "cell_type": "code",
   "execution_count": 5,
   "id": "32fd2898",
   "metadata": {},
   "outputs": [
    {
     "data": {
      "text/plain": [
       "{'的': 1931,\n",
       " '有': 798,\n",
       " '是': 754,\n",
       " '國': 748,\n",
       " '在': 711,\n",
       " '一': 638,\n",
       " '會': 631,\n",
       " '人': 582,\n",
       " '不': 568,\n",
       " '台': 509}"
      ]
     },
     "execution_count": 5,
     "metadata": {},
     "output_type": "execute_result"
    }
   ],
   "source": [
    "countWordByNewsdir(path = r'C:\\Data\\news', topN=10, reverse=True)"
   ]
  },
  {
   "cell_type": "code",
   "execution_count": null,
   "id": "1208779f",
   "metadata": {},
   "outputs": [],
   "source": []
  }
 ],
 "metadata": {
  "kernelspec": {
   "display_name": "Python 3 (ipykernel)",
   "language": "python",
   "name": "python3"
  },
  "language_info": {
   "codemirror_mode": {
    "name": "ipython",
    "version": 3
   },
   "file_extension": ".py",
   "mimetype": "text/x-python",
   "name": "python",
   "nbconvert_exporter": "python",
   "pygments_lexer": "ipython3",
   "version": "3.9.12"
  }
 },
 "nbformat": 4,
 "nbformat_minor": 5
}

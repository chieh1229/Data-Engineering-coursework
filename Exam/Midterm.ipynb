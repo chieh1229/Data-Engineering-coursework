{
 "cells": [
  {
   "cell_type": "markdown",
   "metadata": {},
   "source": [
    "【東吳大學資管系】資料工程實務與應用，1111期中考試<br>\n",
    "【授課老師】[陳祥輝 (Email : HsiangHui.Chen@gmail.com)](mailto:HsiangHui.Chen@gmail.com)<br>\n",
    "【facebook】[陳祥輝老師的臉書 (歡迎加好友)](https://goo.gl/osivhx)<br>\n",
    "【相關課程】[陳祥輝老師的課程]\n",
    "- [【東吳大學推廣部】](https://www.ext.scu.edu.tw/courses_search.php?key=陳祥輝)\n",
    "- [【臺北大學推廣教育】](https://dce.ntpu.edu.tw/page-search.php?q=陳祥輝)"
   ]
  },
  {
   "cell_type": "markdown",
   "metadata": {},
   "source": [
    "### <font color='red'>【注意事項】</font>\n",
    "- 禁止使用個人電腦、平板、手機，可以使用書籍、紙本資料、電子資料(USB隨身碟)。\n",
    "- 禁止使用通訊軟體。\n",
    "- 程式必須要能執行，否則以零分計。\n",
    "- 禁止直接將電子資料Copy至答題區進行修改，只能從無自己寫出程式，否則會進行該題倒扣分數。\n",
    "- 不需要的程式不得出現在答案中，否則視同Copy行為。"
   ]
  },
  {
   "cell_type": "markdown",
   "metadata": {},
   "source": [
    "### <font color='blue'>第01題(25%) : Pandas.DataFrame 基本使用</font>\n",
    "\n",
    "- 讀入 C:\\Data\\PyData\\AirQty2016-06-01_UTF8.csv\n",
    "- 需求   \n",
    "    1. 查看該檔案有幾筆資料列\n",
    "    2. 查看該檔案有幾個資料行\n",
    "    3. 列出該檔案的所有資料行名稱\n",
    "    4. 請查看 SO2, CO, O3, PM10, PM2.5 遺漏值的筆數\n",
    "    5. SO2, PM2.5 屬性的全距(range)與四分位數"
   ]
  },
  {
   "cell_type": "code",
   "execution_count": 1,
   "metadata": {},
   "outputs": [],
   "source": [
    "import pandas as pd"
   ]
  },
  {
   "cell_type": "code",
   "execution_count": 18,
   "metadata": {},
   "outputs": [
    {
     "name": "stdout",
     "output_type": "stream",
     "text": [
      "76\n",
      "17\n",
      "Index(['SiteName', 'County', 'PSI', 'MajorPollutant', 'Status', 'SO2', 'CO',\n",
      "       'O3', 'PM10', 'PM2.5', 'NO2', 'WindSpeed', 'WindDirec', 'FPMI', 'NOx',\n",
      "       'NO', 'PublishTime'],\n",
      "      dtype='object')\n",
      "0\n",
      "1\n",
      "2\n",
      "1\n",
      "0\n"
     ]
    },
    {
     "data": {
      "text/html": [
       "<div>\n",
       "<style scoped>\n",
       "    .dataframe tbody tr th:only-of-type {\n",
       "        vertical-align: middle;\n",
       "    }\n",
       "\n",
       "    .dataframe tbody tr th {\n",
       "        vertical-align: top;\n",
       "    }\n",
       "\n",
       "    .dataframe thead th {\n",
       "        text-align: right;\n",
       "    }\n",
       "</style>\n",
       "<table border=\"1\" class=\"dataframe\">\n",
       "  <thead>\n",
       "    <tr style=\"text-align: right;\">\n",
       "      <th></th>\n",
       "      <th>0.00</th>\n",
       "      <th>0.25</th>\n",
       "      <th>0.50</th>\n",
       "      <th>0.75</th>\n",
       "      <th>1.00</th>\n",
       "    </tr>\n",
       "  </thead>\n",
       "  <tbody>\n",
       "    <tr>\n",
       "      <th>SO2</th>\n",
       "      <td>0.8</td>\n",
       "      <td>1.9</td>\n",
       "      <td>2.5</td>\n",
       "      <td>3.4</td>\n",
       "      <td>14.0</td>\n",
       "    </tr>\n",
       "    <tr>\n",
       "      <th>PM2.5</th>\n",
       "      <td>0.0</td>\n",
       "      <td>6.0</td>\n",
       "      <td>10.0</td>\n",
       "      <td>14.0</td>\n",
       "      <td>29.0</td>\n",
       "    </tr>\n",
       "  </tbody>\n",
       "</table>\n",
       "</div>"
      ],
      "text/plain": [
       "       0.00  0.25  0.50  0.75  1.00\n",
       "SO2     0.8   1.9   2.5   3.4  14.0\n",
       "PM2.5   0.0   6.0  10.0  14.0  29.0"
      ]
     },
     "execution_count": 18,
     "metadata": {},
     "output_type": "execute_result"
    }
   ],
   "source": [
    "fname = r'C:\\Data\\PyData\\AirQty2016-06-01_UTF8.csv'\n",
    "airQty = pd.read_csv(fname, sep=',', encoding='utf8', engine='python')\n",
    "\n",
    "print(airQty.shape[0])\n",
    "\n",
    "print(airQty.shape[1])\n",
    "\n",
    "print(airQty.columns)\n",
    "\n",
    "print(airQty['SO2'].isna().sum())\n",
    "print(airQty['CO'].isna().sum())\n",
    "print(airQty['O3'].isna().sum())\n",
    "print(airQty['PM10'].isna().sum())\n",
    "print(airQty['PM2.5'].isna().sum())\n",
    "\n",
    "so2 = airQty['SO2'].quantile(q=[0, 0.25, 0.5, 0.75, 1])\n",
    "pm25 = airQty['PM2.5'].quantile(q=[0, 0.25, 0.5, 0.75, 1])\n",
    "pd.concat([so2, pm25], axis=1, verify_integrity=True).T"
   ]
  },
  {
   "cell_type": "markdown",
   "metadata": {},
   "source": [
    "### <font color='blue'>第02題(25%) : 文字遊戲</font>\n",
    "<pre>\n",
    "古代密碼學，是使用文字位移方式來達到保護秘密資訊，並且共用一個金鑰(也就是一個字串)來達到加密、解密的功能\n",
    "例如：彼此雙方說好一組不能重複字母的字串(假設是 PYTHON)當成資訊的加、解密之用，\n",
    "\n",
    "A B C D E F G H I J K L M N O P Q R S T U V W X Y Z   ＜－ plaintext(明文)\n",
    "| | | | | | | | | | | | | | | | | | | | | | | | | |\n",
    "P Y T H O N A B C D E F G I J K L M Q R S U V W X Z   ＜－ ciphertext(密文)\n",
    "\n",
    "明文 : It's a Dog!!  【注意】全部先轉成大寫，再進行轉換(加密)\n",
    "密文 : CR'Q P HJA!!  【注意】若非26個字母不轉換，保留原來的文字\n",
    "\n",
    "</pre>\n",
    "\n",
    "#### <font color=blue>【提示】不一定要依據此方法</font>\n",
    "- 可以先創造兩個 dict 物件\n",
    "    - 一個是加密的dict物件，key就是明文，value就是密文\n",
    "    - 一個是解密的dict物件，key就是密文，value就是明文"
   ]
  },
  {
   "cell_type": "markdown",
   "metadata": {},
   "source": [
    "#### 【金鑰(key)示意圖】\n",
    "\n",
    "> <img src='http://180.218.162.136:2018/ExamImages/NTPU1102PythonMidExam/金鑰.JPG' width=600 align=left></img>"
   ]
  },
  {
   "cell_type": "code",
   "execution_count": 3,
   "metadata": {},
   "outputs": [],
   "source": [
    "import string"
   ]
  },
  {
   "cell_type": "code",
   "execution_count": 4,
   "metadata": {},
   "outputs": [],
   "source": [
    "def encrypt(plaintext, key) :\n",
    "    plaintext = plaintext.upper()\n",
    "    d1={}\n",
    "    a = string.ascii_uppercase\n",
    "    b = set(string.ascii_uppercase) - set(key)\n",
    "    b = list(b)\n",
    "    b.sort(key = a.index)\n",
    "\n",
    "    for i in range(26) :\n",
    "        if i<len(key) :\n",
    "            d1[a[i]] = key[i]\n",
    "        else :\n",
    "            d1[a[i]] = b[i-len(key)]\n",
    "            \n",
    "    d2 = {y: x for x, y in d1.items()}\n",
    "    \n",
    "    str=''\n",
    "    for i in range(len(plaintext)) :\n",
    "        if plaintext[i] not in d1 :\n",
    "            str += plaintext[i]\n",
    "        else :\n",
    "            str += d1.get(plaintext[i])\n",
    "    return str"
   ]
  },
  {
   "cell_type": "code",
   "execution_count": 5,
   "metadata": {},
   "outputs": [],
   "source": [
    "def decrypt(ciphertext, key) :\n",
    "    ciphertext = ciphertext.upper()\n",
    "    d1={}\n",
    "    a = string.ascii_uppercase\n",
    "    b = set(string.ascii_uppercase) - set(key)\n",
    "    b = list(b)\n",
    "    b.sort(key = a.index)\n",
    "\n",
    "    for i in range(26) :\n",
    "        if i<len(key) :\n",
    "            d1[a[i]] = key[i]\n",
    "        else :\n",
    "            d1[a[i]] = b[i-len(key)]\n",
    "            \n",
    "    d2 = {y: x for x, y in d1.items()}\n",
    "    \n",
    "    str=''\n",
    "    for i in range(len(ciphertext)) :\n",
    "        if ciphertext[i] not in d2 :\n",
    "            str += ciphertext[i]\n",
    "        else :\n",
    "            str += d2.get(ciphertext[i])\n",
    "    return str"
   ]
  },
  {
   "cell_type": "code",
   "execution_count": 6,
   "metadata": {},
   "outputs": [
    {
     "data": {
      "text/plain": [
       "'C FJUO RJ SQO KXRBJI!!'"
      ]
     },
     "execution_count": 6,
     "metadata": {},
     "output_type": "execute_result"
    }
   ],
   "source": [
    "encrypt(plaintext='I love to use Python!!', key='PYTHON')"
   ]
  },
  {
   "cell_type": "code",
   "execution_count": 7,
   "metadata": {},
   "outputs": [
    {
     "data": {
      "text/plain": [
       "'IT IS A GOOD DAY!!'"
      ]
     },
     "execution_count": 7,
     "metadata": {},
     "output_type": "execute_result"
    }
   ],
   "source": [
    "decrypt(ciphertext='CR CQ P AJJH HPX!!', key='PYTHON')"
   ]
  },
  {
   "cell_type": "markdown",
   "metadata": {},
   "source": [
    "### <font color='blue'>第03題(25%) : 基本網路資料擷取與字串操作</font>\n",
    "- 網站 : [公視新聞網](https://news.pts.org.tw/) : <https://news.pts.org.tw/>\n",
    "    - <b>該網站右上角的放大鏡，點下後即可搜尋關鍵字</b>\n",
    "    - <b>不用翻頁</b>\n",
    "- 搜尋關鍵字 : 蔣萬安、黃珊珊、陳時中\n",
    "- 函數名稱 : newsSearchByPTS(keyword, news_date=time.strftime(\"%Y-%m-%d\"))\n",
    "    - 【參數說明】\n",
    "        - keyword : 搜尋的關鍵字\n",
    "        - news_date : 指定新聞的日期，預設為當天日期\n",
    "            - 處理新聞日期時，要特別注意擷取回來的日期資料<b>很髒</b>，要特別處理\n",
    "    - 【回傳資料】pd.DataFrame，屬性與順序包括 : \n",
    "        - 新聞日期, 新聞標題, 新聞摘要, 超連結\n",
    "- 【執行時】必須有一個是採用預設日期，其他兩個指定某日期，但是必須是有資料的日期\n",
    "    - 如果三位台北市長候選人當天都沒有新聞，那全部就採用指定有資料的日期即可"
   ]
  },
  {
   "cell_type": "code",
   "execution_count": 8,
   "metadata": {},
   "outputs": [],
   "source": [
    "import numpy as np\n",
    "import pandas as pd\n",
    "\n",
    "import bs4\n",
    "from bs4 import BeautifulSoup\n",
    "import requests\n",
    "from IPython.display import clear_output"
   ]
  },
  {
   "cell_type": "code",
   "execution_count": 9,
   "metadata": {},
   "outputs": [],
   "source": [
    "def newsSearchByPTS(keyword, news_date=\"2022-11-16\") :\n",
    "    url = \" https://news.pts.org.tw/search/\" + keyword\n",
    "    resp = requests.request(method=\"GET\", url=url)\n",
    "    soup = BeautifulSoup(markup=resp.text, features=\"html.parser\")\n",
    "\n",
    "    nodes = soup.select(\"div > ul > li > div > h2 > a\")\n",
    "    titles = [node.text for node in nodes]\n",
    "    hrefs = [node.get('href') for node in nodes]\n",
    "\n",
    "    nodes = soup.select(\"div > ul > li > div > div > time\")\n",
    "    time = [node.text.replace(\"\\n\",\"\").replace(\"                                        \",\"\")[0:10] for node in nodes]\n",
    "\n",
    "    nodes = soup.select(\"div > ul > li > div > p\")\n",
    "    contents = [node.text.replace(\"\\n\", \"\").replace(\"                                    \",\"\") for node in nodes]\n",
    "\n",
    "    df = pd.DataFrame({'新聞日期':time,\n",
    "                       '新聞標題':titles,\n",
    "                       '新聞摘要':contents,\n",
    "                       '超連結':hrefs})\n",
    "    \n",
    "    return df[df['新聞日期']==news_date].reset_index(drop=True)"
   ]
  },
  {
   "cell_type": "code",
   "execution_count": 10,
   "metadata": {
    "scrolled": true
   },
   "outputs": [
    {
     "data": {
      "text/html": [
       "<div>\n",
       "<style scoped>\n",
       "    .dataframe tbody tr th:only-of-type {\n",
       "        vertical-align: middle;\n",
       "    }\n",
       "\n",
       "    .dataframe tbody tr th {\n",
       "        vertical-align: top;\n",
       "    }\n",
       "\n",
       "    .dataframe thead th {\n",
       "        text-align: right;\n",
       "    }\n",
       "</style>\n",
       "<table border=\"1\" class=\"dataframe\">\n",
       "  <thead>\n",
       "    <tr style=\"text-align: right;\">\n",
       "      <th></th>\n",
       "      <th>新聞日期</th>\n",
       "      <th>新聞標題</th>\n",
       "      <th>新聞摘要</th>\n",
       "      <th>超連結</th>\n",
       "    </tr>\n",
       "  </thead>\n",
       "  <tbody>\n",
       "    <tr>\n",
       "      <th>0</th>\n",
       "      <td>2022-11-16</td>\n",
       "      <td>九合一大選／辭立委被指未遞件 蔣萬安稱今可完成程序</td>\n",
       "      <td>政見發表最終回！無黨籍台北市長候選人黃珊珊，16日發布自信友善城市政見，討論客家精神文化、性...</td>\n",
       "      <td>https://news.pts.org.tw/article/609574</td>\n",
       "    </tr>\n",
       "  </tbody>\n",
       "</table>\n",
       "</div>"
      ],
      "text/plain": [
       "         新聞日期                       新聞標題  \\\n",
       "0  2022-11-16  九合一大選／辭立委被指未遞件 蔣萬安稱今可完成程序   \n",
       "\n",
       "                                                新聞摘要  \\\n",
       "0  政見發表最終回！無黨籍台北市長候選人黃珊珊，16日發布自信友善城市政見，討論客家精神文化、性...   \n",
       "\n",
       "                                      超連結  \n",
       "0  https://news.pts.org.tw/article/609574  "
      ]
     },
     "execution_count": 10,
     "metadata": {},
     "output_type": "execute_result"
    }
   ],
   "source": [
    "newsSearchByPTS(\"蔣萬安\")    # 使用預設日期(當天日期)"
   ]
  },
  {
   "cell_type": "code",
   "execution_count": 11,
   "metadata": {},
   "outputs": [
    {
     "data": {
      "text/html": [
       "<div>\n",
       "<style scoped>\n",
       "    .dataframe tbody tr th:only-of-type {\n",
       "        vertical-align: middle;\n",
       "    }\n",
       "\n",
       "    .dataframe tbody tr th {\n",
       "        vertical-align: top;\n",
       "    }\n",
       "\n",
       "    .dataframe thead th {\n",
       "        text-align: right;\n",
       "    }\n",
       "</style>\n",
       "<table border=\"1\" class=\"dataframe\">\n",
       "  <thead>\n",
       "    <tr style=\"text-align: right;\">\n",
       "      <th></th>\n",
       "      <th>新聞日期</th>\n",
       "      <th>新聞標題</th>\n",
       "      <th>新聞摘要</th>\n",
       "      <th>超連結</th>\n",
       "    </tr>\n",
       "  </thead>\n",
       "  <tbody>\n",
       "    <tr>\n",
       "      <th>0</th>\n",
       "      <td>2022-11-12</td>\n",
       "      <td>九合一大選／北市長公辦政見會  12候選人闡述政見理念</td>\n",
       "      <td>台北市長選舉公辦首場政見會，12位候選人全部到齊，藍綠白談政見，蔣萬安提出「好好工作、好好生...</td>\n",
       "      <td>https://news.pts.org.tw/article/609044</td>\n",
       "    </tr>\n",
       "    <tr>\n",
       "      <th>1</th>\n",
       "      <td>2022-11-12</td>\n",
       "      <td>九合一選舉／蔣萬安陳時中再交鋒防疫 黃珊珊駁「一城不變」</td>\n",
       "      <td>台北市長候選人政見發表會，第一場次今（12）日登場，候選人各自闡述政見，爭取選民認同，國民黨...</td>\n",
       "      <td>https://news.pts.org.tw/article/609038</td>\n",
       "    </tr>\n",
       "    <tr>\n",
       "      <th>2</th>\n",
       "      <td>2022-11-12</td>\n",
       "      <td>九合一大選／台北市長候選人政見發表會登場 12人各半小時申論</td>\n",
       "      <td>台北市長選舉共12位候選人參選，因此政見發表會分成兩場，分別在11月12、15日上午10點0...</td>\n",
       "      <td>https://news.pts.org.tw/article/609029</td>\n",
       "    </tr>\n",
       "  </tbody>\n",
       "</table>\n",
       "</div>"
      ],
      "text/plain": [
       "         新聞日期                            新聞標題  \\\n",
       "0  2022-11-12     九合一大選／北市長公辦政見會  12候選人闡述政見理念   \n",
       "1  2022-11-12    九合一選舉／蔣萬安陳時中再交鋒防疫 黃珊珊駁「一城不變」   \n",
       "2  2022-11-12  九合一大選／台北市長候選人政見發表會登場 12人各半小時申論   \n",
       "\n",
       "                                                新聞摘要  \\\n",
       "0  台北市長選舉公辦首場政見會，12位候選人全部到齊，藍綠白談政見，蔣萬安提出「好好工作、好好生...   \n",
       "1  台北市長候選人政見發表會，第一場次今（12）日登場，候選人各自闡述政見，爭取選民認同，國民黨...   \n",
       "2  台北市長選舉共12位候選人參選，因此政見發表會分成兩場，分別在11月12、15日上午10點0...   \n",
       "\n",
       "                                      超連結  \n",
       "0  https://news.pts.org.tw/article/609044  \n",
       "1  https://news.pts.org.tw/article/609038  \n",
       "2  https://news.pts.org.tw/article/609029  "
      ]
     },
     "execution_count": 11,
     "metadata": {},
     "output_type": "execute_result"
    }
   ],
   "source": [
    "newsSearchByPTS(\"黃珊珊\", \"2022-11-12\")    # 自行更改一個特定日期，必須執行有資料"
   ]
  },
  {
   "cell_type": "code",
   "execution_count": 12,
   "metadata": {
    "scrolled": true
   },
   "outputs": [
    {
     "data": {
      "text/html": [
       "<div>\n",
       "<style scoped>\n",
       "    .dataframe tbody tr th:only-of-type {\n",
       "        vertical-align: middle;\n",
       "    }\n",
       "\n",
       "    .dataframe tbody tr th {\n",
       "        vertical-align: top;\n",
       "    }\n",
       "\n",
       "    .dataframe thead th {\n",
       "        text-align: right;\n",
       "    }\n",
       "</style>\n",
       "<table border=\"1\" class=\"dataframe\">\n",
       "  <thead>\n",
       "    <tr style=\"text-align: right;\">\n",
       "      <th></th>\n",
       "      <th>新聞日期</th>\n",
       "      <th>新聞標題</th>\n",
       "      <th>新聞摘要</th>\n",
       "      <th>超連結</th>\n",
       "    </tr>\n",
       "  </thead>\n",
       "  <tbody>\n",
       "    <tr>\n",
       "      <th>0</th>\n",
       "      <td>2022-11-05</td>\n",
       "      <td>北市候選人辯論會／煙硝味濃 從防疫辯到大巨蛋、少子化</td>\n",
       "      <td>台北市長選舉首場辯論會登場，藍綠白3組候選人同場較勁，黃珊珊一身白西裝，蔣萬安和陳時中則都選...</td>\n",
       "      <td>https://news.pts.org.tw/article/608001</td>\n",
       "    </tr>\n",
       "  </tbody>\n",
       "</table>\n",
       "</div>"
      ],
      "text/plain": [
       "         新聞日期                         新聞標題  \\\n",
       "0  2022-11-05  北市候選人辯論會／煙硝味濃 從防疫辯到大巨蛋、少子化    \n",
       "\n",
       "                                                新聞摘要  \\\n",
       "0  台北市長選舉首場辯論會登場，藍綠白3組候選人同場較勁，黃珊珊一身白西裝，蔣萬安和陳時中則都選...   \n",
       "\n",
       "                                      超連結  \n",
       "0  https://news.pts.org.tw/article/608001  "
      ]
     },
     "execution_count": 12,
     "metadata": {},
     "output_type": "execute_result"
    }
   ],
   "source": [
    "newsSearchByPTS(\"陳時中\", \"2022-11-05\")    # 自行更改一個特定日期，必須執行有資料"
   ]
  },
  {
   "cell_type": "code",
   "execution_count": null,
   "metadata": {},
   "outputs": [],
   "source": []
  },
  {
   "cell_type": "markdown",
   "metadata": {},
   "source": [
    "### <font color='blue'>第04題(25%)</font>\n",
    "- 網站 : [東吳大學推廣部](https://www.ext.scu.edu.tw/) : <https://www.ext.scu.edu.tw/>\n",
    "    - <b>該網站右上角填入關鍵字，按放大鏡即可搜尋</b>\n",
    "    - <b>不用考慮翻頁</b>\n",
    "- 搜尋關鍵字 : 陳祥輝、劉文琇、陳小灰\n",
    "- 函數名稱 : queryCouresByTeacherName(name)\n",
    "    - 【參數說明】\n",
    "        - name : 搜尋的關鍵字\n",
    "    - 【回傳資料】list，內容 : \n",
    "        - 課程名稱\n",
    "- 【執行時】\n",
    "    - 如果查到開課資料，就直接將課程名稱，採用 list 回傳\n",
    "    - 如果查不到開課資料，就回傳 : 查無開課資料"
   ]
  },
  {
   "cell_type": "code",
   "execution_count": 13,
   "metadata": {},
   "outputs": [],
   "source": [
    "import numpy as np\n",
    "import pandas as pd\n",
    "\n",
    "import bs4\n",
    "from bs4 import BeautifulSoup\n",
    "import requests\n",
    "from IPython.display import clear_output"
   ]
  },
  {
   "cell_type": "code",
   "execution_count": 14,
   "metadata": {},
   "outputs": [],
   "source": [
    "def queryCouresByTeacherName(name) :\n",
    "    url = \"https://www.ext.scu.edu.tw/courses_search.php?key=\" + name\n",
    "    payloads = {\"key\":\"name\"}\n",
    "    resp = requests.request(method=\"GET\", url=url, data=payloads)\n",
    "    soup = BeautifulSoup(markup=resp.text, features=\"html.parser\")\n",
    "    nodes = soup.select(\"div > table > tbody > tr > td.class > a\")\n",
    "    ans = [node.text for node in nodes]\n",
    "    if len(ans)==0 :\n",
    "        return '查無開課資料'\n",
    "    else :\n",
    "        return ans"
   ]
  },
  {
   "cell_type": "code",
   "execution_count": 15,
   "metadata": {},
   "outputs": [
    {
     "data": {
      "text/plain": [
       "['推薦【線上課程】Python網路爬蟲( 123期 )',\n",
       " '推薦【線上課程】SQL Server之T-SQL程式開發（SQL進階班）( 123期 )',\n",
       " '熱門【線上課程】Python基礎程式設計( 123期 )',\n",
       " '推薦【線上課程】Python實作AI機器學習入門( 123期 )',\n",
       " '熱門【線上課程】SQL Server之SQL結構化查詢語言（基礎班）( 123期 )']"
      ]
     },
     "execution_count": 15,
     "metadata": {},
     "output_type": "execute_result"
    }
   ],
   "source": [
    "queryCouresByTeacherName(\"陳祥輝\")"
   ]
  },
  {
   "cell_type": "code",
   "execution_count": 16,
   "metadata": {},
   "outputs": [
    {
     "data": {
      "text/plain": [
       "['推薦【實體/ 線上同步】【國際證照營】MOS—Excel 2019_Expert( 123期 )',\n",
       " '推薦【實體/ 線上同步】【國際證照營】MOS—Excel 2019_Associate( 123期 )',\n",
       " '確定開課【實體/ 線上同步】Excel從入門到達人—樞紐數據分析（假日班）( 123期 )',\n",
       " '推薦【實體/ 線上同步】【國際證照營】MOS—Word 2019_Expert( 123期 )']"
      ]
     },
     "execution_count": 16,
     "metadata": {},
     "output_type": "execute_result"
    }
   ],
   "source": [
    "queryCouresByTeacherName(\"劉文琇\")"
   ]
  },
  {
   "cell_type": "code",
   "execution_count": 17,
   "metadata": {},
   "outputs": [
    {
     "data": {
      "text/plain": [
       "'查無開課資料'"
      ]
     },
     "execution_count": 17,
     "metadata": {},
     "output_type": "execute_result"
    }
   ],
   "source": [
    "queryCouresByTeacherName(\"陳小灰\")"
   ]
  },
  {
   "cell_type": "code",
   "execution_count": null,
   "metadata": {},
   "outputs": [],
   "source": []
  },
  {
   "cell_type": "markdown",
   "metadata": {},
   "source": [
    "### <font color=red>各題執行後的 <u>參考</u> 結果</font>\n",
    "- <b>由於網站資料隨時都在異動，所以你(妳)執行出來的結果，很有可能與老師的 參考結果 不同，這是正常情況</b>"
   ]
  },
  {
   "cell_type": "markdown",
   "metadata": {},
   "source": [
    "#### <font color=blue>【第01題】節行後結果</font>   \n",
    "<img src='http://180.218.162.136:2018/Images/midExam1111/midExam01【執行結果】.jpg' width=700 align=left></img>"
   ]
  },
  {
   "cell_type": "markdown",
   "metadata": {},
   "source": [
    "#### <font color=blue>【第02題】節行後結果</font>   \n",
    "\n",
    "<img src='http://180.218.162.136:2018/Images/midExam1111/midExam02【執行結果】.jpg' width=500 align=left></img>"
   ]
  },
  {
   "cell_type": "markdown",
   "metadata": {},
   "source": [
    "#### <font color=blue>【第03題】節行後結果</font>   \n",
    "\n",
    "<img src='http://180.218.162.136:2018/Images/midExam1111/midExam03【執行結果】.jpg' width=800 align=left></img>"
   ]
  },
  {
   "cell_type": "markdown",
   "metadata": {},
   "source": [
    "#### <font color=blue>【第04題】節行後結果</font>   \n",
    "\n",
    "<img src='http://180.218.162.136:2018/Images/midExam1111/midExam04【執行結果】.jpg' width=600 align=left></img>"
   ]
  }
 ],
 "metadata": {
  "kernelspec": {
   "display_name": "Python 3 (ipykernel)",
   "language": "python",
   "name": "python3"
  },
  "language_info": {
   "codemirror_mode": {
    "name": "ipython",
    "version": 3
   },
   "file_extension": ".py",
   "mimetype": "text/x-python",
   "name": "python",
   "nbconvert_exporter": "python",
   "pygments_lexer": "ipython3",
   "version": "3.10.9"
  }
 },
 "nbformat": 4,
 "nbformat_minor": 4
}
